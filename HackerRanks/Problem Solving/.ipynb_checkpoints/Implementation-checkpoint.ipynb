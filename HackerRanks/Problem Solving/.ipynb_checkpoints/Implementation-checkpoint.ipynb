{
 "cells": [
  {
   "cell_type": "markdown",
   "metadata": {},
   "source": [
    "# Grading Students\n",
    "\n",
    "https://www.hackerrank.com/challenges/grading/problem"
   ]
  },
  {
   "cell_type": "code",
   "execution_count": 2,
   "metadata": {},
   "outputs": [
    {
     "name": "stdout",
     "output_type": "stream",
     "text": [
      "4\n",
      "73\n",
      "67\n",
      "38\n",
      "33\n",
      "[75, 67, 40, 33]\n"
     ]
    }
   ],
   "source": [
    "#!/bin/python3\n",
    "\n",
    "import math\n",
    "import os\n",
    "import random\n",
    "import re\n",
    "import sys\n",
    "\n",
    "#\n",
    "# Complete the 'gradingStudents' function below.\n",
    "#\n",
    "# The function is expected to return an INTEGER_ARRAY.\n",
    "# The function accepts INTEGER_ARRAY grades as parameter.\n",
    "#\n",
    "\n",
    "def gradingStudents(grades):\n",
    "    a = []\n",
    "    for i in grades:\n",
    "        if i <= 37:\n",
    "            a.append(i)\n",
    "        else:\n",
    "            if 5-(i%5) >= 3:\n",
    "                a.append(i)\n",
    "            else:\n",
    "                a.append(5*((i//5)+1))\n",
    "    print(a)\n",
    "    return a\n",
    "\n",
    "n = int(input().strip())\n",
    "\n",
    "grades = []\n",
    "\n",
    "for _ in range(n):\n",
    "    grades_item = int(input().strip())\n",
    "    grades.append(grades_item)\n",
    "\n",
    "result = gradingStudents(grades)\n"
   ]
  },
  {
   "cell_type": "markdown",
   "metadata": {},
   "source": [
    "# Apple and Orange\n",
    "\n",
    "https://www.hackerrank.com/challenges/apple-and-orange/problem"
   ]
  },
  {
   "cell_type": "code",
   "execution_count": 3,
   "metadata": {},
   "outputs": [
    {
     "name": "stdout",
     "output_type": "stream",
     "text": [
      "7 11\n",
      "5 15\n",
      "3 2\n",
      "-2 2 1\n",
      "5 -6\n",
      "1\n",
      "1\n"
     ]
    }
   ],
   "source": [
    "import math\n",
    "import os\n",
    "import random\n",
    "import re\n",
    "import sys\n",
    "\n",
    "# Complete the countApplesAndOranges function below.\n",
    "def countApplesAndOranges(s, t, a, b, apples, oranges):\n",
    "    apples = [x + a for x in apples]\n",
    "    oranges = [x + b for x in oranges]\n",
    "    apples.sort()\n",
    "    oranges.sort()\n",
    "    A = sum(list(map(lambda x : (x >= s) & (x <= t) , apples)))\n",
    "    B = sum(list(map(lambda x : (x >= s) & (x <= t) , oranges)))\n",
    "    print(A)\n",
    "    print(B)\n",
    "    \n",
    "st = input().split()\n",
    "\n",
    "s = int(st[0])\n",
    "\n",
    "t = int(st[1])\n",
    "\n",
    "ab = input().split()\n",
    "\n",
    "a = int(ab[0])\n",
    "\n",
    "b = int(ab[1])\n",
    "\n",
    "mn = input().split()\n",
    "\n",
    "m = int(mn[0])\n",
    "\n",
    "n = int(mn[1])\n",
    "\n",
    "apples = list(map(int, input().rstrip().split()))\n",
    "\n",
    "oranges = list(map(int, input().rstrip().split()))\n",
    "\n",
    "countApplesAndOranges(s, t, a, b, apples, oranges)"
   ]
  },
  {
   "cell_type": "markdown",
   "metadata": {},
   "source": [
    "#  Kangaroo\n",
    "\n",
    "https://www.hackerrank.com/challenges/kangaroo/problem"
   ]
  },
  {
   "cell_type": "code",
   "execution_count": 4,
   "metadata": {},
   "outputs": [
    {
     "name": "stdout",
     "output_type": "stream",
     "text": [
      "0 2 5 3\n",
      "NO\n"
     ]
    }
   ],
   "source": [
    "#!/bin/python3\n",
    "\n",
    "import math\n",
    "import os\n",
    "import random\n",
    "import re\n",
    "import sys\n",
    "\n",
    "# Complete the kangaroo function below.\n",
    "def kangaroo(x1, v1, x2, v2):\n",
    "    if x1 > x2:\n",
    "        a = x1\n",
    "        x1 = x2\n",
    "        x2 = a\n",
    "        b = v1\n",
    "        v1 = v2\n",
    "        v2 = b\n",
    "    if x1 == x2 and v1 != v2:\n",
    "        print('NO')\n",
    "        return 'NO'\n",
    "    elif x1 == x2 and v1 == v2:\n",
    "        print('YES')\n",
    "        return 'YES'\n",
    "    else:\n",
    "        if v1 <= v2:\n",
    "            print('NO')\n",
    "            return 'NO'\n",
    "        elif v1 > v2:\n",
    "            while x1<x2:\n",
    "                x1 = x1+v1\n",
    "                x2 = x2+v2\n",
    "            if x1 == x2:\n",
    "                print('YES')\n",
    "                return 'YES'\n",
    "            else:\n",
    "                print('NO')\n",
    "                return 'NO'\n",
    "\n",
    "x1V1X2V2 = input().split()\n",
    "\n",
    "x1 = int(x1V1X2V2[0])\n",
    "\n",
    "v1 = int(x1V1X2V2[1])\n",
    "\n",
    "x2 = int(x1V1X2V2[2])\n",
    "\n",
    "v2 = int(x1V1X2V2[3])\n",
    "\n",
    "result = kangaroo(x1, v1, x2, v2)\n",
    "\n"
   ]
  },
  {
   "cell_type": "markdown",
   "metadata": {},
   "source": [
    "# Breaking the Records\n",
    "\n",
    "https://www.hackerrank.com/challenges/breaking-best-and-worst-records/problem"
   ]
  },
  {
   "cell_type": "code",
   "execution_count": 10,
   "metadata": {},
   "outputs": [
    {
     "name": "stdout",
     "output_type": "stream",
     "text": [
      "10\n",
      "3 4 21 36 10 28 35 5 24 42\n",
      "4 0\n"
     ]
    }
   ],
   "source": [
    "#!/bin/python3\n",
    "\n",
    "import math\n",
    "import os\n",
    "import random\n",
    "import re\n",
    "import sys\n",
    "\n",
    "# Complete the breakingRecords function below.\n",
    "def breakingRecords(scores):\n",
    "    mnctr = 0\n",
    "    mxctr = 0\n",
    "    mn = 0\n",
    "    mx = 0\n",
    "    for i in range(len(scores)):\n",
    "        if i == 0:\n",
    "            mx = scores[i]\n",
    "            mn = scores[i]\n",
    "        else:\n",
    "            if scores[i] < mn:\n",
    "                mn = scores[i]\n",
    "                mnctr = mnctr + 1\n",
    "            elif scores[i] > mx:\n",
    "                mx = scores[i]\n",
    "                mxctr = mxctr + 1\n",
    "    print(mxctr,mnctr)\n",
    "\n",
    "n = int(input())\n",
    "\n",
    "scores = list(map(int, input().rstrip().split()))\n",
    "\n",
    "result = breakingRecords(scores)\n"
   ]
  },
  {
   "cell_type": "markdown",
   "metadata": {},
   "source": [
    "# Birthday Chocolate\n",
    "\n",
    "https://www.hackerrank.com/challenges/the-birthday-bar/problem"
   ]
  },
  {
   "cell_type": "code",
   "execution_count": 1,
   "metadata": {},
   "outputs": [
    {
     "name": "stdout",
     "output_type": "stream",
     "text": [
      "5\n",
      "1 2 1 3 2\n",
      "3 2\n",
      "2\n"
     ]
    }
   ],
   "source": [
    "import math\n",
    "import os\n",
    "import random\n",
    "import re\n",
    "import sys\n",
    "\n",
    "\n",
    "def birthday(arr, d, m):\n",
    "  \n",
    "    # the final power set\n",
    "    powers = []\n",
    "    \n",
    "  \n",
    "    # the total number of sets that the power set will contain\n",
    "    total = int(math.pow(2, len(arr)))\n",
    "  \n",
    "    # loop through each value from 0 to 2^n\n",
    "    for i in range(0, total):\n",
    "    \n",
    "      # our set that we add to the power set\n",
    "        tempSet = []\n",
    "    \n",
    "      # convert the integer to binary\n",
    "        num = \"{0:b}\".format(i)\n",
    "    \n",
    "      # pad the binary number so 1 becomes 001 for example\n",
    "        while len(num) < len(arr):\n",
    "            num = '0' + num\n",
    "      \n",
    "      # build the set that matches the 1's in the binary number\n",
    "        for b in range(0, len(num)):\n",
    "            if num[b] == '1':\n",
    "                tempSet.append(arr[b])\n",
    "        if sum(tempSet) == d and len(tempSet) == m:\n",
    "            if tempSet not in powers:\n",
    "                powers.append(tempSet)\n",
    "    print(len(powers))\n",
    "        \n",
    "\n",
    "n = int(input().strip())\n",
    "\n",
    "s = list(map(int, input().rstrip().split()))\n",
    "\n",
    "dm = input().rstrip().split()\n",
    "\n",
    "d = int(dm[0])\n",
    "\n",
    "m = int(dm[1])\n",
    "\n",
    "result = birthday(s, d, m)\n",
    "\n",
    "result"
   ]
  },
  {
   "cell_type": "code",
   "execution_count": 6,
   "metadata": {},
   "outputs": [
    {
     "name": "stdout",
     "output_type": "stream",
     "text": [
      "5\n",
      "1 2 1 3 2\n",
      "3 2 \n",
      "2\n"
     ]
    }
   ],
   "source": [
    "# The catch was that the pieces need to be consecutive pieces\n",
    "\n",
    "import math\n",
    "import os\n",
    "import random\n",
    "import re\n",
    "import sys\n",
    "\n",
    "\n",
    "def birthday(arr, d, m):\n",
    "    ctr = 0\n",
    "    for i in range(len(arr)-m+1):\n",
    "        if sum(arr[i:i+m]) == d:\n",
    "            ctr = ctr + 1\n",
    "    print(ctr)\n",
    "    \n",
    "n = int(input().strip())\n",
    "\n",
    "s = list(map(int, input().rstrip().split()))\n",
    "\n",
    "dm = input().rstrip().split()\n",
    "\n",
    "d = int(dm[0])\n",
    "\n",
    "m = int(dm[1])\n",
    "\n",
    "result = birthday(s, d, m)\n",
    "\n",
    "result"
   ]
  },
  {
   "cell_type": "markdown",
   "metadata": {},
   "source": [
    "# Between Two Sets\n",
    "\n",
    "https://www.hackerrank.com/challenges/between-two-sets/problem"
   ]
  },
  {
   "cell_type": "code",
   "execution_count": 55,
   "metadata": {},
   "outputs": [
    {
     "name": "stdout",
     "output_type": "stream",
     "text": [
      "10 10\n",
      "100 99 98 97 96 95 94 93 92 91\n",
      "1 2 3 4 5 6 7 8 9 10\n",
      "0\n"
     ]
    }
   ],
   "source": [
    "#!/bin/python3\n",
    "\n",
    "import math\n",
    "import os\n",
    "import random\n",
    "import re\n",
    "import sys\n",
    "import pandas as pd\n",
    "\n",
    "#\n",
    "# Complete the 'getTotalX' function below.\n",
    "#\n",
    "# The function is expected to return an INTEGER.\n",
    "# The function accepts following parameters:\n",
    "#  1. INTEGER_ARRAY a\n",
    "#  2. INTEGER_ARRAY b\n",
    "#\n",
    "\n",
    "def getTotalX(a, b):\n",
    "    c = []\n",
    "    for i in range(1,min(b)+1):\n",
    "        if sum([x % i for x in b]) == 0:\n",
    "            c.append(i)\n",
    "    d = []\n",
    "    for i in a:\n",
    "        for j in c:\n",
    "            if j % i == 0:\n",
    "                d.append(j)\n",
    "                \n",
    "# This uses Pandas but Hackerranks does not let you use Pandas.\n",
    "    \"\"\"d = pd.Series(d)\n",
    "    d = d.value_counts().value_counts()\n",
    "    #d = pd.DataFrame(d)\n",
    "    print(max(d))\"\"\"\n",
    "    s = set(d)\n",
    "    ct = []\n",
    "    for i in s:\n",
    "        ct.append(d.count(i))\n",
    "    #print(ct)\n",
    "    print(ct.count(max(ct, default=99)))\n",
    "\n",
    "first_multiple_input = input().rstrip().split()\n",
    "\n",
    "n = int(first_multiple_input[0])\n",
    "\n",
    "m = int(first_multiple_input[1])\n",
    "\n",
    "arr = list(map(int, input().rstrip().split()))\n",
    "\n",
    "brr = list(map(int, input().rstrip().split()))\n",
    "\n",
    "total = getTotalX(arr, brr)\n",
    "\n",
    "# 10 10\n",
    "# 100 99 98 97 96 95 94 93 92 91\n",
    "# 1 2 3 4 5 6 7 8 9 10\n"
   ]
  },
  {
   "cell_type": "markdown",
   "metadata": {},
   "source": [
    "# Divisible Sum Pairs\n",
    "\n",
    "https://www.hackerrank.com/challenges/divisible-sum-pairs/problem"
   ]
  },
  {
   "cell_type": "code",
   "execution_count": 57,
   "metadata": {},
   "outputs": [
    {
     "name": "stdout",
     "output_type": "stream",
     "text": [
      "6 3 \n",
      "1 3 2 6 1 2\n",
      "5\n"
     ]
    }
   ],
   "source": [
    "#!/bin/python3\n",
    "\n",
    "import math\n",
    "import os\n",
    "import random\n",
    "import re\n",
    "import sys\n",
    "\n",
    "# Complete the divisibleSumPairs function below.\n",
    "def divisibleSumPairs(n, k, ar):\n",
    "    ctr = 0\n",
    "    for i in range(n-1):\n",
    "        for j in range(i+1,n):\n",
    "            if (ar[i]+ar[j]) % k == 0:\n",
    "                ctr = ctr +1\n",
    "    print(ctr)\n",
    "\n",
    "nk = input().split()\n",
    "\n",
    "n = int(nk[0])\n",
    "\n",
    "k = int(nk[1])\n",
    "\n",
    "ar = list(map(int, input().rstrip().split()))\n",
    "\n",
    "result = divisibleSumPairs(n, k, ar)\n",
    "\n"
   ]
  },
  {
   "cell_type": "markdown",
   "metadata": {},
   "source": [
    "# Migratory Birds\n",
    "\n",
    "https://www.hackerrank.com/challenges/migratory-birds/problem"
   ]
  },
  {
   "cell_type": "code",
   "execution_count": 69,
   "metadata": {},
   "outputs": [
    {
     "name": "stdout",
     "output_type": "stream",
     "text": [
      "11\n",
      "1 2 3 4 5 4 3 2 1 3 4\n",
      "3\n"
     ]
    }
   ],
   "source": [
    "#!/bin/python3\n",
    "\n",
    "import math\n",
    "import os\n",
    "import random\n",
    "import re\n",
    "import sys\n",
    "\n",
    "# Complete the migratoryBirds function below.\n",
    "def migratoryBirds(arr):\n",
    "    a = sorted(set(arr))\n",
    "    b = []\n",
    "    for i in a:\n",
    "        b.append(arr.count(i))\n",
    "    indices = [i for i, x in enumerate(b) if x == max(b)]\n",
    "    e = []\n",
    "    for i in indices:\n",
    "        e.append(a[i])\n",
    "    print(min(e))\n",
    "\n",
    "arr_count = int(input().strip())\n",
    "\n",
    "arr = list(map(int, input().rstrip().split()))\n",
    "\n",
    "result = migratoryBirds(arr)\n",
    "\n",
    "# 11\n",
    "# 1 2 3 4 5 4 3 2 1 3 4\n"
   ]
  },
  {
   "cell_type": "markdown",
   "metadata": {},
   "source": [
    "# Day of the Programmer\n",
    "\n",
    "https://www.hackerrank.com/challenges/day-of-the-programmer/problem"
   ]
  },
  {
   "cell_type": "code",
   "execution_count": 2,
   "metadata": {},
   "outputs": [
    {
     "name": "stdout",
     "output_type": "stream",
     "text": [
      "1918\n"
     ]
    },
    {
     "data": {
      "text/plain": [
       "'26.09.1918'"
      ]
     },
     "execution_count": 2,
     "metadata": {},
     "output_type": "execute_result"
    }
   ],
   "source": [
    "#!/bin/python3\n",
    "\n",
    "import math\n",
    "import os\n",
    "import random\n",
    "import re\n",
    "import sys\n",
    "\n",
    "# Complete the dayOfProgrammer function below.\n",
    "def dayOfProgrammer(year):\n",
    "    a = []\n",
    "    if year == 1918:\n",
    "        a = '26.09.1918'\n",
    "    elif year > 1918:\n",
    "        if (year % 400 == 0) or (year % 4 == 0 and year % 100 != 0):\n",
    "            a = '12.09.'+ str(year)\n",
    "        else:\n",
    "            a = '13.09.'+ str(year)       \n",
    "    elif year < 1918:\n",
    "        if year % 4 == 0:\n",
    "            a = '12.09.'+ str(year)\n",
    "        else:\n",
    "            a = '13.09.'+ str(year)  \n",
    "    return a\n",
    "\n",
    "\n",
    "\n",
    "year = int(input().strip())\n",
    "\n",
    "result = dayOfProgrammer(year)\n",
    "result\n",
    "\n"
   ]
  },
  {
   "cell_type": "markdown",
   "metadata": {},
   "source": [
    "# Bon Appétit\n",
    "\n",
    "https://www.hackerrank.com/challenges/bon-appetit/problem"
   ]
  },
  {
   "cell_type": "code",
   "execution_count": 14,
   "metadata": {},
   "outputs": [
    {
     "name": "stdout",
     "output_type": "stream",
     "text": [
      "4 1 \n",
      "3 10 2 9\n",
      "12\n",
      "5\n"
     ]
    }
   ],
   "source": [
    "#!/bin/python3\n",
    "\n",
    "import math\n",
    "import os\n",
    "import random\n",
    "import re\n",
    "import sys\n",
    "\n",
    "# Complete the bonAppetit function below.\n",
    "def bonAppetit(bill, k, b):\n",
    "    if (sum(bill)-bill[k])/2 == b:\n",
    "        print('Bon Appetit')\n",
    "    else:\n",
    "        print(int(bill[k]/2))\n",
    "\n",
    "    \n",
    "\n",
    "\n",
    "nk = input().rstrip().split()\n",
    "    \n",
    "n = int(nk[0])\n",
    "\n",
    "k = int(nk[1])\n",
    "\n",
    "bill = list(map(int, input().rstrip().split()))\n",
    "\n",
    "b = int(input().strip())\n",
    "\n",
    "bonAppetit(bill, k, b)\n",
    "\n",
    "# 4 1\n",
    "# 3 10 2 9\n",
    "# 7\n",
    "# 12\n"
   ]
  },
  {
   "cell_type": "markdown",
   "metadata": {},
   "source": [
    "# Sock Merchant\n",
    "\n",
    "https://www.hackerrank.com/challenges/sock-merchant/problem"
   ]
  },
  {
   "cell_type": "code",
   "execution_count": 22,
   "metadata": {},
   "outputs": [
    {
     "name": "stdout",
     "output_type": "stream",
     "text": [
      "9\n",
      "10 20 20 10 10 30 50 10 20\n",
      "3\n"
     ]
    }
   ],
   "source": [
    "#!/bin/python3\n",
    "\n",
    "import math\n",
    "import os\n",
    "import random\n",
    "import re\n",
    "import sys\n",
    "\n",
    "# Complete the sockMerchant function below.\n",
    "def sockMerchant(n, ar):\n",
    "    s = set(ar)\n",
    "    a = []\n",
    "    for i in s:\n",
    "        a.append(ar.count(i))\n",
    "    c = 0\n",
    "    for i in a:\n",
    "        c = c + i//2\n",
    "    print(c)\n",
    "\n",
    "n = int(input())\n",
    "\n",
    "ar = list(map(int, input().rstrip().split()))\n",
    "\n",
    "result = sockMerchant(n, ar)\n",
    "\n",
    "# 9\n",
    "# 10 20 20 10 10 30 50 10 20"
   ]
  },
  {
   "cell_type": "markdown",
   "metadata": {},
   "source": [
    "# Drawing Book\n",
    "\n",
    "https://www.hackerrank.com/challenges/drawing-book/problem"
   ]
  },
  {
   "cell_type": "code",
   "execution_count": 10,
   "metadata": {},
   "outputs": [
    {
     "name": "stdout",
     "output_type": "stream",
     "text": [
      "6\n",
      "2\n",
      "1\n"
     ]
    }
   ],
   "source": [
    "#!/bin/python3\n",
    "\n",
    "import os\n",
    "import sys\n",
    "\n",
    "#\n",
    "# Complete the pageCount function below.\n",
    "#\n",
    "def pageCount(n, p):\n",
    "    if (p//2) <= ((n//2)-(p//2)):\n",
    "        print(p//2)\n",
    "    else:\n",
    "        print((n//2)-(p//2))\n",
    "    \n",
    "    \n",
    "\n",
    "\n",
    "n = int(input())\n",
    "\n",
    "p = int(input())\n",
    "\n",
    "result = pageCount(n, p)\n"
   ]
  },
  {
   "cell_type": "markdown",
   "metadata": {},
   "source": [
    "# Counting Valleys\n",
    "\n",
    "https://www.hackerrank.com/challenges/counting-valleys/problem"
   ]
  },
  {
   "cell_type": "code",
   "execution_count": 17,
   "metadata": {},
   "outputs": [
    {
     "name": "stdout",
     "output_type": "stream",
     "text": [
      "2 1\n"
     ]
    }
   ],
   "source": [
    "#!/bin/python3\n",
    "\n",
    "import math\n",
    "import os\n",
    "import random\n",
    "import re\n",
    "import sys\n",
    "\n",
    "# Complete the countingValleys function below.\n",
    "def countingValleys(n, s):\n",
    "    SL = 0\n",
    "    VL = 0\n",
    "    MT = 0\n",
    "    for i in s:\n",
    "        if SL == 0: \n",
    "            if i == 'U':\n",
    "                SL = SL + 1\n",
    "                MT = MT + 1\n",
    "            else:\n",
    "                SL = SL - 1\n",
    "                VL = VL + 1\n",
    "        else:\n",
    "            if i == 'U':\n",
    "                SL = SL + 1\n",
    "            else:\n",
    "                SL = SL - 1\n",
    "    print(VL,MT)\n",
    "\n",
    "\n",
    "n = int(12) #int(input())\n",
    "\n",
    "s = list('DDUUDDUDUUUD') #input())\n",
    "\n",
    "result = countingValleys(n, s)\n"
   ]
  },
  {
   "cell_type": "markdown",
   "metadata": {},
   "source": [
    "# Electronics Shop\n",
    "\n",
    "https://www.hackerrank.com/challenges/electronics-shop/problem"
   ]
  },
  {
   "cell_type": "code",
   "execution_count": null,
   "metadata": {},
   "outputs": [],
   "source": [
    "#!/bin/python3\n",
    "\n",
    "import os\n",
    "import sys\n",
    "\n",
    "#\n",
    "# Complete the getMoneySpent function below.\n",
    "#\n",
    "def getMoneySpent(keyboards, drives, b):\n",
    "    #\n",
    "    # Write your code here.\n",
    "    #\n",
    "\n",
    "if __name__ == '__main__':\n",
    "    fptr = open(os.environ['OUTPUT_PATH'], 'w')\n",
    "\n",
    "    bnm = input().split()\n",
    "\n",
    "    b = int(bnm[0])\n",
    "\n",
    "    n = int(bnm[1])\n",
    "\n",
    "    m = int(bnm[2])\n",
    "\n",
    "    keyboards = list(map(int, input().rstrip().split()))\n",
    "\n",
    "    drives = list(map(int, input().rstrip().split()))\n",
    "\n",
    "    #\n",
    "    # The maximum amount of money she can spend on a keyboard and USB drive, or -1 if she can't purchase both items\n",
    "    #\n",
    "\n",
    "    moneySpent = getMoneySpent(keyboards, drives, b)\n",
    "\n",
    "    fptr.write(str(moneySpent) + '\\n')\n",
    "\n",
    "    fptr.close()\n"
   ]
  }
 ],
 "metadata": {
  "kernelspec": {
   "display_name": "Python 3",
   "language": "python",
   "name": "python3"
  },
  "language_info": {
   "codemirror_mode": {
    "name": "ipython",
    "version": 3
   },
   "file_extension": ".py",
   "mimetype": "text/x-python",
   "name": "python",
   "nbconvert_exporter": "python",
   "pygments_lexer": "ipython3",
   "version": "3.7.0"
  }
 },
 "nbformat": 4,
 "nbformat_minor": 2
}
