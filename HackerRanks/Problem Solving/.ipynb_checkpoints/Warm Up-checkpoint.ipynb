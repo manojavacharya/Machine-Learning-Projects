{
 "cells": [
  {
   "cell_type": "markdown",
   "metadata": {},
   "source": [
    "# Solve Me First\n",
    "\n",
    "https://www.hackerrank.com/challenges/solve-me-first/problem"
   ]
  },
  {
   "cell_type": "code",
   "execution_count": 1,
   "metadata": {},
   "outputs": [
    {
     "name": "stdout",
     "output_type": "stream",
     "text": [
      "2\n",
      "3\n",
      "5\n"
     ]
    }
   ],
   "source": [
    "def solveMeFirst(a,b):\n",
    "    sm = a+b\n",
    "    return sm\n",
    "\n",
    "num1 = int(input())\n",
    "num2 = int(input())\n",
    "res = solveMeFirst(num1,num2)\n",
    "print(res)\n"
   ]
  },
  {
   "cell_type": "markdown",
   "metadata": {},
   "source": [
    "# Simple Array Sum\n",
    "\n",
    "https://www.hackerrank.com/challenges/simple-array-sum/problem"
   ]
  },
  {
   "cell_type": "code",
   "execution_count": 4,
   "metadata": {},
   "outputs": [
    {
     "name": "stdout",
     "output_type": "stream",
     "text": [
      "6\n",
      "1 2 3 4 10 11\n",
      "31\n"
     ]
    }
   ],
   "source": [
    "#!/bin/python3\n",
    "\n",
    "import os\n",
    "import sys\n",
    "\n",
    "#\n",
    "# Complete the simpleArraySum function below.\n",
    "#\n",
    "def simpleArraySum(ar):\n",
    "    sm = sum(ar)\n",
    "    return sm\n",
    "\n",
    "\n",
    "#if __name__ == '__main__':\n",
    "#    fptr = open(os.environ['OUTPUT_PATH'], 'w')\n",
    "\n",
    "ar_count = int(input())\n",
    "\n",
    "ar = list(map(int, input().rstrip().split()))\n",
    "\n",
    "result = simpleArraySum(ar)\n",
    "\n",
    "print(result)\n",
    "\n",
    "#    fptr.write(str(result) + '\\n')\n",
    "\n",
    "#    fptr.close()"
   ]
  },
  {
   "cell_type": "markdown",
   "metadata": {},
   "source": [
    "# Compare the Triplets\n",
    "\n",
    "https://www.hackerrank.com/challenges/compare-the-triplets/problem"
   ]
  },
  {
   "cell_type": "code",
   "execution_count": 6,
   "metadata": {},
   "outputs": [
    {
     "name": "stdout",
     "output_type": "stream",
     "text": [
      "17 28 30\n",
      "99 16 8\n",
      "2 1\n"
     ]
    }
   ],
   "source": [
    "#!/bin/python3\n",
    "\n",
    "import math\n",
    "import os\n",
    "import random\n",
    "import re\n",
    "import sys\n",
    "\n",
    "# Complete the compareTriplets function below.\n",
    "def compareTriplets(a, b):\n",
    "    AL = 0\n",
    "    BB = 0\n",
    "    for i in range(len(a)):\n",
    "        if a[i] > b[i]:\n",
    "            AL = AL+1\n",
    "        elif a[i] < b[i]:\n",
    "            BB = BB+1\n",
    "    print(AL,BB)\n",
    "    return (AL,BB)\n",
    "\n",
    "    \n",
    "\n",
    "\n",
    "a = list(map(int, input().rstrip().split()))\n",
    "\n",
    "b = list(map(int, input().rstrip().split()))\n",
    "\n",
    "result = compareTriplets(a, b)\n",
    "\n"
   ]
  },
  {
   "cell_type": "markdown",
   "metadata": {},
   "source": [
    "# A Very Big Sum\n",
    "\n",
    "https://www.hackerrank.com/challenges/a-very-big-sum/problem"
   ]
  },
  {
   "cell_type": "code",
   "execution_count": 7,
   "metadata": {},
   "outputs": [
    {
     "name": "stdout",
     "output_type": "stream",
     "text": [
      "5\n",
      "1000000001 1000000002 1000000003 1000000004 1000000005\n",
      "5000000015\n"
     ]
    }
   ],
   "source": [
    "#!/bin/python3\n",
    "\n",
    "import math\n",
    "import os\n",
    "import random\n",
    "import re\n",
    "import sys\n",
    "\n",
    "# Complete the aVeryBigSum function below.\n",
    "def aVeryBigSum(ar):\n",
    "    a = sum(ar)\n",
    "    print(a)\n",
    "    return a\n",
    "\n",
    "\n",
    "ar_count = int(input())\n",
    "\n",
    "ar = list(map(int, input().rstrip().split()))\n",
    "\n",
    "result = aVeryBigSum(ar)\n"
   ]
  },
  {
   "cell_type": "markdown",
   "metadata": {},
   "source": [
    "# Diagonal Difference\n",
    "\n",
    "https://www.hackerrank.com/challenges/diagonal-difference/problem"
   ]
  },
  {
   "cell_type": "code",
   "execution_count": 8,
   "metadata": {},
   "outputs": [
    {
     "name": "stdout",
     "output_type": "stream",
     "text": [
      "3\n",
      "11 2 4\n",
      "4 5 6 \n",
      "10 8 -12\n",
      "15\n"
     ]
    }
   ],
   "source": [
    "import math\n",
    "import os\n",
    "import random\n",
    "import re\n",
    "import sys\n",
    "\n",
    "#\n",
    "# Complete the 'diagonalDifference' function below.\n",
    "#\n",
    "# The function is expected to return an INTEGER.\n",
    "# The function accepts 2D_INTEGER_ARRAY arr as parameter.\n",
    "#\n",
    "\n",
    "def diagonalDifference(arr,n):\n",
    "    PD = 0\n",
    "    SD = 0\n",
    "    for i in range(n):\n",
    "        PD = PD + arr[i][i]\n",
    "        SD = SD + arr[n-i-1][i]\n",
    "    print(abs(PD-SD))\n",
    "    return(abs(PD-SD))\n",
    "    \n",
    "\n",
    "n = int(input().strip())\n",
    "\n",
    "arr = []\n",
    "\n",
    "for _ in range(n):\n",
    "    arr.append(list(map(int, input().rstrip().split())))\n",
    "\n",
    "result = diagonalDifference(arr,n)\n"
   ]
  },
  {
   "cell_type": "markdown",
   "metadata": {},
   "source": [
    "# Plus Minus\n",
    "\n",
    "https://www.hackerrank.com/challenges/plus-minus/problem"
   ]
  },
  {
   "cell_type": "code",
   "execution_count": 9,
   "metadata": {},
   "outputs": [
    {
     "name": "stdout",
     "output_type": "stream",
     "text": [
      "6\n",
      "-4 3 -9 0 4 1\n",
      "0.500000\n",
      "0.333333\n",
      "0.166667\n"
     ]
    }
   ],
   "source": [
    "#!/bin/python3\n",
    "\n",
    "import math\n",
    "import os\n",
    "import random\n",
    "import re\n",
    "import sys\n",
    "\n",
    "# Complete the plusMinus function below.\n",
    "def plusMinus(arr,n):\n",
    "    P = 0\n",
    "    N = 0\n",
    "    Z = 0\n",
    "    for i in range(n):\n",
    "        if arr[i] == 0:\n",
    "            Z = Z+1\n",
    "        elif arr[i] > 0:\n",
    "            P = P+1\n",
    "        elif arr[i] < 0:\n",
    "            N = N+1\n",
    "    PR = P/n\n",
    "    NR = N/n\n",
    "    ZR = Z/n\n",
    "    return(PR,NR,ZR)\n",
    "\n",
    "n = int(input())\n",
    "\n",
    "arr = list(map(int, input().rstrip().split()))\n",
    "\n",
    "PR,NR,ZR = plusMinus(arr,n)\n",
    "print('%.6f'%PR)\n",
    "print('%.6f'%NR)\n",
    "print('%.6f'%ZR)"
   ]
  },
  {
   "cell_type": "markdown",
   "metadata": {},
   "source": [
    "# Staircase\n",
    "\n",
    "https://www.hackerrank.com/challenges/staircase/problem"
   ]
  },
  {
   "cell_type": "code",
   "execution_count": 10,
   "metadata": {},
   "outputs": [
    {
     "name": "stdout",
     "output_type": "stream",
     "text": [
      "6\n",
      "     #\n",
      "    ##\n",
      "   ###\n",
      "  ####\n",
      " #####\n",
      "######\n"
     ]
    }
   ],
   "source": [
    "#!/bin/python3\n",
    "\n",
    "import math\n",
    "import os\n",
    "import random\n",
    "import re\n",
    "import sys\n",
    "#import numpy as np\n",
    "\n",
    "# Complete the staircase function below.\n",
    "def staircase(n):\n",
    "    A = n-1\n",
    "    B = 1\n",
    "    for i in range(n):\n",
    "        LST = []\n",
    "        for j in range(A):\n",
    "            LST.append(' ') \n",
    "\n",
    "        A = A-1\n",
    "        for k in range(B):\n",
    "            LST.append('#')\n",
    "\n",
    "        LST.append('\\n')\n",
    "        B = B+1\n",
    "        for i in LST:\n",
    "            print(i, end=\"\")\n",
    "\n",
    "n = int(input())\n",
    "\n",
    "staircase(n)\n"
   ]
  },
  {
   "cell_type": "markdown",
   "metadata": {},
   "source": [
    "# Birthday Cake Candles\n",
    "\n",
    "https://www.hackerrank.com/challenges/birthday-cake-candles/problem"
   ]
  },
  {
   "cell_type": "code",
   "execution_count": 12,
   "metadata": {},
   "outputs": [
    {
     "name": "stdout",
     "output_type": "stream",
     "text": [
      "4\n",
      "3 2 1 3\n",
      "2\n"
     ]
    }
   ],
   "source": [
    "#!/bin/python3\n",
    "\n",
    "import math\n",
    "import os\n",
    "import random\n",
    "import re\n",
    "import sys\n",
    "\n",
    "# Complete the birthdayCakeCandles function below.\n",
    "def birthdayCakeCandles(ar):\n",
    "    i = max(list(set(ar))) \n",
    "    print(ar.count(i))\n",
    "    return ar.count(i)\n",
    "\n",
    "ar_count = int(input())\n",
    "\n",
    "ar = list(map(int, input().rstrip().split()))\n",
    "\n",
    "result = birthdayCakeCandles(ar)\n"
   ]
  },
  {
   "cell_type": "markdown",
   "metadata": {},
   "source": [
    "# Time Conversion\n",
    "\n",
    "https://www.hackerrank.com/challenges/time-conversion/problem"
   ]
  },
  {
   "cell_type": "code",
   "execution_count": 14,
   "metadata": {},
   "outputs": [
    {
     "name": "stdout",
     "output_type": "stream",
     "text": [
      "07:05:45PM\n"
     ]
    },
    {
     "data": {
      "text/plain": [
       "'19:05:45'"
      ]
     },
     "execution_count": 14,
     "metadata": {},
     "output_type": "execute_result"
    }
   ],
   "source": [
    "#!/bin/python3\n",
    "\n",
    "import os\n",
    "import sys\n",
    "\n",
    "#\n",
    "# Complete the timeConversion function below.\n",
    "#\n",
    "def timeConversion(str1):\n",
    "\n",
    "    # Checking if last two elements of time \n",
    "    # is AM and first two elements are 12 \n",
    "    if str1[-2:] == \"AM\" and str1[:2] == \"12\": \n",
    "        return \"00\" + str1[2:-2] \n",
    "          \n",
    "    # remove the AM     \n",
    "    elif str1[-2:] == \"AM\": \n",
    "        return str1[:-2] \n",
    "      \n",
    "    # Checking if last two elements of time \n",
    "    # is PM and first two elements are 12    \n",
    "    elif str1[-2:] == \"PM\" and str1[:2] == \"12\": \n",
    "        return str1[:-2] \n",
    "          \n",
    "    else: \n",
    "          \n",
    "        # add 12 to hours and remove PM \n",
    "        return str(int(str1[:2]) + 12) + str1[2:8] \n",
    "  \n",
    "\n",
    "s = input()\n",
    "\n",
    "result = timeConversion(s)\n",
    "\n",
    "result\n"
   ]
  },
  {
   "cell_type": "markdown",
   "metadata": {},
   "source": [
    "# Mini-Max Sum\n",
    "\n",
    "https://www.hackerrank.com/challenges/mini-max-sum/problem"
   ]
  },
  {
   "cell_type": "code",
   "execution_count": 10,
   "metadata": {},
   "outputs": [
    {
     "name": "stdout",
     "output_type": "stream",
     "text": [
      "7 69 2 221 8974\n",
      "[2, 7, 69, 221, 8974]\n",
      "299 9273\n"
     ]
    }
   ],
   "source": [
    "#!/bin/python3\n",
    "\n",
    "import math\n",
    "import os\n",
    "import random\n",
    "import re\n",
    "import sys\n",
    "\n",
    "# Complete the miniMaxSum function below.\n",
    "def miniMaxSum(arr):\n",
    "    arr = sorted(arr)\n",
    "    print(sum(arr[0:4]), sum(arr[len(arr)-5:len(arr)]))\n",
    "\n",
    "arr = list(map(int, input().rstrip().split()))\n",
    "\n",
    "miniMaxSum(arr)\n",
    "\n",
    "# 1 2 3 4 5"
   ]
  }
 ],
 "metadata": {
  "kernelspec": {
   "display_name": "Python 3",
   "language": "python",
   "name": "python3"
  },
  "language_info": {
   "codemirror_mode": {
    "name": "ipython",
    "version": 3
   },
   "file_extension": ".py",
   "mimetype": "text/x-python",
   "name": "python",
   "nbconvert_exporter": "python",
   "pygments_lexer": "ipython3",
   "version": "3.7.0"
  }
 },
 "nbformat": 4,
 "nbformat_minor": 2
}
