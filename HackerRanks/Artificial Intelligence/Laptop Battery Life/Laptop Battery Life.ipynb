version https://git-lfs.github.com/spec/v1
oid sha256:8fa00bd30786067b7afc64bb88c515eea06510b1f768d5ae40c0177014366bf3
size 36606
