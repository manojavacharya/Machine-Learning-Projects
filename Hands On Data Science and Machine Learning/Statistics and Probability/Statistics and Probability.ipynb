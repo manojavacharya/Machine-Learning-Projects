Transaction ID
Transaction Date
Location
First Name
Last Name
Email Address
Address
Address
City
State
Zip
Phone
Phone
