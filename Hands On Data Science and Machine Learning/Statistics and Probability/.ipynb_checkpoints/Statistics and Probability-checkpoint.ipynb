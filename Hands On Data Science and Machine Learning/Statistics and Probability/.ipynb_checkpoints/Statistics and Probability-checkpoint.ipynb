{
 "cells": [
  {
   "cell_type": "markdown",
   "metadata": {},
   "source": [
    "# Types of Date\n",
    "\n",
    "It is important to know what kind of data you are dealing with because techinques mighe have different nuances depending on what kind of data you are handling. There are three specific types of data.\n",
    "\n",
    "* Numerical Data\n",
    "* Categorical Data\n",
    "* Ordinal Data\n",
    "\n",
    "## Numerical Data\n",
    "It represents some quantifiable thing that you can measure, some examples are Heights of People, Page Load Times and so on.\n",
    "There are basically two kinds of Numerical Data\n",
    "* Discrete Data\n",
    "* Continuous Data\n",
    "\n",
    "### Discrete Data\n",
    "These are numerical values which are Integer Based, For Example how many purchases did a customer make in a year. This can only be integers never a fractions.\n",
    "\n",
    "### Continuous Data\n",
    "These are numerical values which have infinite range of possibilities where you can go in fractions. Example - Height of People, there are an infinite number of possibilities when we get to scale of Millimeters. Another example is how much rain fall did we get in a given day, again there are infinite number of precisions there.\n",
    "\n",
    "### Summary\n",
    "To recap, Numerical Data is something you can measure quantitatively with a number, and it can be either DIscrete, where it's Integer Based like a count or Continuous, where you can have infinite range of percision available to the data.\n",
    "\n",
    "## Categorical Data\n",
    "These are type of data which have no inherent numeric meaning, you cannot compre one category to another directly. Things like Gender, State, Country etc. \n",
    "Example you can say area of Texas is greater than Area of Florida but you cannot say Texas is greater than Florida. But you can assign numerical values like Texas as 1 and FLorida as 3 but there is not relationship between 3 and 4.\n",
    "\n",
    "## Ordinal Data\n",
    "This is a sort of mixture of Numerical and Categorical Data, Common example is Star Ratings for a Movie, In this case, We have Categorical Data in that could be 1 through 5 Starts, where 1 represents Poor and 5 represent Excellent, But they do not have a mathematical meaning."
   ]
  },
  {
   "cell_type": "markdown",
   "metadata": {},
   "source": [
    "# Mean, Median and Mode\n",
    "## Mean\n",
    "Mean is also known as Average, To calculate the mean of the data set, we sum up all the values and divide it by number of values the data set has.\n",
    "\n",
    "*Sum of Samples / Number of Samples*\n",
    "\n",
    "Number of Childern in each house on a Street\n",
    "\n",
    " 0,2,3,2,1,0,0,2,0\n",
    " \n",
    " The Mean is *(0+2+3+2+1+0+0+2+0)/9 = 1.11*\n",
    " \n",
    "## Median\n",
    "The way you calculate median of a data set is by sorting all the values in ascending or descending order and taking the one that ends up in the middle. Using the same data set\n",
    "\n",
    "Number of Childern in each house on a Street  0,2,3,2,1,0,0,2,0\n",
    "\n",
    "Sorting the data set in ascending order\n",
    "\n",
    "0,0,0,0,1,2,2,2,3\n",
    "\n",
    "Now we pick the center element of the ordered data which for the above case is 1\n",
    "\n",
    "    # Note - if you have even number of data points, then the median is between the two center data points, in that case we take the average of the two data points and consider that number as the median.\n",
    "\n",
    "## The Factor of Outliers\n",
    "\n",
    "In the preceding example of number of kids in each house hold, the median and the mean were close to eachother because there were not a lot of outliers. we had 0,1,2 and 3 kids, but we did not have any family that had like 20 kids or 30 kids. That would have skewed the mean (0+2+3+2+1+0+0+2+0+20)/10 = 30/3 = 10 but the median would not have changed much which would come to 1.5. Thus Median is less susceptible to outliers than mean.\n",
    "\n",
    "Example of why median is a better to determine central tendency - \n",
    "You can talk about the mean or average household income in the United States, and that actual number from last year was 72,000 or so, but that doesn't really provide an accurate picture of what the typical American makes. That is because, if you look at the median income, it's much lower at 51,939. Why is that? Well, because of income inequality. There are a few very rich\n",
    "people in America. Here the mean or average is heavily skewed by few Outliers.\n",
    "\n",
    "This is a great example of where the median tells a much better story about the typical person or data point in this example than the mean does. Whenever someone talks about the mean, you have to think about what does the data distribution looks like. Are there outliers that might be skewing that mean? And if the answer is potentially yes, you should also ask for the median, because often, that provides more insight than the mean or the average.\n",
    "\n",
    "## Mode\n",
    "\n",
    "Mode means the most common data point in Data Set. Using the same data set.\n",
    "\n",
    "Number of Childern in each house on a Street  0,2,3,2,1,0,0,2,0\n",
    "\n",
    "How many of each value are there:\n",
    "\n",
    "0:4\n",
    "\n",
    "1:1\n",
    "\n",
    "2:3\n",
    "\n",
    "3:1\n",
    "\n",
    "The MODE is 0\n",
    "\n",
    "Mode is good for Discrete Data and does not give much information for Continuous Data. If you have Continuous Range of data, Unless you quantize that somehow into discrete values using Mode does not give much information.\n",
    "\n",
    "Mode is usually only relevant to discrete numerical data, and not to continuous data.\n",
    "\n"
   ]
  },
  {
   "cell_type": "markdown",
   "metadata": {},
   "source": [
    "# Using Mean, Median and Mode in Python\n",
    "\n",
    "We are creating some fake income data with average of 27000, standard deviation of 15000 and the data being normally distributed and we are asking for 10000 Samples.\n",
    "\n",
    "We will use random.normal function to obtain a normally distributed random data points. The function uses 3 parameters which are mean to determine data centered around, standard deviation which determines the spread and last gives the number of samples.\n",
    "\n",
    "Once we create the dummy data set we use the function np.mean() to calculate the mean of the data."
   ]
  },
  {
   "cell_type": "code",
   "execution_count": 1,
   "metadata": {},
   "outputs": [
    {
     "data": {
      "text/plain": [
       "26998.959516837574"
      ]
     },
     "execution_count": 1,
     "metadata": {},
     "output_type": "execute_result"
    }
   ],
   "source": [
    "import numpy as np\n",
    "incomes = np.random.normal(27000,15000,10000)\n",
    "np.mean(incomes)"
   ]
  },
  {
   "cell_type": "markdown",
   "metadata": {},
   "source": [
    "# Visualizing Data Using matplotlib\n",
    "We will be using a package called matplotlib to create charts and graphs to visualize data.\n",
    "\n",
    "Below is an example, where we are using matplotlib to create histogram of the income data broken up into 50 buckets, here we are taking continuous data and converting it into discrete values."
   ]
  },
  {
   "cell_type": "code",
   "execution_count": 4,
   "metadata": {
    "scrolled": true
   },
   "outputs": [
    {
     "data": {
      "image/png": "[encoded data removed]",
      "text/plain": [
       "<Figure size 432x288 with 1 Axes>"
      ]
     },
     "metadata": {
      "needs_background": "light"
     },
     "output_type": "display_data"
    }
   ],
   "source": [
    "%matplotlib inline\n",
    "import matplotlib.pyplot as plt\n",
    "plt.hist(incomes,50)\n",
    "plt.show()"
   ]
  },
  {
   "cell_type": "markdown",
   "metadata": {},
   "source": [
    "The way to read this is that for each one of these buckets that we have discretized our data into is showing the frequency of that data"
   ]
  },
  {
   "cell_type": "markdown",
   "metadata": {},
   "source": [
    "# Calculating Median using NumPy Package\n",
    "We will be using the same income data set to calculate median as well."
   ]
  },
  {
   "cell_type": "code",
   "execution_count": 5,
   "metadata": {},
   "outputs": [
    {
     "data": {
      "text/plain": [
       "27205.06096414513"
      ]
     },
     "execution_count": 5,
     "metadata": {},
     "output_type": "execute_result"
    }
   ],
   "source": [
    "np.median(incomes)"
   ]
  },
  {
   "cell_type": "markdown",
   "metadata": {},
   "source": [
    "# Analyzing The Effect of Outliers\n",
    "To analyze effect of outliers let us add an outlier to our data set.\n",
    "\n",
    "Let us manually add a entry to the data set using the append method and let us say the outlier has a income of 1 Billion Dollars"
   ]
  },
  {
   "cell_type": "code",
   "execution_count": 6,
   "metadata": {},
   "outputs": [],
   "source": [
    "incomes = np.append(incomes,[1000000000])"
   ]
  },
  {
   "cell_type": "code",
   "execution_count": 7,
   "metadata": {},
   "outputs": [
    {
     "data": {
      "text/plain": [
       "27205.58535266113"
      ]
     },
     "execution_count": 7,
     "metadata": {},
     "output_type": "execute_result"
    }
   ],
   "source": [
    "# Let us calculate the median of this data set\n",
    "np.median(incomes)"
   ]
  },
  {
   "cell_type": "markdown",
   "metadata": {},
   "source": [
    "We see that the outlier does not change the median a whole lot."
   ]
  },
  {
   "cell_type": "code",
   "execution_count": 8,
   "metadata": {
    "scrolled": true
   },
   "outputs": [
    {
     "data": {
      "text/plain": [
       "126986.2608907485"
      ]
     },
     "execution_count": 8,
     "metadata": {},
     "output_type": "execute_result"
    }
   ],
   "source": [
    "# Let us calculate the mean of the data set\n",
    "np.mean(incomes)"
   ]
  },
  {
   "cell_type": "markdown",
   "metadata": {},
   "source": [
    "So the one outlier caused the mean to jump from around 27000 to 126986, thus we can see that median is less susceptible to outliers and to get better understanding with mean we need to understand the distribution as a whole."
   ]
  },
  {
   "cell_type": "markdown",
   "metadata": {},
   "source": [
    "# Calculating the Mode using the SciPy Package\n",
    "Let us generate 500 random integers between 18 and 90, this will be a data set of ages of fake people."
   ]
  },
  {
   "cell_type": "code",
   "execution_count": 9,
   "metadata": {
    "scrolled": true
   },
   "outputs": [
    {
     "data": {
      "text/plain": [
       "array([89, 33, 45, 38, 47, 59, 43, 49, 75, 46, 45, 88, 24, 84, 66, 83, 82,\n",
       "       62, 53, 32, 22, 67, 34, 35, 87, 31, 80, 84, 38, 40, 62, 71, 57, 54,\n",
       "       39, 57, 32, 86, 83, 67, 43, 80, 71, 83, 74, 58, 62, 38, 38, 78, 30,\n",
       "       44, 47, 85, 29, 57, 73, 27, 61, 67, 83, 18, 62, 28, 83, 66, 71, 21,\n",
       "       79, 55, 38, 69, 33, 74, 67, 19, 68, 50, 67, 36, 80, 77, 18, 36, 29,\n",
       "       28, 50, 36, 38, 50, 73, 72, 79, 75, 77, 69, 77, 42, 28, 42, 45, 18,\n",
       "       80, 44, 47, 46, 64, 80, 22, 26, 46, 74, 52, 58, 26, 66, 70, 59, 37,\n",
       "       65, 41, 35, 20, 70, 84, 34, 44, 78, 74, 35, 32, 21, 68, 49, 38, 85,\n",
       "       68, 84, 34, 36, 27, 71, 23, 74, 76, 26, 25, 73, 40, 76, 34, 52, 58,\n",
       "       65, 38, 60, 50, 40, 19, 47, 61, 53, 24, 35, 35, 56, 66, 34, 65, 48,\n",
       "       50, 78, 25, 53, 19, 37, 39, 78, 47, 56, 32, 42, 24, 81, 82, 71, 76,\n",
       "       25, 34, 46, 73, 73, 69, 75, 40, 86, 67, 54, 80, 34, 46, 43, 82, 45,\n",
       "       72, 56, 58, 83, 78, 65, 54, 53, 41, 86, 76, 58, 81, 21, 30, 42, 52,\n",
       "       47, 74, 87, 70, 20, 61, 78, 79, 23, 68, 42, 67, 51, 66, 88, 41, 43,\n",
       "       53, 72, 52, 25, 76, 81, 86, 75, 30, 65, 51, 73, 58, 25, 45, 26, 48,\n",
       "       25, 64, 89, 54, 27, 21, 46, 83, 84, 31, 19, 33, 25, 56, 57, 49, 51,\n",
       "       18, 30, 54, 68, 74, 65, 32, 40, 88, 37, 81, 26, 85, 61, 66, 75, 44,\n",
       "       76, 53, 72, 72, 84, 28, 31, 70, 45, 79, 25, 25, 78, 33, 86, 45, 18,\n",
       "       76, 41, 80, 74, 37, 49, 49, 34, 27, 54, 81, 39, 54, 19, 77, 47, 72,\n",
       "       75, 19, 41, 47, 20, 25, 77, 27, 45, 55, 69, 24, 72, 22, 31, 43, 30,\n",
       "       56, 67, 21, 88, 55, 43, 55, 53, 53, 55, 56, 49, 41, 75, 74, 48, 43,\n",
       "       83, 87, 45, 31, 62, 29, 65, 64, 60, 51, 68, 36, 55, 51, 51, 66, 78,\n",
       "       76, 66, 56, 26, 40, 44, 42, 30, 18, 85, 78, 86, 62, 33, 60, 66, 74,\n",
       "       53, 36, 84, 32, 65, 83, 86, 25, 50, 76, 79, 87, 54, 20, 33, 37, 34,\n",
       "       61, 54, 32, 66, 33, 52, 38, 73, 37, 61, 80, 48, 30, 58, 40, 79, 18,\n",
       "       61, 45, 74, 65, 43, 70, 86, 53, 89, 20, 81, 74, 36, 44, 28, 70, 41,\n",
       "       42, 51, 87, 71, 47, 65, 46, 22, 87, 26, 23, 37, 49, 86, 43, 65, 84,\n",
       "       33, 54, 34, 39, 34, 45, 51, 64, 43, 69, 58, 37, 69, 79, 66, 39, 65,\n",
       "       54, 85, 61, 74, 50, 73, 38, 36, 52, 18, 87, 54, 48, 81, 31, 30, 43,\n",
       "       68, 79, 89, 58, 89, 73, 30])"
      ]
     },
     "execution_count": 9,
     "metadata": {},
     "output_type": "execute_result"
    }
   ],
   "source": [
    "ages = np.random.randint(18, high = 90, size = 500)\n",
    "ages"
   ]
  },
  {
   "cell_type": "code",
   "execution_count": 11,
   "metadata": {},
   "outputs": [
    {
     "data": {
      "text/plain": [
       "ModeResult(mode=array([74]), count=array([13]))"
      ]
     },
     "execution_count": 11,
     "metadata": {},
     "output_type": "execute_result"
    }
   ],
   "source": [
    "# Calculating Mode using the Package SciPy\n",
    "from scipy import stats\n",
    "stats.mode(ages)"
   ]
  },
  {
   "cell_type": "markdown",
   "metadata": {},
   "source": [
    "For the data set 74 is the most common value which repeated 13 times."
   ]
  },
  {
   "cell_type": "markdown",
   "metadata": {},
   "source": [
    "# Standard Deviation and Variance\n",
    "Standard Deviation and variance are all about the spread of the data, shape of the distribution of the data set\n",
    "\n",
    "## Measuring Variance\n",
    "Variance mathematically is defines as Average of Squared Differences from the Mean\n",
    "\n",
    "Steps to Calculate Variance of a Data Set\n",
    "* Find the Mean(Average) of the data set.\n",
    "* Find the Difference from the mean for each daata point.\n",
    "* Find the Square of the Differences\n",
    "    * Reason for Squaring - Step 2 Differences from the mean results in negative and positive variances and to make sure negative variances count as much as the positive variances and so that the negative do not cancel the positive variances we square them. By Squaring the variances we had more weightage to the Outliers which are far away from the mean\n",
    "* Find the Mean(Average) of the Square of Differences.\n",
    "\n",
    "## Standard Deviation\n",
    "Standard Deviation is Square Root of Variance"
   ]
  },
  {
   "cell_type": "markdown",
   "metadata": {},
   "source": [
    "# Identifying Outliers with Standard Deviation\n",
    "You generally determine if a data point is an outlier or not by determining how many standard deviations away it is from the mean."
   ]
  },
  {
   "cell_type": "markdown",
   "metadata": {},
   "source": [
    "# Population Variance Vs Sample Variance\n",
    "This Video explains the difference between Population Variance and Sample Variance\n",
    "\n",
    "https://www.youtube.com/watch?v=KkaU2ur3Ymw\n"
   ]
  },
  {
   "cell_type": "markdown",
   "metadata": {},
   "source": [
    "# Analyzing Standard Deviation and Varinace on Histogram\n",
    "Let us create a sample data set of incomes which is centered at 100, with a standard deviation of 20 and normally distributed for 10000 data points. "
   ]
  },
  {
   "cell_type": "code",
   "execution_count": 1,
   "metadata": {
    "scrolled": true
   },
   "outputs": [
    {
     "data": {
      "image/png": "[encoded data removed]",
      "text/plain": [
       "<Figure size 432x288 with 1 Axes>"
      ]
     },
     "metadata": {
      "needs_background": "light"
     },
     "output_type": "display_data"
    }
   ],
   "source": [
    "%matplotlib inline \n",
    "import numpy as np \n",
    "import matplotlib.pyplot as plt\n",
    "incomes = np.random.normal(100.0, 20.0, 10000) \n",
    "plt.hist(incomes, 50) \n",
    "plt.show()"
   ]
  },
  {
   "cell_type": "markdown",
   "metadata": {},
   "source": [
    "From the Histogram we can see that most common occurance is around 100 and further away we get from that things get less and less likely. Standard Deviation specified of 20 lies around the mean at the data points of 80 and 120, and at that point we see a sharp decline in the samples."
   ]
  },
  {
   "cell_type": "markdown",
   "metadata": {},
   "source": [
    "# Using Python to Compute Standard Deviation and Variance"
   ]
  },
  {
   "cell_type": "code",
   "execution_count": 2,
   "metadata": {},
   "outputs": [
    {
     "data": {
      "text/plain": [
       "19.945306597683626"
      ]
     },
     "execution_count": 2,
     "metadata": {},
     "output_type": "execute_result"
    }
   ],
   "source": [
    "# Calculating Standard Deviation on Income Data Set\n",
    "incomes.std()"
   ]
  },
  {
   "cell_type": "code",
   "execution_count": 3,
   "metadata": {
    "scrolled": true
   },
   "outputs": [
    {
     "data": {
      "text/plain": [
       "397.81525527560194"
      ]
     },
     "execution_count": 3,
     "metadata": {},
     "output_type": "execute_result"
    }
   ],
   "source": [
    "# Calculating Variance on Income Data Set\n",
    "incomes.var()"
   ]
  },
  {
   "cell_type": "markdown",
   "metadata": {},
   "source": [
    "# Probability Mass Function and Probability Density Function\n",
    "\n",
    "Consider a random variable, X.\n",
    "\n",
    "If X is a discrete random variable (i.e, X can only take a countable number of values), then the probability mass function of X at x, denoted by p(x), gives the probability that the random variable X takes on the value x. That is p(x) = P(X = x). Example consider you flip a coin, Then what is the probability that a random variable takes a value of tails p(x) = P(X=tails) = 0.5\n",
    "\n",
    "The probability density function is the continuous analog of probability mass function. Consider X to be a continuous random variable (i.e, X can take an uncountable number of values). The value of the probability density function of X at x is denoted by f(x). The greater f(x) is, the higher the probability that the value of X is near x.\n",
    "NOTE: f(x) ≠ P(X = x). In fact if X is continuous P(X=x) = 0 for all x.\n",
    "Therefore for a continuous random variable you can only calculate the probability of X belonging to certain interval, say (a,b). \n",
    "\n",
    "The integral of probability density function over the range of values that X (if X is cont) can take must equal 1. Similarly, the summation of the probability mass function (if X is discrete) over the values X can take must equal 1.\n",
    "\n",
    "The meaning of probability distribution function is contextual. However, it generally refers to the cumulative distribution function of the random variable.\n",
    "\n",
    "Terminology Difference - A probability density function describes the probability of a range of values happening with continuous data. A probability mass function is the probabilities of given discrete values occurring in a dataset."
   ]
  },
  {
   "cell_type": "markdown",
   "metadata": {},
   "source": [
    "# Types of Distribution"
   ]
  },
  {
   "cell_type": "markdown",
   "metadata": {},
   "source": [
    "## Uniform Distribution\n",
    "Uniform Distribution means that there is constant probability of a value occuring within a given range\n",
    "\n",
    "We can create a uniform distribution using the random.uniform function in numpy.\n",
    "\n",
    "Below we create a uniformly distributed random set of values that range between -10 and 10 and we create a sample set of 100000 data points"
   ]
  },
  {
   "cell_type": "code",
   "execution_count": 6,
   "metadata": {},
   "outputs": [
    {
     "data": {
      "image/png": "[encoded data removed]",
      "text/plain": [
       "<Figure size 432x288 with 1 Axes>"
      ]
     },
     "metadata": {
      "needs_background": "light"
     },
     "output_type": "display_data"
    }
   ],
   "source": [
    "import numpy as np\n",
    "import matplotlib.pyplot as plt\n",
    "\n",
    "values = np.random.uniform(-10.0,10.0,100000)\n",
    "plt.hist(values,50)\n",
    "plt.show()"
   ]
  },
  {
   "cell_type": "markdown",
   "metadata": {},
   "source": [
    "Looking at the histogram  we can see that there is pretty much equal chance of any given value or a range of values occuring in this distribution.\n",
    "\n",
    "Thus a uniform distribution has equal probability across any given value within the range that you define.\n",
    "\n",
    "So in a uniform distribution you would see a flat line on the probability distribution function because there is basically a constant probability. Every value, every range of values has an equal chance of appearing as any other value."
   ]
  },
  {
   "cell_type": "markdown",
   "metadata": {},
   "source": [
    "## Normal or Gaussian Distribution\n"
   ]
  },
  {
   "cell_type": "code",
   "execution_count": 10,
   "metadata": {
    "scrolled": true
   },
   "outputs": [
    {
     "data": {
      "image/png": "[encoded data removed]",
      "text/plain": [
       "<Figure size 432x288 with 1 Axes>"
      ]
     },
     "metadata": {
      "needs_background": "light"
     },
     "output_type": "display_data"
    }
   ],
   "source": [
    "# Creating a Normally Distributed data Set\n",
    "\n",
    "import numpy as np\n",
    "import matplotlib.pyplot as plt\n",
    "\n",
    "mu = 5.0\n",
    "sigma = 2.0\n",
    "values = np.random.normal(mu, sigma, 10000)\n",
    "plt.hist(values,100)\n",
    "plt.show()"
   ]
  },
  {
   "cell_type": "code",
   "execution_count": 14,
   "metadata": {
    "scrolled": true
   },
   "outputs": [
    {
     "data": {
      "text/plain": [
       "[<matplotlib.lines.Line2D at 0x13e47745588>]"
      ]
     },
     "execution_count": 14,
     "metadata": {},
     "output_type": "execute_result"
    },
    {
     "data": {
      "image/png": "[encoded data removed]",
      "text/plain": [
       "<Figure size 432x288 with 1 Axes>"
      ]
     },
     "metadata": {
      "needs_background": "light"
     },
     "output_type": "display_data"
    }
   ],
   "source": [
    "# Visualizing Probability Density Function\n",
    "import numpy as np\n",
    "from scipy.stats import norm\n",
    "import matplotlib.pyplot as plt\n",
    "\n",
    "x = np.arange(-3,3,0.001)\n",
    "plt.plot(x, norm.pdf(x))"
   ]
  },
  {
   "cell_type": "markdown",
   "metadata": {},
   "source": [
    "## The Exponential Probability Distribution or Power Law\n",
    "This is a distribution where things fall off in an exponential manner.\n",
    "\n",
    "When you see an exponential distribution you see a curve where it is likely for something to happen near zero but then as you get farther away from it, it drops off very quickly, and there are lot of things that behave in this manner.\n",
    "\n",
    "Below code we create our x values suing Numpy arange function to create a bunch of values between 0 and 10 with a step size of 0.001, we then plot those x values against the y axis which is defined by the function expon.pdf. the output looks like an exponential fall off."
   ]
  },
  {
   "cell_type": "code",
   "execution_count": 15,
   "metadata": {
    "scrolled": true
   },
   "outputs": [
    {
     "data": {
      "text/plain": [
       "[<matplotlib.lines.Line2D at 0x13e476d6a20>]"
      ]
     },
     "execution_count": 15,
     "metadata": {},
     "output_type": "execute_result"
    },
    {
     "data": {
      "image/png": "[encoded data removed]",
      "text/plain": [
       "<Figure size 432x288 with 1 Axes>"
      ]
     },
     "metadata": {
      "needs_background": "light"
     },
     "output_type": "display_data"
    }
   ],
   "source": [
    "from scipy.stats import expon\n",
    "import matplotlib.pyplot as plt\n",
    "\n",
    "x = np.arange(0,10,0.001)\n",
    "plt.plot(x,expon.pdf(x))"
   ]
  },
  {
   "cell_type": "markdown",
   "metadata": {},
   "source": [
    "## Binomial Probability Mass Function - Binomial Distribution\n",
    "\n",
    "https://www.youtube.com/watch?v=WWv0RUxDfbs&t=10s\n",
    "\n",
    "Probability Mass Function deals with Discrete Data.\n",
    "\n",
    "Below code will create some Discrete x Values between 0 and 10 at a spacing of 0.01 and we will plot a Binomial Probability Mass Function using that data. "
   ]
  },
  {
   "cell_type": "code",
   "execution_count": 23,
   "metadata": {},
   "outputs": [
    {
     "data": {
      "text/plain": [
       "[<matplotlib.lines.Line2D at 0x13e48fdf7f0>]"
      ]
     },
     "execution_count": 23,
     "metadata": {},
     "output_type": "execute_result"
    },
    {
     "data": {
      "image/png": "[encoded data removed]",
      "text/plain": [
       "<Figure size 432x288 with 1 Axes>"
      ]
     },
     "metadata": {
      "needs_background": "light"
     },
     "output_type": "display_data"
    }
   ],
   "source": [
    "from scipy.stats import binom\n",
    "import matplotlib.pyplot as plt\n",
    "\n",
    "x = np.arange(0,10,0.001)\n",
    "plt.plot(x, binom.pmf(x,10,0.5))"
   ]
  },
  {
   "cell_type": "markdown",
   "metadata": {},
   "source": [
    "## Poisson Probability Mass Function - Poissons Distribution\n",
    "\n",
    "https://www.youtube.com/watch?v=m0o-585xwW0\n",
    "\n",
    "If you have some information about the average number of things that happen in a given time period, Poissons distribution can give a way to predict the odds of getting another value instead on a given future day.\n",
    "\n",
    "Example - Let's say that a website on average gets 500 visitors per day. I can use Poissio's distribution to estimate the probability of seeing some onther value on a specific day. Like with an average of 500 visitors per day, what's the odds of seeing 550 visitors on a given day?\n",
    "\n",
    "Below code we are saying that an average is 500 and we are setting up some x values to take values between 400 and 600 with spacing of 0.5. and we are going to plot that using poisson.pmf function. and with that graph we can look up odds of getting any specific value that is not 500, assuming a normal distribution."
   ]
  },
  {
   "cell_type": "code",
   "execution_count": 24,
   "metadata": {
    "scrolled": true
   },
   "outputs": [
    {
     "data": {
      "text/plain": [
       "[<matplotlib.lines.Line2D at 0x13e49031c88>]"
      ]
     },
     "execution_count": 24,
     "metadata": {},
     "output_type": "execute_result"
    },
    {
     "data": {
      "image/png": "[encoded data removed]",
      "text/plain": [
       "<Figure size 432x288 with 1 Axes>"
      ]
     },
     "metadata": {
      "needs_background": "light"
     },
     "output_type": "display_data"
    }
   ],
   "source": [
    "from scipy.stats import poisson\n",
    "import matplotlib.pyplot as plt\n",
    "\n",
    "mu = 500\n",
    "x = np.arange(400,600,0.25)\n",
    "plt.plot(x, poisson.pmf(x, mu))"
   ]
  },
  {
   "cell_type": "markdown",
   "metadata": {},
   "source": [
    "# Percentiles and Moments\n",
    "\n",
    "## Percentiles\n",
    "If you sort all the data in a data set, a given percentile is a point at which that percent of data is less than the point you are at. When we talk about 99th Percentile, then 99th Percentile will be the point at which 99% of the population is less than that value. In terms of income distribution is 99th Percentile is an income of 500000 that means that at the point of income of 500000 99% of the population's income is less than 500000.\n",
    "\n",
    "## Quartiles\n",
    "Percentiles are also used in context of talking about the quartiles in distribution.\n",
    "![title](Images/Quartiles.PNG)\n",
    "\n",
    "Median represents 50th percentile, Q1 represents 25th Percentile and Q3 represents 75th Percentile.\n",
    "\n",
    "Inter Quartile Range make up 50% of the data which lies between Q1 and Q3.\n",
    "\n",
    "We generally consider data points to be outliers if they are outside the max reach of the whiskers which extend Q1+(1.5xIQR) to the left of Q1 and Q3+(1.5xIQR) to the right of Q3\n",
    "\n",
    "## Computing Percentile in Python\n",
    "\n",
    "Let us generate some Randomly Generated Normal Data( Normally Distributed Random Data)\n",
    "\n",
    "Below we have generated some data centered around 0 ie mean of 0 and standard deviation of 0.5 and we have 10000 samples and then we have a histogram to show the distribution."
   ]
  },
  {
   "cell_type": "code",
   "execution_count": 33,
   "metadata": {
    "scrolled": true
   },
   "outputs": [
    {
     "data": {
      "image/png": "[encoded data removed]",
      "text/plain": [
       "<Figure size 432x288 with 1 Axes>"
      ]
     },
     "metadata": {
      "needs_background": "light"
     },
     "output_type": "display_data"
    }
   ],
   "source": [
    "%matplotlib inline\n",
    "import numpy as np\n",
    "import matplotlib.pyplot as plt\n",
    "\n",
    "vals = np.random.normal(0,0.5,10000)\n",
    "\n",
    "plt.hist(vals,50)\n",
    "plt.show()"
   ]
  },
  {
   "cell_type": "code",
   "execution_count": 34,
   "metadata": {},
   "outputs": [
    {
     "data": {
      "text/plain": [
       "0.004632563596703986"
      ]
     },
     "execution_count": 34,
     "metadata": {},
     "output_type": "execute_result"
    }
   ],
   "source": [
    "# Let us calculate 50th Percentile using Numpy Percentile function \n",
    "np.percentile(vals,50)\n",
    "# 50th Percentile also is the median and we can see that value at the median is very close to zero."
   ]
  },
  {
   "cell_type": "code",
   "execution_count": 35,
   "metadata": {},
   "outputs": [
    {
     "data": {
      "text/plain": [
       "0.6500847139386565"
      ]
     },
     "execution_count": 35,
     "metadata": {},
     "output_type": "execute_result"
    }
   ],
   "source": [
    "# Let us calculate 50th Percentile using Numpy Percentile function \n",
    "np.percentile(vals,90)"
   ]
  },
  {
   "cell_type": "markdown",
   "metadata": {},
   "source": [
    "# Moments\n",
    "\n",
    "Moments are ways to measure the shape of a distribution, probability density function etc.\n",
    "\n",
    "Moment can be defined as quantitative measure of the shape of the probability density function.\n",
    "\n",
    "* First Moment is the mean or average of the data set\n",
    "* Second Moment is the variance\n",
    "* Third Moment is Skew - A distribution is skewed is one tail is longer than the other and this happens in Asymmetric Distributions\n",
    "    * A left-skewed distribution has a long left tail. Left-skewed distributions are also called negatively-skewed distributions. That’s because there is a long tail in the negative direction on the number line. The mean is also to the left of the peak.\n",
    "    * A right-skewed distribution has a long right tail. Right-skewed distributions are also called positive-skew distributions. That’s because there is a long tail in the positive direction on the number line. The mean is also to the right of the peak.\n",
    "* Krutosis -  which is a measure of how thick the tail is or how shrap are the peaks\n",
    "\n",
    "## Computing Moments in Python\n",
    "\n",
    "Let us create Normally Distributed Random Data, where the distribution is centered around 0 with a standard deviation of 0.5 and get 10000 points"
   ]
  },
  {
   "cell_type": "code",
   "execution_count": 36,
   "metadata": {
    "scrolled": true
   },
   "outputs": [
    {
     "data": {
      "image/png": "[encoded data removed]",
      "text/plain": [
       "<Figure size 432x288 with 1 Axes>"
      ]
     },
     "metadata": {
      "needs_background": "light"
     },
     "output_type": "display_data"
    }
   ],
   "source": [
    "import numpy as np\n",
    "import matplotlib.pyplot as plt\n",
    "\n",
    "vals = np.random.normal(0, 0.5, 10000)\n",
    "\n",
    "plt.hist(vals, 50)\n",
    "plt.show()"
   ]
  },
  {
   "cell_type": "code",
   "execution_count": 47,
   "metadata": {
    "scrolled": true
   },
   "outputs": [
    {
     "name": "stdout",
     "output_type": "stream",
     "text": [
      "mean:  0.007711466867103819 \n",
      "Var:  0.2423979277709977 \n",
      "skew:  0.039051977110784696 \n",
      "Krutosis:  0.012118296265776873\n"
     ]
    }
   ],
   "source": [
    "#Now lets find the Mean, Variance, Skew and Krutosis of the data set\n",
    "import scipy.stats as sp\n",
    "mean = np.mean(vals)\n",
    "var = np.var(vals)\n",
    "skew = sp.skew(vals)\n",
    "krutosis = sp.kurtosis(vals)\n",
    "print(\"mean: \",mean,\"\\nVar: \",var,\"\\nskew: \",skew,\"\\nKrutosis: \",krutosis)"
   ]
  },
  {
   "cell_type": "markdown",
   "metadata": {},
   "source": [
    "Kurtosis reveals our data distribution in two linked ways: the shape of the tail, or the how sharp the peak If I just squish the tail down it kind of pushes up that peak to be pointier, and likewise, if I were to push down that distribution, you can imagine that's kind of spreading things out a little bit, making the tails a little bit fatter, and the peak of it a little bit lower. So that's what kurtosis means, and in this example, kurtosis is near zero because it is just a plain old normal distribution"
   ]
  },
  {
   "cell_type": "markdown",
   "metadata": {},
   "source": [
    "# Summary\n",
    "\n",
    "In this chapter, we saw the types of data (numeric, categorical, and ordinal data) that you might encounter and how to categorize them and how you treat them differently depending on what kind of data you're dealing with. We also walked through the statistical concepts of mean, median and mode, and we also saw the importance of choosing between median and mean, and that often the median is a better choice than the mean because of outliers.\n",
    "\n",
    "Next, we analyzed how to compute mean, median, and mode using Python in an IPython Notebook file. We learned the concepts of standard deviation and variance in depth and how to compute them in Python. We saw that they’re a measure of the spread of a data distribution. We also saw a way to visualize and measure the actual chance of a given range of values occurring in a dataset using probability density functions and probability mass functions.\n",
    "\n",
    "We looked at the types of data distributions (Uniform distribution, Normal or Gaussian distribution, Exponential probability distribution, Binomial probability mass function, Poisson probability mass function) in general and how to visualize them using Python. We analyzed the concepts of percentiles and moments and saw how to compute them using Python."
   ]
  }
 ],
 "metadata": {
  "kernelspec": {
   "display_name": "Python 3",
   "language": "python",
   "name": "python3"
  },
  "language_info": {
   "codemirror_mode": {
    "name": "ipython",
    "version": 3
   },
   "file_extension": ".py",
   "mimetype": "text/x-python",
   "name": "python",
   "nbconvert_exporter": "python",
   "pygments_lexer": "ipython3",
   "version": "3.7.0"
  }
 },
 "nbformat": 4,
 "nbformat_minor": 2
}
