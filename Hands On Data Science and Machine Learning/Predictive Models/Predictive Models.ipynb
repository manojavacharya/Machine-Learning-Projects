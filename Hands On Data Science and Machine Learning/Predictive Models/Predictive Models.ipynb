{
 "cells": [
  {
   "cell_type": "markdown",
   "metadata": {},
   "source": [
    "# Linear Regression\n",
    "\n",
    "In regression analysis, its all about trying to fit a curve or some sort of function, to a set of observations and then using that function to predict new values for the data you have not yet seen.\n",
    "\n",
    "In Linear Regression we try to fit a straight line to a set of observations.\n",
    "\n",
    "## Ordinary Least Squares Technique - OLS\n",
    "\n",
    "Ordinary Least Squares tries to minimize the squared error between each point and the line, where the error is just the distance between each point and the line that you have. We then sum up all the squared of those errors. By minimizing the Sum of Squared error we get the like that fits the data best.\n",
    "\n",
    "Another way of thinking about linear regression is that you are defining a line that represents the maximum likelihood of an observation line there.\n",
    "\n",
    "## Gradient Descent Technique\n",
    "\n",
    "Gradient Descent is another way of implementing Linear Regression, which works best for three-dimensional data.\n",
    "\n",
    "## The Coefficient of Determination ( R- Squared )\n",
    "\n",
    "Coefficient of Determination or R-Squared helps us determine how good the regression model is and how well the line fits the data. R-Squared is the fraction of the total variations in Y that is captured by your model. So how well does your line follow the variations that's happening in the data, are we getting equal amount of variance on either side of your line?\n",
    "\n",
    "### Computing R-Squared\n",
    "\n",
    "1.0 - ((Sum of Squared Errors)/(Sum of Squared Variation from Mean))\n",
    "\n",
    "### Interpreting R-Squared\n",
    "\n",
    "For R-Squared you will get a value that ranges from 0 to 1. ) Means the model does not capture any variance in your data and 1 means Perfect Fit where all the variance in th data is captured by the model. Low R-Squared meand poor fit and High R-Squared meand good fit."
   ]
  },
  {
   "cell_type": "markdown",
   "metadata": {},
   "source": [
    "# Computing Linear Regression and R-Squared using Python\n",
    "\n",
    "Let us first start by creating some random data which is linearly correlated. \n",
    "\n",
    "In this example we are creating fake data about page rendering speed and how much people purchase. We are going to fabricate a linear relationship between amount of time it takes for a website to load and the amount of money people spend on that website.\n",
    "\n",
    "Below we have created a random normally distributed data points for page render speed centered around 3 seconds with standard deviation of 1 sec. and we have made the purchase amount linear function of the page render speed."
   ]
  },
  {
   "cell_type": "code",
   "execution_count": 2,
   "metadata": {
    "scrolled": true
   },
   "outputs": [
    {
     "data": {
      "text/plain": [
       "<matplotlib.collections.PathCollection at 0x2886e3950f0>"
      ]
     },
     "execution_count": 2,
     "metadata": {},
     "output_type": "execute_result"
    },
    {
     "data": {
      "image/png": "[encoded data removed]",
      "text/plain": [
       "<Figure size 432x288 with 1 Axes>"
      ]
     },
     "metadata": {
      "needs_background": "light"
     },
     "output_type": "display_data"
    }
   ],
   "source": [
    "%matplotlib inline\n",
    "import numpy as np\n",
    "from pylab import *\n",
    "\n",
    "pagespeeds = np.random.normal(3.0,1.0,1000)\n",
    "purchaseamount = 100 - (pagespeeds + np.random.normal(0,0.1,1000))*3\n",
    "\n",
    "scatter(pagespeeds, purchaseamount)"
   ]
  },
  {
   "cell_type": "markdown",
   "metadata": {},
   "source": [
    "You can see that there is a linear relationship between page speed and purchase amount.\n",
    "\n",
    "Now let us see if we can find the best fit line using the Ordinary Least Squares technique.\n",
    "\n",
    "We will use the package Scipy for Linear Regression.\n",
    "\n",
    "We first import stats from scipy and then call stats.linregress() function and pass our fetures PageSpeed and PurchaseAmount. The stats.linregress() will return few values which includes Slope, Intercept, it also gives r_value from which we can get r-squared to measure the quality of that fit."
   ]
  },
  {
   "cell_type": "code",
   "execution_count": 3,
   "metadata": {},
   "outputs": [
    {
     "data": {
      "text/plain": [
       "0.9891066738562027"
      ]
     },
     "execution_count": 3,
     "metadata": {},
     "output_type": "execute_result"
    }
   ],
   "source": [
    "from scipy import stats\n",
    "\n",
    "slope, intercept, r_value, p_value, std_err = stats.linregress(pagespeeds, purchaseamount)\n",
    "\n",
    "r_value**2 # Gives the R-Squared value of the fit."
   ]
  },
  {
   "cell_type": "markdown",
   "metadata": {},
   "source": [
    "R-Squared value we got is 0.99 which is almost 1. That means that we have a really good fit.\n",
    "\n",
    "Now Let us plot that line."
   ]
  },
  {
   "cell_type": "code",
   "execution_count": 4,
   "metadata": {
    "scrolled": true
   },
   "outputs": [
    {
     "data": {
      "image/png": "[encoded data removed]",
      "text/plain": [
       "<Figure size 432x288 with 1 Axes>"
      ]
     },
     "metadata": {
      "needs_background": "light"
     },
     "output_type": "display_data"
    }
   ],
   "source": [
    "import matplotlib.pyplot as plt\n",
    "\n",
    "def predict(x):\n",
    "    return slope * x + intercept\n",
    "fitline = predict(pagespeeds)\n",
    "plt.scatter(pagespeeds,purchaseamount)\n",
    "plt.plot(pagespeeds, fitline, c='r')\n",
    "plt.show()"
   ]
  },
  {
   "cell_type": "markdown",
   "metadata": {},
   "source": [
    "# Polynomial Regression\n",
    "\n",
    "Polynomial Regression used Higher Order Polynomials to fit your data.\n",
    "\n",
    "Linear Regression is a First Order Polynomial y = mx + c\n",
    "\n",
    "The order or degree of a polynomial is determined by the maximum power of the x variable in the polynomial \n",
    "\n",
    "y = ax^2 + bx + c is a second order polynomial since the maximum power of x is 2.\n",
    "\n",
    "Higher the order of the polynomial you get more complex curves you can represent, more powers of x you have blended together more complicated shapes and relationships you can determine.\n",
    "\n",
    "More degree is not always better, usually there some natural relationship in your data that is not really complicated and if you a very large degree to fit the data, you might be over fitting the data.\n",
    "\n",
    "### Beware of Over Fitting\n",
    "\n",
    "* Don't use more degrees than you need\n",
    "* Visualize your data first to see how complex of a curve there might really be\n",
    "* Visualize the fit and check if your curve going out of its way to accommodate outliers\n",
    "* A high r-squared simply means your curve fits your training data well; it may or may not be good predictor\n",
    "\n",
    "If you have data that's kind of all over the place and has a lot of variance, you can go crazy and create a line that just like goes up and down to try to fit that data as closely as it can, but in fact that doesn't represent the intrinsic relationship of that data. It doesn't do a good job of predicting new values. "
   ]
  },
  {
   "cell_type": "markdown",
   "metadata": {},
   "source": [
    "## Implementing Polynomial Regression Using Numpy\n",
    "\n",
    "Numpy has a function called polyfit() which makes it easy to implement Polynomian Regression.\n",
    "\n",
    "Let us define a complex relation ship between pagespeed and purchaseamount. This time the relation will be non linear.\n",
    "\n",
    "Let us make purchaseamount some function which is division of Pagespeed. Like below."
   ]
  },
  {
   "cell_type": "code",
   "execution_count": 5,
   "metadata": {
    "scrolled": true
   },
   "outputs": [
    {
     "data": {
      "text/plain": [
       "<matplotlib.collections.PathCollection at 0x2886f3f1ef0>"
      ]
     },
     "execution_count": 5,
     "metadata": {},
     "output_type": "execute_result"
    },
    {
     "data": {
      "image/png": "[encoded data removed]",
      "text/plain": [
       "<Figure size 432x288 with 1 Axes>"
      ]
     },
     "metadata": {
      "needs_background": "light"
     },
     "output_type": "display_data"
    }
   ],
   "source": [
    "%matplotlib inline\n",
    "from pylab import *\n",
    "np.random.seed(2)\n",
    "pagespeed = np.random.normal(3.0,1.0,1000)\n",
    "purchaseamount = np.random.normal(50.0,10.0,1000)/pagespeed\n",
    "scatter(pagespeed, purchaseamount)"
   ]
  },
  {
   "cell_type": "markdown",
   "metadata": {},
   "source": [
    "Now we can use the polyfit() function to fit any degree polynomial you want to the data set."
   ]
  },
  {
   "cell_type": "code",
   "execution_count": 16,
   "metadata": {
    "scrolled": true
   },
   "outputs": [
    {
     "name": "stdout",
     "output_type": "stream",
     "text": [
      "        4         3         2\n",
      "0.5401 x - 8.856 x + 52.25 x - 135.3 x + 147.6\n"
     ]
    }
   ],
   "source": [
    "x = np.array(pagespeed)\n",
    "y = np.array(purchaseamount)\n",
    "p4 = np.poly1d(np.polyfit(x,y,4)) # Converts the coefficients into a polynomial equation."
   ]
  },
  {
   "cell_type": "markdown",
   "metadata": {},
   "source": [
    "Now let us create a scatter plot of original points and predicted points."
   ]
  },
  {
   "cell_type": "code",
   "execution_count": 18,
   "metadata": {
    "scrolled": true
   },
   "outputs": [
    {
     "data": {
      "image/png": "[encoded data removed]",
      "text/plain": [
       "<Figure size 432x288 with 1 Axes>"
      ]
     },
     "metadata": {
      "needs_background": "light"
     },
     "output_type": "display_data"
    }
   ],
   "source": [
    "import matplotlib.pyplot as plt\n",
    "\n",
    "xp = np.linspace(0,7,100) # Created evenly spaced numbers between range specified. Deriving x axis values and then using as \n",
    "# an input to determine y axis values by feeding it to the polynomial.\n",
    "plt.scatter(x,y)\n",
    "plt.plot(xp, p4(xp), c = 'r')\n",
    "plt.show()"
   ]
  },
  {
   "cell_type": "markdown",
   "metadata": {},
   "source": [
    "If you had a really high order polynomial, it might swoop up at the top to catch that one outlier and then swoop downwards to catch the outliers there, and get a little bit more stable through where we have a lot of density, and maybe then it could potentially go all over the place trying to fit the last set of outliers at the end. If you see that sort of nonsense, you know you have too many orders, too many degrees in your polynomial, and you should probably bring it back down because, although it fits the data that you observed, it's not going to be useful for predicting data you haven't seen"
   ]
  },
  {
   "cell_type": "markdown",
   "metadata": {},
   "source": [
    "## Computing R-Squared Error\n",
    "\n",
    "We can measure the r-squared error using the function r2_score() and passing original y values and the predicted values."
   ]
  },
  {
   "cell_type": "code",
   "execution_count": 20,
   "metadata": {},
   "outputs": [
    {
     "data": {
      "text/plain": [
       "0.8293766396303073"
      ]
     },
     "execution_count": 20,
     "metadata": {},
     "output_type": "execute_result"
    }
   ],
   "source": [
    "from sklearn.metrics import r2_score\n",
    "r2 = r2_score(y,p4(x))\n",
    "r2"
   ]
  },
  {
   "cell_type": "markdown",
   "metadata": {},
   "source": [
    "Our r-squared for this turns out to be 0.829, which isn't too bad. Remember, zero is bad, one is good. 0.82 is to pretty close to one, not perfect, and intuitively, that makes sense. You can see that our line is pretty good in the middle section of the data, but not so good out at the extreme left and not so good down at the extreme right. So, 0.82 sounds about right."
   ]
  },
  {
   "cell_type": "markdown",
   "metadata": {},
   "source": [
    "## Multivariate Regression and Predicting Car Prices\n",
    "What if we have more than one factor that influences the thing you are trying to predict.\n",
    "Multivariate analysis is used to predict some value that is based on more than one attribute.\n",
    "\n",
    "We will still use Least Squares Approach to fit a model to the data set of observation. The difference is that we are going to have a bunch of coefficients for each different feature that you have. \n",
    "\n",
    "For example if the price of car is dependent on Milage, age and doors the the equation would looks something like below.\n",
    "\n",
    "Price = a + b * milage + c * Age + d * Doors\n",
    "\n",
    "Where a, b, c, d are coefficients\n",
    "\n",
    "Once we get the coefficients from the least square analysis, we can use that information to figure out how important each of these feature is to the model. If we end up with very small coefficient for something that implies that the attribute is not important, may be it should be removed."
   ]
  },
  {
   "cell_type": "markdown",
   "metadata": {},
   "source": [
    "## Multivariate Regression using Python\n",
    "Python Pacakge which can be used for multivariate regression is statsmodel"
   ]
  },
  {
   "cell_type": "code",
   "execution_count": 2,
   "metadata": {
    "scrolled": true
   },
   "outputs": [
    {
     "data": {
      "text/html": [
       "<div>\n",
       "<style scoped>\n",
       "    .dataframe tbody tr th:only-of-type {\n",
       "        vertical-align: middle;\n",
       "    }\n",
       "\n",
       "    .dataframe tbody tr th {\n",
       "        vertical-align: top;\n",
       "    }\n",
       "\n",
       "    .dataframe thead th {\n",
       "        text-align: right;\n",
       "    }\n",
       "</style>\n",
       "<table border=\"1\" class=\"dataframe\">\n",
       "  <thead>\n",
       "    <tr style=\"text-align: right;\">\n",
       "      <th></th>\n",
       "      <th>Price</th>\n",
       "      <th>Mileage</th>\n",
       "      <th>Make</th>\n",
       "      <th>Model</th>\n",
       "      <th>Trim</th>\n",
       "      <th>Type</th>\n",
       "      <th>Cylinder</th>\n",
       "      <th>Liter</th>\n",
       "      <th>Doors</th>\n",
       "      <th>Cruise</th>\n",
       "      <th>Sound</th>\n",
       "      <th>Leather</th>\n",
       "    </tr>\n",
       "  </thead>\n",
       "  <tbody>\n",
       "    <tr>\n",
       "      <th>0</th>\n",
       "      <td>17314.103129</td>\n",
       "      <td>8221</td>\n",
       "      <td>Buick</td>\n",
       "      <td>Century</td>\n",
       "      <td>Sedan 4D</td>\n",
       "      <td>Sedan</td>\n",
       "      <td>6</td>\n",
       "      <td>3.1</td>\n",
       "      <td>4</td>\n",
       "      <td>1</td>\n",
       "      <td>1</td>\n",
       "      <td>1</td>\n",
       "    </tr>\n",
       "    <tr>\n",
       "      <th>1</th>\n",
       "      <td>17542.036083</td>\n",
       "      <td>9135</td>\n",
       "      <td>Buick</td>\n",
       "      <td>Century</td>\n",
       "      <td>Sedan 4D</td>\n",
       "      <td>Sedan</td>\n",
       "      <td>6</td>\n",
       "      <td>3.1</td>\n",
       "      <td>4</td>\n",
       "      <td>1</td>\n",
       "      <td>1</td>\n",
       "      <td>0</td>\n",
       "    </tr>\n",
       "    <tr>\n",
       "      <th>2</th>\n",
       "      <td>16218.847862</td>\n",
       "      <td>13196</td>\n",
       "      <td>Buick</td>\n",
       "      <td>Century</td>\n",
       "      <td>Sedan 4D</td>\n",
       "      <td>Sedan</td>\n",
       "      <td>6</td>\n",
       "      <td>3.1</td>\n",
       "      <td>4</td>\n",
       "      <td>1</td>\n",
       "      <td>1</td>\n",
       "      <td>0</td>\n",
       "    </tr>\n",
       "    <tr>\n",
       "      <th>3</th>\n",
       "      <td>16336.913140</td>\n",
       "      <td>16342</td>\n",
       "      <td>Buick</td>\n",
       "      <td>Century</td>\n",
       "      <td>Sedan 4D</td>\n",
       "      <td>Sedan</td>\n",
       "      <td>6</td>\n",
       "      <td>3.1</td>\n",
       "      <td>4</td>\n",
       "      <td>1</td>\n",
       "      <td>0</td>\n",
       "      <td>0</td>\n",
       "    </tr>\n",
       "    <tr>\n",
       "      <th>4</th>\n",
       "      <td>16339.170324</td>\n",
       "      <td>19832</td>\n",
       "      <td>Buick</td>\n",
       "      <td>Century</td>\n",
       "      <td>Sedan 4D</td>\n",
       "      <td>Sedan</td>\n",
       "      <td>6</td>\n",
       "      <td>3.1</td>\n",
       "      <td>4</td>\n",
       "      <td>1</td>\n",
       "      <td>0</td>\n",
       "      <td>1</td>\n",
       "    </tr>\n",
       "  </tbody>\n",
       "</table>\n",
       "</div>"
      ],
      "text/plain": [
       "          Price  Mileage   Make    Model      Trim   Type  Cylinder  Liter  \\\n",
       "0  17314.103129     8221  Buick  Century  Sedan 4D  Sedan         6    3.1   \n",
       "1  17542.036083     9135  Buick  Century  Sedan 4D  Sedan         6    3.1   \n",
       "2  16218.847862    13196  Buick  Century  Sedan 4D  Sedan         6    3.1   \n",
       "3  16336.913140    16342  Buick  Century  Sedan 4D  Sedan         6    3.1   \n",
       "4  16339.170324    19832  Buick  Century  Sedan 4D  Sedan         6    3.1   \n",
       "\n",
       "   Doors  Cruise  Sound  Leather  \n",
       "0      4       1      1        1  \n",
       "1      4       1      1        0  \n",
       "2      4       1      1        0  \n",
       "3      4       1      0        0  \n",
       "4      4       1      0        1  "
      ]
     },
     "execution_count": 2,
     "metadata": {},
     "output_type": "execute_result"
    }
   ],
   "source": [
    "# Importing the Cars data set from kelly blue books\n",
    "\n",
    "import pandas as pd\n",
    "df = pd.read_excel('http://cdn.sundog-soft.com/Udemy/DataScience/cars.xls')\n",
    "df.head()"
   ]
  },
  {
   "cell_type": "code",
   "execution_count": 6,
   "metadata": {},
   "outputs": [
    {
     "data": {
      "text/html": [
       "<div>\n",
       "<style scoped>\n",
       "    .dataframe tbody tr th:only-of-type {\n",
       "        vertical-align: middle;\n",
       "    }\n",
       "\n",
       "    .dataframe tbody tr th {\n",
       "        vertical-align: top;\n",
       "    }\n",
       "\n",
       "    .dataframe thead th {\n",
       "        text-align: right;\n",
       "    }\n",
       "</style>\n",
       "<table border=\"1\" class=\"dataframe\">\n",
       "  <thead>\n",
       "    <tr style=\"text-align: right;\">\n",
       "      <th></th>\n",
       "      <th>Price</th>\n",
       "      <th>Mileage</th>\n",
       "      <th>Make</th>\n",
       "      <th>Model</th>\n",
       "      <th>Trim</th>\n",
       "      <th>Type</th>\n",
       "      <th>Cylinder</th>\n",
       "      <th>Liter</th>\n",
       "      <th>Doors</th>\n",
       "      <th>Cruise</th>\n",
       "      <th>Sound</th>\n",
       "      <th>Leather</th>\n",
       "      <th>Model_Ord</th>\n",
       "      <th>Make_Ord</th>\n",
       "      <th>Trim_Ord</th>\n",
       "      <th>Type_Ord</th>\n",
       "    </tr>\n",
       "  </thead>\n",
       "  <tbody>\n",
       "    <tr>\n",
       "      <th>0</th>\n",
       "      <td>17314.103129</td>\n",
       "      <td>8221</td>\n",
       "      <td>Buick</td>\n",
       "      <td>Century</td>\n",
       "      <td>Sedan 4D</td>\n",
       "      <td>Sedan</td>\n",
       "      <td>6</td>\n",
       "      <td>3.1</td>\n",
       "      <td>4</td>\n",
       "      <td>1</td>\n",
       "      <td>1</td>\n",
       "      <td>1</td>\n",
       "      <td>10</td>\n",
       "      <td>0</td>\n",
       "      <td>44</td>\n",
       "      <td>3</td>\n",
       "    </tr>\n",
       "    <tr>\n",
       "      <th>1</th>\n",
       "      <td>17542.036083</td>\n",
       "      <td>9135</td>\n",
       "      <td>Buick</td>\n",
       "      <td>Century</td>\n",
       "      <td>Sedan 4D</td>\n",
       "      <td>Sedan</td>\n",
       "      <td>6</td>\n",
       "      <td>3.1</td>\n",
       "      <td>4</td>\n",
       "      <td>1</td>\n",
       "      <td>1</td>\n",
       "      <td>0</td>\n",
       "      <td>10</td>\n",
       "      <td>0</td>\n",
       "      <td>44</td>\n",
       "      <td>3</td>\n",
       "    </tr>\n",
       "    <tr>\n",
       "      <th>2</th>\n",
       "      <td>16218.847862</td>\n",
       "      <td>13196</td>\n",
       "      <td>Buick</td>\n",
       "      <td>Century</td>\n",
       "      <td>Sedan 4D</td>\n",
       "      <td>Sedan</td>\n",
       "      <td>6</td>\n",
       "      <td>3.1</td>\n",
       "      <td>4</td>\n",
       "      <td>1</td>\n",
       "      <td>1</td>\n",
       "      <td>0</td>\n",
       "      <td>10</td>\n",
       "      <td>0</td>\n",
       "      <td>44</td>\n",
       "      <td>3</td>\n",
       "    </tr>\n",
       "    <tr>\n",
       "      <th>3</th>\n",
       "      <td>16336.913140</td>\n",
       "      <td>16342</td>\n",
       "      <td>Buick</td>\n",
       "      <td>Century</td>\n",
       "      <td>Sedan 4D</td>\n",
       "      <td>Sedan</td>\n",
       "      <td>6</td>\n",
       "      <td>3.1</td>\n",
       "      <td>4</td>\n",
       "      <td>1</td>\n",
       "      <td>0</td>\n",
       "      <td>0</td>\n",
       "      <td>10</td>\n",
       "      <td>0</td>\n",
       "      <td>44</td>\n",
       "      <td>3</td>\n",
       "    </tr>\n",
       "    <tr>\n",
       "      <th>4</th>\n",
       "      <td>16339.170324</td>\n",
       "      <td>19832</td>\n",
       "      <td>Buick</td>\n",
       "      <td>Century</td>\n",
       "      <td>Sedan 4D</td>\n",
       "      <td>Sedan</td>\n",
       "      <td>6</td>\n",
       "      <td>3.1</td>\n",
       "      <td>4</td>\n",
       "      <td>1</td>\n",
       "      <td>0</td>\n",
       "      <td>1</td>\n",
       "      <td>10</td>\n",
       "      <td>0</td>\n",
       "      <td>44</td>\n",
       "      <td>3</td>\n",
       "    </tr>\n",
       "  </tbody>\n",
       "</table>\n",
       "</div>"
      ],
      "text/plain": [
       "          Price  Mileage   Make    Model      Trim   Type  Cylinder  Liter  \\\n",
       "0  17314.103129     8221  Buick  Century  Sedan 4D  Sedan         6    3.1   \n",
       "1  17542.036083     9135  Buick  Century  Sedan 4D  Sedan         6    3.1   \n",
       "2  16218.847862    13196  Buick  Century  Sedan 4D  Sedan         6    3.1   \n",
       "3  16336.913140    16342  Buick  Century  Sedan 4D  Sedan         6    3.1   \n",
       "4  16339.170324    19832  Buick  Century  Sedan 4D  Sedan         6    3.1   \n",
       "\n",
       "   Doors  Cruise  Sound  Leather  Model_Ord  Make_Ord  Trim_Ord  Type_Ord  \n",
       "0      4       1      1        1         10         0        44         3  \n",
       "1      4       1      1        0         10         0        44         3  \n",
       "2      4       1      1        0         10         0        44         3  \n",
       "3      4       1      0        0         10         0        44         3  \n",
       "4      4       1      0        1         10         0        44         3  "
      ]
     },
     "execution_count": 6,
     "metadata": {},
     "output_type": "execute_result"
    }
   ],
   "source": [
    "# Converting Categorical columns into Numerical Ordinal Data.\n",
    "\n",
    "df['Model_Ord'] = pd.Categorical(df.Model).codes\n",
    "df['Make_Ord'] = pd.Categorical(df.Make).codes\n",
    "df['Trim_Ord'] = pd.Categorical(df.Trim).codes\n",
    "df['Type_Ord'] = pd.Categorical(df.Type).codes\n",
    "\n",
    "df.head()"
   ]
  },
  {
   "cell_type": "code",
   "execution_count": 10,
   "metadata": {
    "scrolled": true
   },
   "outputs": [
    {
     "data": {
      "text/html": [
       "<table class=\"simpletable\">\n",
       "<caption>OLS Regression Results</caption>\n",
       "<tr>\n",
       "  <th>Dep. Variable:</th>          <td>Price</td>      <th>  R-squared:         </th> <td>   0.042</td> \n",
       "</tr>\n",
       "<tr>\n",
       "  <th>Model:</th>                   <td>OLS</td>       <th>  Adj. R-squared:    </th> <td>   0.038</td> \n",
       "</tr>\n",
       "<tr>\n",
       "  <th>Method:</th>             <td>Least Squares</td>  <th>  F-statistic:       </th> <td>   11.57</td> \n",
       "</tr>\n",
       "<tr>\n",
       "  <th>Date:</th>             <td>Fri, 20 Sep 2019</td> <th>  Prob (F-statistic):</th> <td>1.98e-07</td> \n",
       "</tr>\n",
       "<tr>\n",
       "  <th>Time:</th>                 <td>13:40:30</td>     <th>  Log-Likelihood:    </th> <td> -8519.1</td> \n",
       "</tr>\n",
       "<tr>\n",
       "  <th>No. Observations:</th>      <td>   804</td>      <th>  AIC:               </th> <td>1.705e+04</td>\n",
       "</tr>\n",
       "<tr>\n",
       "  <th>Df Residuals:</th>          <td>   800</td>      <th>  BIC:               </th> <td>1.706e+04</td>\n",
       "</tr>\n",
       "<tr>\n",
       "  <th>Df Model:</th>              <td>     3</td>      <th>                     </th>     <td> </td>    \n",
       "</tr>\n",
       "<tr>\n",
       "  <th>Covariance Type:</th>      <td>nonrobust</td>    <th>                     </th>     <td> </td>    \n",
       "</tr>\n",
       "</table>\n",
       "<table class=\"simpletable\">\n",
       "<tr>\n",
       "      <td></td>         <th>coef</th>     <th>std err</th>      <th>t</th>      <th>P>|t|</th>  <th>[0.025</th>    <th>0.975]</th>  \n",
       "</tr>\n",
       "<tr>\n",
       "  <th>const</th>     <td> 3.125e+04</td> <td> 1809.549</td> <td>   17.272</td> <td> 0.000</td> <td> 2.77e+04</td> <td> 3.48e+04</td>\n",
       "</tr>\n",
       "<tr>\n",
       "  <th>Mileage</th>   <td>   -0.1765</td> <td>    0.042</td> <td>   -4.227</td> <td> 0.000</td> <td>   -0.259</td> <td>   -0.095</td>\n",
       "</tr>\n",
       "<tr>\n",
       "  <th>Model_Ord</th> <td>  -39.0387</td> <td>   39.326</td> <td>   -0.993</td> <td> 0.321</td> <td> -116.234</td> <td>   38.157</td>\n",
       "</tr>\n",
       "<tr>\n",
       "  <th>Doors</th>     <td>-1652.9303</td> <td>  402.649</td> <td>   -4.105</td> <td> 0.000</td> <td>-2443.303</td> <td> -862.558</td>\n",
       "</tr>\n",
       "</table>\n",
       "<table class=\"simpletable\">\n",
       "<tr>\n",
       "  <th>Omnibus:</th>       <td>206.410</td> <th>  Durbin-Watson:     </th> <td>   0.080</td> \n",
       "</tr>\n",
       "<tr>\n",
       "  <th>Prob(Omnibus):</th> <td> 0.000</td>  <th>  Jarque-Bera (JB):  </th> <td> 470.872</td> \n",
       "</tr>\n",
       "<tr>\n",
       "  <th>Skew:</th>          <td> 1.379</td>  <th>  Prob(JB):          </th> <td>5.64e-103</td>\n",
       "</tr>\n",
       "<tr>\n",
       "  <th>Kurtosis:</th>      <td> 5.541</td>  <th>  Cond. No.          </th> <td>1.15e+05</td> \n",
       "</tr>\n",
       "</table><br/><br/>Warnings:<br/>[1] Standard Errors assume that the covariance matrix of the errors is correctly specified.<br/>[2] The condition number is large, 1.15e+05. This might indicate that there are<br/>strong multicollinearity or other numerical problems."
      ],
      "text/plain": [
       "<class 'statsmodels.iolib.summary.Summary'>\n",
       "\"\"\"\n",
       "                            OLS Regression Results                            \n",
       "==============================================================================\n",
       "Dep. Variable:                  Price   R-squared:                       0.042\n",
       "Model:                            OLS   Adj. R-squared:                  0.038\n",
       "Method:                 Least Squares   F-statistic:                     11.57\n",
       "Date:                Fri, 20 Sep 2019   Prob (F-statistic):           1.98e-07\n",
       "Time:                        13:40:30   Log-Likelihood:                -8519.1\n",
       "No. Observations:                 804   AIC:                         1.705e+04\n",
       "Df Residuals:                     800   BIC:                         1.706e+04\n",
       "Df Model:                           3                                         \n",
       "Covariance Type:            nonrobust                                         \n",
       "==============================================================================\n",
       "                 coef    std err          t      P>|t|      [0.025      0.975]\n",
       "------------------------------------------------------------------------------\n",
       "const       3.125e+04   1809.549     17.272      0.000    2.77e+04    3.48e+04\n",
       "Mileage       -0.1765      0.042     -4.227      0.000      -0.259      -0.095\n",
       "Model_Ord    -39.0387     39.326     -0.993      0.321    -116.234      38.157\n",
       "Doors      -1652.9303    402.649     -4.105      0.000   -2443.303    -862.558\n",
       "==============================================================================\n",
       "Omnibus:                      206.410   Durbin-Watson:                   0.080\n",
       "Prob(Omnibus):                  0.000   Jarque-Bera (JB):              470.872\n",
       "Skew:                           1.379   Prob(JB):                    5.64e-103\n",
       "Kurtosis:                       5.541   Cond. No.                     1.15e+05\n",
       "==============================================================================\n",
       "\n",
       "Warnings:\n",
       "[1] Standard Errors assume that the covariance matrix of the errors is correctly specified.\n",
       "[2] The condition number is large, 1.15e+05. This might indicate that there are\n",
       "strong multicollinearity or other numerical problems.\n",
       "\"\"\""
      ]
     },
     "execution_count": 10,
     "metadata": {},
     "output_type": "execute_result"
    }
   ],
   "source": [
    "# Selecting the fields for the model.\n",
    "# And building the model\n",
    "import statsmodels.api as sm \n",
    "\n",
    "X = df[['Mileage', 'Model_Ord', 'Doors']]\n",
    "y = df[['Price']]\n",
    "\n",
    "X1 = sm.add_constant(X) # Adds the Constant value of 1, which will act as the coefficient column.\n",
    "est = sm.OLS(y, X1).fit()\n",
    "est.summary()"
   ]
  },
  {
   "cell_type": "markdown",
   "metadata": {},
   "source": [
    "We can see that the r-squared is very low, which means that the model is not good.\n",
    "\n",
    "Coefficient is a good way of determining which attributes matter the most and that is true if the input data is normalized. That is if all the data is on the same scale, if not the Coefficients are kind of compensating for the scale of the data.\n",
    "If you are not dealing with normalized data more useful metric to look at is Standard Error.\n",
    "\n",
    "And we can see that Milage has the lowest standard error which means that is an important factor. And doors has the highest which means it is not that important and does not have a huge influence on the price."
   ]
  },
  {
   "cell_type": "code",
   "execution_count": 11,
   "metadata": {
    "scrolled": true
   },
   "outputs": [
    {
     "data": {
      "text/html": [
       "<div>\n",
       "<style scoped>\n",
       "    .dataframe tbody tr th:only-of-type {\n",
       "        vertical-align: middle;\n",
       "    }\n",
       "\n",
       "    .dataframe tbody tr th {\n",
       "        vertical-align: top;\n",
       "    }\n",
       "\n",
       "    .dataframe thead th {\n",
       "        text-align: right;\n",
       "    }\n",
       "</style>\n",
       "<table border=\"1\" class=\"dataframe\">\n",
       "  <thead>\n",
       "    <tr style=\"text-align: right;\">\n",
       "      <th></th>\n",
       "      <th>Price</th>\n",
       "    </tr>\n",
       "    <tr>\n",
       "      <th>Doors</th>\n",
       "      <th></th>\n",
       "    </tr>\n",
       "  </thead>\n",
       "  <tbody>\n",
       "    <tr>\n",
       "      <th>2</th>\n",
       "      <td>23807.135520</td>\n",
       "    </tr>\n",
       "    <tr>\n",
       "      <th>4</th>\n",
       "      <td>20580.670749</td>\n",
       "    </tr>\n",
       "  </tbody>\n",
       "</table>\n",
       "</div>"
      ],
      "text/plain": [
       "              Price\n",
       "Doors              \n",
       "2      23807.135520\n",
       "4      20580.670749"
      ]
     },
     "execution_count": 11,
     "metadata": {},
     "output_type": "execute_result"
    }
   ],
   "source": [
    "y.groupby(df.Doors).mean()"
   ]
  },
  {
   "cell_type": "markdown",
   "metadata": {},
   "source": [
    "We can see that the average price of cars based on number of doors are not that far apart."
   ]
  },
  {
   "cell_type": "code",
   "execution_count": 12,
   "metadata": {},
   "outputs": [
    {
     "data": {
      "text/html": [
       "<div>\n",
       "<style scoped>\n",
       "    .dataframe tbody tr th:only-of-type {\n",
       "        vertical-align: middle;\n",
       "    }\n",
       "\n",
       "    .dataframe tbody tr th {\n",
       "        vertical-align: top;\n",
       "    }\n",
       "\n",
       "    .dataframe thead th {\n",
       "        text-align: right;\n",
       "    }\n",
       "</style>\n",
       "<table border=\"1\" class=\"dataframe\">\n",
       "  <thead>\n",
       "    <tr style=\"text-align: right;\">\n",
       "      <th></th>\n",
       "      <th>Price</th>\n",
       "      <th>Mileage</th>\n",
       "      <th>Make</th>\n",
       "      <th>Model</th>\n",
       "      <th>Trim</th>\n",
       "      <th>Type</th>\n",
       "      <th>Cylinder</th>\n",
       "      <th>Liter</th>\n",
       "      <th>Doors</th>\n",
       "      <th>Cruise</th>\n",
       "      <th>Sound</th>\n",
       "      <th>Leather</th>\n",
       "      <th>Model_Ord</th>\n",
       "      <th>Make_Ord</th>\n",
       "      <th>Trim_Ord</th>\n",
       "      <th>Type_Ord</th>\n",
       "    </tr>\n",
       "  </thead>\n",
       "  <tbody>\n",
       "    <tr>\n",
       "      <th>0</th>\n",
       "      <td>17314.103129</td>\n",
       "      <td>8221</td>\n",
       "      <td>Buick</td>\n",
       "      <td>Century</td>\n",
       "      <td>Sedan 4D</td>\n",
       "      <td>Sedan</td>\n",
       "      <td>6</td>\n",
       "      <td>3.1</td>\n",
       "      <td>4</td>\n",
       "      <td>1</td>\n",
       "      <td>1</td>\n",
       "      <td>1</td>\n",
       "      <td>10</td>\n",
       "      <td>0</td>\n",
       "      <td>44</td>\n",
       "      <td>3</td>\n",
       "    </tr>\n",
       "    <tr>\n",
       "      <th>1</th>\n",
       "      <td>17542.036083</td>\n",
       "      <td>9135</td>\n",
       "      <td>Buick</td>\n",
       "      <td>Century</td>\n",
       "      <td>Sedan 4D</td>\n",
       "      <td>Sedan</td>\n",
       "      <td>6</td>\n",
       "      <td>3.1</td>\n",
       "      <td>4</td>\n",
       "      <td>1</td>\n",
       "      <td>1</td>\n",
       "      <td>0</td>\n",
       "      <td>10</td>\n",
       "      <td>0</td>\n",
       "      <td>44</td>\n",
       "      <td>3</td>\n",
       "    </tr>\n",
       "    <tr>\n",
       "      <th>2</th>\n",
       "      <td>16218.847862</td>\n",
       "      <td>13196</td>\n",
       "      <td>Buick</td>\n",
       "      <td>Century</td>\n",
       "      <td>Sedan 4D</td>\n",
       "      <td>Sedan</td>\n",
       "      <td>6</td>\n",
       "      <td>3.1</td>\n",
       "      <td>4</td>\n",
       "      <td>1</td>\n",
       "      <td>1</td>\n",
       "      <td>0</td>\n",
       "      <td>10</td>\n",
       "      <td>0</td>\n",
       "      <td>44</td>\n",
       "      <td>3</td>\n",
       "    </tr>\n",
       "    <tr>\n",
       "      <th>3</th>\n",
       "      <td>16336.913140</td>\n",
       "      <td>16342</td>\n",
       "      <td>Buick</td>\n",
       "      <td>Century</td>\n",
       "      <td>Sedan 4D</td>\n",
       "      <td>Sedan</td>\n",
       "      <td>6</td>\n",
       "      <td>3.1</td>\n",
       "      <td>4</td>\n",
       "      <td>1</td>\n",
       "      <td>0</td>\n",
       "      <td>0</td>\n",
       "      <td>10</td>\n",
       "      <td>0</td>\n",
       "      <td>44</td>\n",
       "      <td>3</td>\n",
       "    </tr>\n",
       "    <tr>\n",
       "      <th>4</th>\n",
       "      <td>16339.170324</td>\n",
       "      <td>19832</td>\n",
       "      <td>Buick</td>\n",
       "      <td>Century</td>\n",
       "      <td>Sedan 4D</td>\n",
       "      <td>Sedan</td>\n",
       "      <td>6</td>\n",
       "      <td>3.1</td>\n",
       "      <td>4</td>\n",
       "      <td>1</td>\n",
       "      <td>0</td>\n",
       "      <td>1</td>\n",
       "      <td>10</td>\n",
       "      <td>0</td>\n",
       "      <td>44</td>\n",
       "      <td>3</td>\n",
       "    </tr>\n",
       "  </tbody>\n",
       "</table>\n",
       "</div>"
      ],
      "text/plain": [
       "          Price  Mileage   Make    Model      Trim   Type  Cylinder  Liter  \\\n",
       "0  17314.103129     8221  Buick  Century  Sedan 4D  Sedan         6    3.1   \n",
       "1  17542.036083     9135  Buick  Century  Sedan 4D  Sedan         6    3.1   \n",
       "2  16218.847862    13196  Buick  Century  Sedan 4D  Sedan         6    3.1   \n",
       "3  16336.913140    16342  Buick  Century  Sedan 4D  Sedan         6    3.1   \n",
       "4  16339.170324    19832  Buick  Century  Sedan 4D  Sedan         6    3.1   \n",
       "\n",
       "   Doors  Cruise  Sound  Leather  Model_Ord  Make_Ord  Trim_Ord  Type_Ord  \n",
       "0      4       1      1        1         10         0        44         3  \n",
       "1      4       1      1        0         10         0        44         3  \n",
       "2      4       1      1        0         10         0        44         3  \n",
       "3      4       1      0        0         10         0        44         3  \n",
       "4      4       1      0        1         10         0        44         3  "
      ]
     },
     "execution_count": 12,
     "metadata": {},
     "output_type": "execute_result"
    }
   ],
   "source": [
    "df.head()"
   ]
  },
  {
   "cell_type": "code",
   "execution_count": 13,
   "metadata": {
    "scrolled": true
   },
   "outputs": [
    {
     "data": {
      "text/html": [
       "<table class=\"simpletable\">\n",
       "<caption>OLS Regression Results</caption>\n",
       "<tr>\n",
       "  <th>Dep. Variable:</th>          <td>Price</td>      <th>  R-squared:         </th> <td>   0.501</td> \n",
       "</tr>\n",
       "<tr>\n",
       "  <th>Model:</th>                   <td>OLS</td>       <th>  Adj. R-squared:    </th> <td>   0.494</td> \n",
       "</tr>\n",
       "<tr>\n",
       "  <th>Method:</th>             <td>Least Squares</td>  <th>  F-statistic:       </th> <td>   72.33</td> \n",
       "</tr>\n",
       "<tr>\n",
       "  <th>Date:</th>             <td>Fri, 20 Sep 2019</td> <th>  Prob (F-statistic):</th> <td>1.10e-111</td>\n",
       "</tr>\n",
       "<tr>\n",
       "  <th>Time:</th>                 <td>13:50:59</td>     <th>  Log-Likelihood:    </th> <td> -8256.6</td> \n",
       "</tr>\n",
       "<tr>\n",
       "  <th>No. Observations:</th>      <td>   804</td>      <th>  AIC:               </th> <td>1.654e+04</td>\n",
       "</tr>\n",
       "<tr>\n",
       "  <th>Df Residuals:</th>          <td>   792</td>      <th>  BIC:               </th> <td>1.659e+04</td>\n",
       "</tr>\n",
       "<tr>\n",
       "  <th>Df Model:</th>              <td>    11</td>      <th>                     </th>     <td> </td>    \n",
       "</tr>\n",
       "<tr>\n",
       "  <th>Covariance Type:</th>      <td>nonrobust</td>    <th>                     </th>     <td> </td>    \n",
       "</tr>\n",
       "</table>\n",
       "<table class=\"simpletable\">\n",
       "<tr>\n",
       "      <td></td>         <th>coef</th>     <th>std err</th>      <th>t</th>      <th>P>|t|</th>  <th>[0.025</th>    <th>0.975]</th>  \n",
       "</tr>\n",
       "<tr>\n",
       "  <th>const</th>     <td> 3955.2132</td> <td> 2450.293</td> <td>    1.614</td> <td> 0.107</td> <td> -854.622</td> <td> 8765.049</td>\n",
       "</tr>\n",
       "<tr>\n",
       "  <th>Mileage</th>   <td>   -0.1820</td> <td>    0.030</td> <td>   -5.986</td> <td> 0.000</td> <td>   -0.242</td> <td>   -0.122</td>\n",
       "</tr>\n",
       "<tr>\n",
       "  <th>Cylinder</th>  <td> 4863.9777</td> <td>  697.964</td> <td>    6.969</td> <td> 0.000</td> <td> 3493.899</td> <td> 6234.056</td>\n",
       "</tr>\n",
       "<tr>\n",
       "  <th>Liter</th>     <td> -884.0334</td> <td>  848.705</td> <td>   -1.042</td> <td> 0.298</td> <td>-2550.010</td> <td>  781.943</td>\n",
       "</tr>\n",
       "<tr>\n",
       "  <th>Doors</th>     <td> -775.9589</td> <td>  790.249</td> <td>   -0.982</td> <td> 0.326</td> <td>-2327.189</td> <td>  775.271</td>\n",
       "</tr>\n",
       "<tr>\n",
       "  <th>Cruise</th>    <td> 4750.6416</td> <td>  662.423</td> <td>    7.172</td> <td> 0.000</td> <td> 3450.329</td> <td> 6050.954</td>\n",
       "</tr>\n",
       "<tr>\n",
       "  <th>Sound</th>     <td>-1294.8629</td> <td>  559.255</td> <td>   -2.315</td> <td> 0.021</td> <td>-2392.660</td> <td> -197.066</td>\n",
       "</tr>\n",
       "<tr>\n",
       "  <th>Leather</th>   <td> 2603.6146</td> <td>  578.108</td> <td>    4.504</td> <td> 0.000</td> <td> 1468.809</td> <td> 3738.420</td>\n",
       "</tr>\n",
       "<tr>\n",
       "  <th>Model_Ord</th> <td> -180.1974</td> <td>   33.799</td> <td>   -5.331</td> <td> 0.000</td> <td> -246.544</td> <td> -113.851</td>\n",
       "</tr>\n",
       "<tr>\n",
       "  <th>Make_Ord</th>  <td>  800.2963</td> <td>  224.785</td> <td>    3.560</td> <td> 0.000</td> <td>  359.052</td> <td> 1241.540</td>\n",
       "</tr>\n",
       "<tr>\n",
       "  <th>Trim_Ord</th>  <td>  -92.1695</td> <td>   18.615</td> <td>   -4.951</td> <td> 0.000</td> <td> -128.710</td> <td>  -55.629</td>\n",
       "</tr>\n",
       "<tr>\n",
       "  <th>Type_Ord</th>  <td> -230.4293</td> <td>  606.197</td> <td>   -0.380</td> <td> 0.704</td> <td>-1420.373</td> <td>  959.514</td>\n",
       "</tr>\n",
       "</table>\n",
       "<table class=\"simpletable\">\n",
       "<tr>\n",
       "  <th>Omnibus:</th>       <td>185.507</td> <th>  Durbin-Watson:     </th> <td>   0.235</td> \n",
       "</tr>\n",
       "<tr>\n",
       "  <th>Prob(Omnibus):</th> <td> 0.000</td>  <th>  Jarque-Bera (JB):  </th> <td> 510.447</td> \n",
       "</tr>\n",
       "<tr>\n",
       "  <th>Skew:</th>          <td> 1.158</td>  <th>  Prob(JB):          </th> <td>1.44e-111</td>\n",
       "</tr>\n",
       "<tr>\n",
       "  <th>Kurtosis:</th>      <td> 6.142</td>  <th>  Cond. No.          </th> <td>2.18e+05</td> \n",
       "</tr>\n",
       "</table><br/><br/>Warnings:<br/>[1] Standard Errors assume that the covariance matrix of the errors is correctly specified.<br/>[2] The condition number is large, 2.18e+05. This might indicate that there are<br/>strong multicollinearity or other numerical problems."
      ],
      "text/plain": [
       "<class 'statsmodels.iolib.summary.Summary'>\n",
       "\"\"\"\n",
       "                            OLS Regression Results                            \n",
       "==============================================================================\n",
       "Dep. Variable:                  Price   R-squared:                       0.501\n",
       "Model:                            OLS   Adj. R-squared:                  0.494\n",
       "Method:                 Least Squares   F-statistic:                     72.33\n",
       "Date:                Fri, 20 Sep 2019   Prob (F-statistic):          1.10e-111\n",
       "Time:                        13:50:59   Log-Likelihood:                -8256.6\n",
       "No. Observations:                 804   AIC:                         1.654e+04\n",
       "Df Residuals:                     792   BIC:                         1.659e+04\n",
       "Df Model:                          11                                         \n",
       "Covariance Type:            nonrobust                                         \n",
       "==============================================================================\n",
       "                 coef    std err          t      P>|t|      [0.025      0.975]\n",
       "------------------------------------------------------------------------------\n",
       "const       3955.2132   2450.293      1.614      0.107    -854.622    8765.049\n",
       "Mileage       -0.1820      0.030     -5.986      0.000      -0.242      -0.122\n",
       "Cylinder    4863.9777    697.964      6.969      0.000    3493.899    6234.056\n",
       "Liter       -884.0334    848.705     -1.042      0.298   -2550.010     781.943\n",
       "Doors       -775.9589    790.249     -0.982      0.326   -2327.189     775.271\n",
       "Cruise      4750.6416    662.423      7.172      0.000    3450.329    6050.954\n",
       "Sound      -1294.8629    559.255     -2.315      0.021   -2392.660    -197.066\n",
       "Leather     2603.6146    578.108      4.504      0.000    1468.809    3738.420\n",
       "Model_Ord   -180.1974     33.799     -5.331      0.000    -246.544    -113.851\n",
       "Make_Ord     800.2963    224.785      3.560      0.000     359.052    1241.540\n",
       "Trim_Ord     -92.1695     18.615     -4.951      0.000    -128.710     -55.629\n",
       "Type_Ord    -230.4293    606.197     -0.380      0.704   -1420.373     959.514\n",
       "==============================================================================\n",
       "Omnibus:                      185.507   Durbin-Watson:                   0.235\n",
       "Prob(Omnibus):                  0.000   Jarque-Bera (JB):              510.447\n",
       "Skew:                           1.158   Prob(JB):                    1.44e-111\n",
       "Kurtosis:                       6.142   Cond. No.                     2.18e+05\n",
       "==============================================================================\n",
       "\n",
       "Warnings:\n",
       "[1] Standard Errors assume that the covariance matrix of the errors is correctly specified.\n",
       "[2] The condition number is large, 2.18e+05. This might indicate that there are\n",
       "strong multicollinearity or other numerical problems.\n",
       "\"\"\""
      ]
     },
     "execution_count": 13,
     "metadata": {},
     "output_type": "execute_result"
    }
   ],
   "source": [
    "# Let us consider all the variables for this analysis.\n",
    "\n",
    "X = df[['Mileage', 'Cylinder', 'Liter','Doors','Cruise','Sound','Leather', 'Model_Ord','Make_Ord','Trim_Ord','Type_Ord']]\n",
    "y = df[['Price']]\n",
    "\n",
    "X1 = sm.add_constant(X) # Adds the Constant value of 1, which will act as the coefficient column.\n",
    "est = sm.OLS(y, X1).fit()\n",
    "est.summary()"
   ]
  },
  {
   "cell_type": "markdown",
   "metadata": {},
   "source": [
    "We can see that r-squared is lot better than what we had in our last analysis, but still not good enough.\n",
    "\n",
    "We can slowly start eliminate the attributes one by one to find the best combination attributes.\n",
    "\n",
    "The best r-squared we got is with all variables included."
   ]
  },
  {
   "cell_type": "code",
   "execution_count": 19,
   "metadata": {
    "scrolled": true
   },
   "outputs": [
    {
     "data": {
      "text/html": [
       "<table class=\"simpletable\">\n",
       "<caption>OLS Regression Results</caption>\n",
       "<tr>\n",
       "  <th>Dep. Variable:</th>          <td>Price</td>      <th>  R-squared:         </th> <td>   0.456</td> \n",
       "</tr>\n",
       "<tr>\n",
       "  <th>Model:</th>                   <td>OLS</td>       <th>  Adj. R-squared:    </th> <td>   0.452</td> \n",
       "</tr>\n",
       "<tr>\n",
       "  <th>Method:</th>             <td>Least Squares</td>  <th>  F-statistic:       </th> <td>   111.3</td> \n",
       "</tr>\n",
       "<tr>\n",
       "  <th>Date:</th>             <td>Fri, 20 Sep 2019</td> <th>  Prob (F-statistic):</th> <td>7.73e-102</td>\n",
       "</tr>\n",
       "<tr>\n",
       "  <th>Time:</th>                 <td>13:58:26</td>     <th>  Log-Likelihood:    </th> <td> -8291.5</td> \n",
       "</tr>\n",
       "<tr>\n",
       "  <th>No. Observations:</th>      <td>   804</td>      <th>  AIC:               </th> <td>1.660e+04</td>\n",
       "</tr>\n",
       "<tr>\n",
       "  <th>Df Residuals:</th>          <td>   797</td>      <th>  BIC:               </th> <td>1.663e+04</td>\n",
       "</tr>\n",
       "<tr>\n",
       "  <th>Df Model:</th>              <td>     6</td>      <th>                     </th>     <td> </td>    \n",
       "</tr>\n",
       "<tr>\n",
       "  <th>Covariance Type:</th>      <td>nonrobust</td>    <th>                     </th>     <td> </td>    \n",
       "</tr>\n",
       "</table>\n",
       "<table class=\"simpletable\">\n",
       "<tr>\n",
       "      <td></td>         <th>coef</th>     <th>std err</th>      <th>t</th>      <th>P>|t|</th>  <th>[0.025</th>    <th>0.975]</th>  \n",
       "</tr>\n",
       "<tr>\n",
       "  <th>const</th>     <td> 4936.8760</td> <td> 1846.411</td> <td>    2.674</td> <td> 0.008</td> <td> 1312.474</td> <td> 8561.278</td>\n",
       "</tr>\n",
       "<tr>\n",
       "  <th>Mileage</th>   <td>   -0.1758</td> <td>    0.032</td> <td>   -5.560</td> <td> 0.000</td> <td>   -0.238</td> <td>   -0.114</td>\n",
       "</tr>\n",
       "<tr>\n",
       "  <th>Cylinder</th>  <td> 4981.0313</td> <td>  220.639</td> <td>   22.575</td> <td> 0.000</td> <td> 4547.928</td> <td> 5414.134</td>\n",
       "</tr>\n",
       "<tr>\n",
       "  <th>Model_Ord</th> <td> -245.1666</td> <td>   32.558</td> <td>   -7.530</td> <td> 0.000</td> <td> -309.076</td> <td> -181.258</td>\n",
       "</tr>\n",
       "<tr>\n",
       "  <th>Make_Ord</th>  <td>  867.0458</td> <td>  224.812</td> <td>    3.857</td> <td> 0.000</td> <td>  425.752</td> <td> 1308.340</td>\n",
       "</tr>\n",
       "<tr>\n",
       "  <th>Trim_Ord</th>  <td> -119.6274</td> <td>   18.754</td> <td>   -6.379</td> <td> 0.000</td> <td> -156.440</td> <td>  -82.815</td>\n",
       "</tr>\n",
       "<tr>\n",
       "  <th>Type_Ord</th>  <td> -645.7150</td> <td>  250.089</td> <td>   -2.582</td> <td> 0.010</td> <td>-1136.627</td> <td> -154.803</td>\n",
       "</tr>\n",
       "</table>\n",
       "<table class=\"simpletable\">\n",
       "<tr>\n",
       "  <th>Omnibus:</th>       <td>205.908</td> <th>  Durbin-Watson:     </th> <td>   0.090</td> \n",
       "</tr>\n",
       "<tr>\n",
       "  <th>Prob(Omnibus):</th> <td> 0.000</td>  <th>  Jarque-Bera (JB):  </th> <td> 552.349</td> \n",
       "</tr>\n",
       "<tr>\n",
       "  <th>Skew:</th>          <td> 1.296</td>  <th>  Prob(JB):          </th> <td>1.15e-120</td>\n",
       "</tr>\n",
       "<tr>\n",
       "  <th>Kurtosis:</th>      <td> 6.125</td>  <th>  Cond. No.          </th> <td>1.55e+05</td> \n",
       "</tr>\n",
       "</table><br/><br/>Warnings:<br/>[1] Standard Errors assume that the covariance matrix of the errors is correctly specified.<br/>[2] The condition number is large, 1.55e+05. This might indicate that there are<br/>strong multicollinearity or other numerical problems."
      ],
      "text/plain": [
       "<class 'statsmodels.iolib.summary.Summary'>\n",
       "\"\"\"\n",
       "                            OLS Regression Results                            \n",
       "==============================================================================\n",
       "Dep. Variable:                  Price   R-squared:                       0.456\n",
       "Model:                            OLS   Adj. R-squared:                  0.452\n",
       "Method:                 Least Squares   F-statistic:                     111.3\n",
       "Date:                Fri, 20 Sep 2019   Prob (F-statistic):          7.73e-102\n",
       "Time:                        13:58:26   Log-Likelihood:                -8291.5\n",
       "No. Observations:                 804   AIC:                         1.660e+04\n",
       "Df Residuals:                     797   BIC:                         1.663e+04\n",
       "Df Model:                           6                                         \n",
       "Covariance Type:            nonrobust                                         \n",
       "==============================================================================\n",
       "                 coef    std err          t      P>|t|      [0.025      0.975]\n",
       "------------------------------------------------------------------------------\n",
       "const       4936.8760   1846.411      2.674      0.008    1312.474    8561.278\n",
       "Mileage       -0.1758      0.032     -5.560      0.000      -0.238      -0.114\n",
       "Cylinder    4981.0313    220.639     22.575      0.000    4547.928    5414.134\n",
       "Model_Ord   -245.1666     32.558     -7.530      0.000    -309.076    -181.258\n",
       "Make_Ord     867.0458    224.812      3.857      0.000     425.752    1308.340\n",
       "Trim_Ord    -119.6274     18.754     -6.379      0.000    -156.440     -82.815\n",
       "Type_Ord    -645.7150    250.089     -2.582      0.010   -1136.627    -154.803\n",
       "==============================================================================\n",
       "Omnibus:                      205.908   Durbin-Watson:                   0.090\n",
       "Prob(Omnibus):                  0.000   Jarque-Bera (JB):              552.349\n",
       "Skew:                           1.296   Prob(JB):                    1.15e-120\n",
       "Kurtosis:                       6.125   Cond. No.                     1.55e+05\n",
       "==============================================================================\n",
       "\n",
       "Warnings:\n",
       "[1] Standard Errors assume that the covariance matrix of the errors is correctly specified.\n",
       "[2] The condition number is large, 1.55e+05. This might indicate that there are\n",
       "strong multicollinearity or other numerical problems.\n",
       "\"\"\""
      ]
     },
     "execution_count": 19,
     "metadata": {},
     "output_type": "execute_result"
    }
   ],
   "source": [
    "X = df[['Mileage', 'Cylinder',  'Model_Ord','Make_Ord','Trim_Ord','Type_Ord']]\n",
    "y = df[['Price']]\n",
    "\n",
    "X1 = sm.add_constant(X) # Adds the Constant value of 1, which will act as the coefficient column.\n",
    "est = sm.OLS(y, X1).fit()\n",
    "est.summary()"
   ]
  },
  {
   "cell_type": "markdown",
   "metadata": {},
   "source": [
    "## Multi-Level Models\n",
    "\n",
    "The concept of multi-level models is that some effects happen at various levels in the hierarchy. Your health might depend on how healthy the organs that they're inside are, and the health of your organs might depend on the health of you as a whole. Your health might depend in part on your family's health and the environment your family gives you. And your family's health in turn might depend on some factors of the city that you live in, how much crime is there, how much stress is there, how much pollution is there. And even beyond that, it might depend on factors in the entire world that we live in. Maybe just the state of medical technology in the world is a factor, right?\n",
    "\n",
    "Another example: your wealth. How much money do you make? Well, that's a factor of your individual hard work, but it's also a factor of the work that your parents did, how much money were they able to invest into your education and the environment that you grew up in, and in turn, how about your grandparents? What sort of environment were they able to create and what sort of education were they able to offer for your parents, which in turn influenced the resources they have available for your own\n",
    "education and upbringing.\n",
    "\n",
    "These are all examples of multi-level models where there is a hierarchy of effects that influence each other at larger and larger scales. Now the challenge of multi-level models is to try to figure out, \"Well, how do I model these interdependencies? How do I model all these different effects and how they affect each other?\""
   ]
  }
 ],
 "metadata": {
  "kernelspec": {
   "display_name": "Python 3",
   "language": "python",
   "name": "python3"
  },
  "language_info": {
   "codemirror_mode": {
    "name": "ipython",
    "version": 3
   },
   "file_extension": ".py",
   "mimetype": "text/x-python",
   "name": "python",
   "nbconvert_exporter": "python",
   "pygments_lexer": "ipython3",
   "version": "3.7.0"
  }
 },
 "nbformat": 4,
 "nbformat_minor": 2
}
