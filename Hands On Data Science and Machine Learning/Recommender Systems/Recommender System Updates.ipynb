{
 "cells": [
  {
   "cell_type": "markdown",
   "metadata": {},
   "source": [
    "This is an exercise to improve the recommender system that we built in our previous exercise.\n",
    "\n",
    "Few ideas that we will experiment in improving our existing recommendation system are \n",
    "\n",
    "* There are probably some outliers in our user rating dataset, what if we were to throw away people that rated some ridiculous number of movies? Maybe they're skewing everything. \n",
    "* We can also improve upon the fact that we saw a lot of movies in the results that were similar to Gone with the Wind, even though we didn't like Gone with the Wind. You know we weighted those results lower than similarities to movies that were enjoyed, but maybe those movies should actually be penalized. If I hated Gone with the Wind that much, maybe similarities to Gone with the Wind, like The Wizard of Oz, should actually be penalized and, you know lowered in their score instead of raised at all.\n",
    "* We used a minimum period value of 100, maybe that's too high, maybe it's too low; we just kind of picked it arbitrarily. What happens if you play with that value? If you were to lower that for example, I would expect you to see some new movies maybe you've never heard of, but might still be a good recommendation for that person. Or, if you were to raise it higher, you would see, you know nothing but blockbusters."
   ]
  },
  {
   "cell_type": "code",
   "execution_count": 1,
   "metadata": {},
   "outputs": [
    {
     "data": {
      "text/html": [
       "<div>\n",
       "<style scoped>\n",
       "    .dataframe tbody tr th:only-of-type {\n",
       "        vertical-align: middle;\n",
       "    }\n",
       "\n",
       "    .dataframe tbody tr th {\n",
       "        vertical-align: top;\n",
       "    }\n",
       "\n",
       "    .dataframe thead th {\n",
       "        text-align: right;\n",
       "    }\n",
       "</style>\n",
       "<table border=\"1\" class=\"dataframe\">\n",
       "  <thead>\n",
       "    <tr style=\"text-align: right;\">\n",
       "      <th></th>\n",
       "      <th>movie_id</th>\n",
       "      <th>title</th>\n",
       "      <th>user_id</th>\n",
       "      <th>rating</th>\n",
       "    </tr>\n",
       "  </thead>\n",
       "  <tbody>\n",
       "    <tr>\n",
       "      <th>0</th>\n",
       "      <td>1</td>\n",
       "      <td>Toy Story (1995)</td>\n",
       "      <td>308</td>\n",
       "      <td>4</td>\n",
       "    </tr>\n",
       "    <tr>\n",
       "      <th>1</th>\n",
       "      <td>1</td>\n",
       "      <td>Toy Story (1995)</td>\n",
       "      <td>287</td>\n",
       "      <td>5</td>\n",
       "    </tr>\n",
       "    <tr>\n",
       "      <th>2</th>\n",
       "      <td>1</td>\n",
       "      <td>Toy Story (1995)</td>\n",
       "      <td>148</td>\n",
       "      <td>4</td>\n",
       "    </tr>\n",
       "    <tr>\n",
       "      <th>3</th>\n",
       "      <td>1</td>\n",
       "      <td>Toy Story (1995)</td>\n",
       "      <td>280</td>\n",
       "      <td>4</td>\n",
       "    </tr>\n",
       "    <tr>\n",
       "      <th>4</th>\n",
       "      <td>1</td>\n",
       "      <td>Toy Story (1995)</td>\n",
       "      <td>66</td>\n",
       "      <td>3</td>\n",
       "    </tr>\n",
       "  </tbody>\n",
       "</table>\n",
       "</div>"
      ],
      "text/plain": [
       "   movie_id             title  user_id  rating\n",
       "0         1  Toy Story (1995)      308       4\n",
       "1         1  Toy Story (1995)      287       5\n",
       "2         1  Toy Story (1995)      148       4\n",
       "3         1  Toy Story (1995)      280       4\n",
       "4         1  Toy Story (1995)       66       3"
      ]
     },
     "execution_count": 1,
     "metadata": {},
     "output_type": "execute_result"
    }
   ],
   "source": [
    "# Importing the data into data frame and merging to make sense of the title names.\n",
    "import pandas as pd\n",
    "import numpy as np\n",
    "r_cols = ['user_id', 'movie_id', 'rating']\n",
    "ratings = pd.read_csv('ml-100k/u.data', sep='\\\\t', names=r_cols, usecols=range(3), engine='python')\n",
    "\n",
    "m_cols = ['movie_id', 'title']\n",
    "movies = pd.read_csv('ml-100k/u.item', sep='|', names=m_cols, usecols=range(2), engine='python')\n",
    "\n",
    "ratings = pd.merge(movies, ratings)\n",
    "\n",
    "ratings.head()"
   ]
  },
  {
   "cell_type": "code",
   "execution_count": 2,
   "metadata": {},
   "outputs": [
    {
     "data": {
      "text/plain": [
       "944"
      ]
     },
     "execution_count": 2,
     "metadata": {},
     "output_type": "execute_result"
    }
   ],
   "source": [
    "# Total number of unique users\n",
    "ratings.user_id.nunique()"
   ]
  },
  {
   "cell_type": "code",
   "execution_count": 3,
   "metadata": {},
   "outputs": [
    {
     "data": {
      "text/plain": [
       "1664"
      ]
     },
     "execution_count": 3,
     "metadata": {},
     "output_type": "execute_result"
    }
   ],
   "source": [
    "# Find the total number of unique movies in the list\n",
    "\n",
    "ratings.title.nunique()\n",
    "\n",
    "# there 1664 movies in the list."
   ]
  },
  {
   "cell_type": "markdown",
   "metadata": {},
   "source": [
    "Here Lets Try to Identify the users who are skewing the rating results by having ridiculous number of movie ratings"
   ]
  },
  {
   "cell_type": "code",
   "execution_count": 4,
   "metadata": {
    "scrolled": true
   },
   "outputs": [
    {
     "data": {
      "text/html": [
       "<div>\n",
       "<style scoped>\n",
       "    .dataframe tbody tr th:only-of-type {\n",
       "        vertical-align: middle;\n",
       "    }\n",
       "\n",
       "    .dataframe tbody tr th {\n",
       "        vertical-align: top;\n",
       "    }\n",
       "\n",
       "    .dataframe thead th {\n",
       "        text-align: right;\n",
       "    }\n",
       "</style>\n",
       "<table border=\"1\" class=\"dataframe\">\n",
       "  <thead>\n",
       "    <tr style=\"text-align: right;\">\n",
       "      <th></th>\n",
       "      <th>User_Id</th>\n",
       "      <th>Number_of_Movies_Rated</th>\n",
       "    </tr>\n",
       "  </thead>\n",
       "  <tbody>\n",
       "    <tr>\n",
       "      <th>0</th>\n",
       "      <td>405</td>\n",
       "      <td>737</td>\n",
       "    </tr>\n",
       "    <tr>\n",
       "      <th>1</th>\n",
       "      <td>655</td>\n",
       "      <td>685</td>\n",
       "    </tr>\n",
       "    <tr>\n",
       "      <th>2</th>\n",
       "      <td>13</td>\n",
       "      <td>636</td>\n",
       "    </tr>\n",
       "    <tr>\n",
       "      <th>3</th>\n",
       "      <td>450</td>\n",
       "      <td>540</td>\n",
       "    </tr>\n",
       "    <tr>\n",
       "      <th>4</th>\n",
       "      <td>276</td>\n",
       "      <td>518</td>\n",
       "    </tr>\n",
       "  </tbody>\n",
       "</table>\n",
       "</div>"
      ],
      "text/plain": [
       "   User_Id  Number_of_Movies_Rated\n",
       "0      405                     737\n",
       "1      655                     685\n",
       "2       13                     636\n",
       "3      450                     540\n",
       "4      276                     518"
      ]
     },
     "execution_count": 4,
     "metadata": {},
     "output_type": "execute_result"
    }
   ],
   "source": [
    "# This data frame will give us the user ID and the number of movies rated by them\n",
    "user_number_of_movies_rated = numberofmovierated = ratings['user_id'].value_counts().to_frame()\n",
    "user_number_of_movies_rated.reset_index(level=0, inplace=True)\n",
    "user_number_of_movies_rated = numberofmovierated.rename(columns={\"index\": \"User_Id\", \"user_id\" :\"Number_of_Movies_Rated\"})\n",
    "user_number_of_movies_rated.head()"
   ]
  },
  {
   "cell_type": "code",
   "execution_count": 5,
   "metadata": {},
   "outputs": [
    {
     "data": {
      "image/png": "[encoded data removed]",
      "text/plain": [
       "<Figure size 720x720 with 1 Axes>"
      ]
     },
     "metadata": {
      "needs_background": "light"
     },
     "output_type": "display_data"
    }
   ],
   "source": [
    "%matplotlib inline\n",
    "import matplotlib.pyplot as plt\n",
    "plt.figure(figsize=(10,10))\n",
    "Index = user_number_of_movies_rated['User_Id']\n",
    "Values = user_number_of_movies_rated['Number_of_Movies_Rated']\n",
    "plt.xlabel('User_Id', fontsize=15)\n",
    "plt.ylabel('No of Number_of_Movies_Rated', fontsize=15)\n",
    "plt.axhline(y=user_number_of_movies_rated['Number_of_Movies_Rated'].mean(), color='r', linestyle='-')\n",
    "plt.axhline(y=user_number_of_movies_rated['Number_of_Movies_Rated'].median(), color='g', linestyle='--')\n",
    "# Defining The Thershold for Outliers.\n",
    "from scipy.stats import iqr\n",
    "Outlier = np.percentile(user_number_of_movies_rated['Number_of_Movies_Rated'], 75) + (iqr(user_number_of_movies_rated['Number_of_Movies_Rated'])*1.5)\n",
    "plt.axhline(y=Outlier, color='black', linestyle='--')\n",
    "plt.legend(['Mean', 'Median', 'Outlier'], loc=2) \n",
    "plt.bar(Index, Values)\n",
    "plt.show()\n"
   ]
  },
  {
   "cell_type": "code",
   "execution_count": 6,
   "metadata": {},
   "outputs": [
    {
     "name": "stdout",
     "output_type": "stream",
     "text": [
      "mean =  105.93538135593221\n",
      "median =  64.5\n",
      "mode =  ModeResult(mode=array([20], dtype=int64), count=array([32]))\n",
      "Standard Deviation =  100.93394760785836\n",
      "mode =  10187.661779705895\n",
      "IQR =  115.0\n",
      "Outlier =  320.5\n"
     ]
    }
   ],
   "source": [
    "# Printing the basic statistical metrics which help us understand data and its spread.\n",
    "print('mean = ',user_number_of_movies_rated['Number_of_Movies_Rated'].mean())\n",
    "print('median = ',user_number_of_movies_rated['Number_of_Movies_Rated'].median())\n",
    "from scipy import stats\n",
    "print('mode = ',stats.mode(user_number_of_movies_rated['Number_of_Movies_Rated']))\n",
    "print('Standard Deviation = ',user_number_of_movies_rated['Number_of_Movies_Rated'].std())\n",
    "print('mode = ',user_number_of_movies_rated['Number_of_Movies_Rated'].var())\n",
    "from scipy.stats import iqr\n",
    "print('IQR = ',iqr(user_number_of_movies_rated['Number_of_Movies_Rated']))\n",
    "from scipy.stats import iqr\n",
    "Outlier = np.percentile(user_number_of_movies_rated['Number_of_Movies_Rated'], 75) + (iqr(user_number_of_movies_rated['Number_of_Movies_Rated'])*1.5)\n",
    "print('Outlier = ',Outlier)"
   ]
  },
  {
   "cell_type": "code",
   "execution_count": 7,
   "metadata": {},
   "outputs": [
    {
     "data": {
      "text/html": [
       "<div>\n",
       "<style scoped>\n",
       "    .dataframe tbody tr th:only-of-type {\n",
       "        vertical-align: middle;\n",
       "    }\n",
       "\n",
       "    .dataframe tbody tr th {\n",
       "        vertical-align: top;\n",
       "    }\n",
       "\n",
       "    .dataframe thead th {\n",
       "        text-align: right;\n",
       "    }\n",
       "</style>\n",
       "<table border=\"1\" class=\"dataframe\">\n",
       "  <thead>\n",
       "    <tr style=\"text-align: right;\">\n",
       "      <th></th>\n",
       "      <th>Number_of_Movies_Rated</th>\n",
       "      <th>Count_of_User_id</th>\n",
       "    </tr>\n",
       "  </thead>\n",
       "  <tbody>\n",
       "    <tr>\n",
       "      <th>0</th>\n",
       "      <td>20</td>\n",
       "      <td>32</td>\n",
       "    </tr>\n",
       "    <tr>\n",
       "      <th>1</th>\n",
       "      <td>21</td>\n",
       "      <td>24</td>\n",
       "    </tr>\n",
       "    <tr>\n",
       "      <th>2</th>\n",
       "      <td>22</td>\n",
       "      <td>23</td>\n",
       "    </tr>\n",
       "    <tr>\n",
       "      <th>3</th>\n",
       "      <td>23</td>\n",
       "      <td>21</td>\n",
       "    </tr>\n",
       "    <tr>\n",
       "      <th>4</th>\n",
       "      <td>24</td>\n",
       "      <td>21</td>\n",
       "    </tr>\n",
       "  </tbody>\n",
       "</table>\n",
       "</div>"
      ],
      "text/plain": [
       "   Number_of_Movies_Rated  Count_of_User_id\n",
       "0                      20                32\n",
       "1                      21                24\n",
       "2                      22                23\n",
       "3                      23                21\n",
       "4                      24                21"
      ]
     },
     "execution_count": 7,
     "metadata": {},
     "output_type": "execute_result"
    }
   ],
   "source": [
    "# This Data Frame will give us the count of users grouped by number of movies rated.\n",
    "number_of_movies_rated_count_of_users = user_number_of_movies_rated['Number_of_Movies_Rated'].value_counts().to_frame()\n",
    "number_of_movies_rated_count_of_users.reset_index(level=0, inplace=True)\n",
    "number_of_movies_rated_count_of_users = number_of_movies_rated_count_of_users.rename(columns={\"index\": \"Number_of_Movies_Rated\", \"Number_of_Movies_Rated\": \"Count_of_User_id\"})\n",
    "number_of_movies_rated_count_of_users.head()"
   ]
  },
  {
   "cell_type": "code",
   "execution_count": 8,
   "metadata": {
    "scrolled": true
   },
   "outputs": [
    {
     "data": {
      "image/png": "[encoded data removed]",
      "text/plain": [
       "<Figure size 720x720 with 1 Axes>"
      ]
     },
     "metadata": {
      "needs_background": "light"
     },
     "output_type": "display_data"
    }
   ],
   "source": [
    "# Outlier Detection\n",
    "%matplotlib inline\n",
    "import matplotlib.pyplot as plt\n",
    "plt.figure(figsize=(10,10))\n",
    "plt.boxplot(user_number_of_movies_rated['Number_of_Movies_Rated']) \n",
    "plt.ylabel('Number Of Movies Rated') \n",
    "plt.show()"
   ]
  },
  {
   "cell_type": "markdown",
   "metadata": {},
   "source": [
    "From the above we can see that any user who has rated more than 320 movies rated can be considered as an outlier.\n",
    "Now Let us identify those users and remove them from the data so they do not skew our correlation between the movies."
   ]
  },
  {
   "cell_type": "code",
   "execution_count": 9,
   "metadata": {},
   "outputs": [
    {
     "data": {
      "text/plain": [
       "902"
      ]
     },
     "execution_count": 9,
     "metadata": {},
     "output_type": "execute_result"
    }
   ],
   "source": [
    "# Gives the list of user_id who have rated less than 320 movies\n",
    "good_user_id = user_number_of_movies_rated.loc[user_number_of_movies_rated['Number_of_Movies_Rated'] < 320]['User_Id']\n",
    "good_user_id.count()"
   ]
  },
  {
   "cell_type": "code",
   "execution_count": 10,
   "metadata": {
    "scrolled": true
   },
   "outputs": [
    {
     "data": {
      "text/plain": [
       "movie_id    1577\n",
       "title       1560\n",
       "user_id      902\n",
       "rating         5\n",
       "dtype: int64"
      ]
     },
     "execution_count": 10,
     "metadata": {},
     "output_type": "execute_result"
    }
   ],
   "source": [
    "# Selecting only the user id which have number of ratings less than 320\n",
    "newratings = ratings[ratings['user_id'].isin(good_user_id)]\n",
    "newratings.nunique()"
   ]
  },
  {
   "cell_type": "code",
   "execution_count": 11,
   "metadata": {
    "scrolled": true
   },
   "outputs": [
    {
     "data": {
      "text/html": [
       "<div>\n",
       "<style scoped>\n",
       "    .dataframe tbody tr th:only-of-type {\n",
       "        vertical-align: middle;\n",
       "    }\n",
       "\n",
       "    .dataframe tbody tr th {\n",
       "        vertical-align: top;\n",
       "    }\n",
       "\n",
       "    .dataframe thead th {\n",
       "        text-align: right;\n",
       "    }\n",
       "</style>\n",
       "<table border=\"1\" class=\"dataframe\">\n",
       "  <thead>\n",
       "    <tr style=\"text-align: right;\">\n",
       "      <th>title</th>\n",
       "      <th>'Til There Was You (1997)</th>\n",
       "      <th>1-900 (1994)</th>\n",
       "      <th>101 Dalmatians (1996)</th>\n",
       "      <th>12 Angry Men (1957)</th>\n",
       "      <th>187 (1997)</th>\n",
       "      <th>2 Days in the Valley (1996)</th>\n",
       "      <th>20,000 Leagues Under the Sea (1954)</th>\n",
       "      <th>2001: A Space Odyssey (1968)</th>\n",
       "      <th>3 Ninjas: High Noon At Mega Mountain (1998)</th>\n",
       "      <th>39 Steps, The (1935)</th>\n",
       "      <th>...</th>\n",
       "      <th>World of Apu, The (Apur Sansar) (1959)</th>\n",
       "      <th>Wrong Trousers, The (1993)</th>\n",
       "      <th>Wyatt Earp (1994)</th>\n",
       "      <th>Year of the Horse (1997)</th>\n",
       "      <th>Young Frankenstein (1974)</th>\n",
       "      <th>Young Guns (1988)</th>\n",
       "      <th>Young Guns II (1990)</th>\n",
       "      <th>Young Poisoner's Handbook, The (1995)</th>\n",
       "      <th>Zeus and Roxanne (1997)</th>\n",
       "      <th>unknown</th>\n",
       "    </tr>\n",
       "    <tr>\n",
       "      <th>user_id</th>\n",
       "      <th></th>\n",
       "      <th></th>\n",
       "      <th></th>\n",
       "      <th></th>\n",
       "      <th></th>\n",
       "      <th></th>\n",
       "      <th></th>\n",
       "      <th></th>\n",
       "      <th></th>\n",
       "      <th></th>\n",
       "      <th></th>\n",
       "      <th></th>\n",
       "      <th></th>\n",
       "      <th></th>\n",
       "      <th></th>\n",
       "      <th></th>\n",
       "      <th></th>\n",
       "      <th></th>\n",
       "      <th></th>\n",
       "      <th></th>\n",
       "      <th></th>\n",
       "    </tr>\n",
       "  </thead>\n",
       "  <tbody>\n",
       "    <tr>\n",
       "      <th>0</th>\n",
       "      <td>NaN</td>\n",
       "      <td>NaN</td>\n",
       "      <td>NaN</td>\n",
       "      <td>NaN</td>\n",
       "      <td>NaN</td>\n",
       "      <td>NaN</td>\n",
       "      <td>NaN</td>\n",
       "      <td>NaN</td>\n",
       "      <td>NaN</td>\n",
       "      <td>NaN</td>\n",
       "      <td>...</td>\n",
       "      <td>NaN</td>\n",
       "      <td>NaN</td>\n",
       "      <td>NaN</td>\n",
       "      <td>NaN</td>\n",
       "      <td>NaN</td>\n",
       "      <td>NaN</td>\n",
       "      <td>NaN</td>\n",
       "      <td>NaN</td>\n",
       "      <td>NaN</td>\n",
       "      <td>NaN</td>\n",
       "    </tr>\n",
       "    <tr>\n",
       "      <th>1</th>\n",
       "      <td>NaN</td>\n",
       "      <td>NaN</td>\n",
       "      <td>2.0</td>\n",
       "      <td>5.0</td>\n",
       "      <td>NaN</td>\n",
       "      <td>NaN</td>\n",
       "      <td>3.0</td>\n",
       "      <td>4.0</td>\n",
       "      <td>NaN</td>\n",
       "      <td>NaN</td>\n",
       "      <td>...</td>\n",
       "      <td>NaN</td>\n",
       "      <td>5.0</td>\n",
       "      <td>NaN</td>\n",
       "      <td>NaN</td>\n",
       "      <td>5.0</td>\n",
       "      <td>3.0</td>\n",
       "      <td>NaN</td>\n",
       "      <td>NaN</td>\n",
       "      <td>NaN</td>\n",
       "      <td>4.0</td>\n",
       "    </tr>\n",
       "    <tr>\n",
       "      <th>2</th>\n",
       "      <td>NaN</td>\n",
       "      <td>NaN</td>\n",
       "      <td>NaN</td>\n",
       "      <td>NaN</td>\n",
       "      <td>NaN</td>\n",
       "      <td>NaN</td>\n",
       "      <td>NaN</td>\n",
       "      <td>NaN</td>\n",
       "      <td>1.0</td>\n",
       "      <td>NaN</td>\n",
       "      <td>...</td>\n",
       "      <td>NaN</td>\n",
       "      <td>NaN</td>\n",
       "      <td>NaN</td>\n",
       "      <td>NaN</td>\n",
       "      <td>NaN</td>\n",
       "      <td>NaN</td>\n",
       "      <td>NaN</td>\n",
       "      <td>NaN</td>\n",
       "      <td>NaN</td>\n",
       "      <td>NaN</td>\n",
       "    </tr>\n",
       "    <tr>\n",
       "      <th>3</th>\n",
       "      <td>NaN</td>\n",
       "      <td>NaN</td>\n",
       "      <td>NaN</td>\n",
       "      <td>NaN</td>\n",
       "      <td>2.0</td>\n",
       "      <td>NaN</td>\n",
       "      <td>NaN</td>\n",
       "      <td>NaN</td>\n",
       "      <td>NaN</td>\n",
       "      <td>NaN</td>\n",
       "      <td>...</td>\n",
       "      <td>NaN</td>\n",
       "      <td>NaN</td>\n",
       "      <td>NaN</td>\n",
       "      <td>NaN</td>\n",
       "      <td>NaN</td>\n",
       "      <td>NaN</td>\n",
       "      <td>NaN</td>\n",
       "      <td>NaN</td>\n",
       "      <td>NaN</td>\n",
       "      <td>NaN</td>\n",
       "    </tr>\n",
       "    <tr>\n",
       "      <th>4</th>\n",
       "      <td>NaN</td>\n",
       "      <td>NaN</td>\n",
       "      <td>NaN</td>\n",
       "      <td>NaN</td>\n",
       "      <td>NaN</td>\n",
       "      <td>NaN</td>\n",
       "      <td>NaN</td>\n",
       "      <td>NaN</td>\n",
       "      <td>NaN</td>\n",
       "      <td>NaN</td>\n",
       "      <td>...</td>\n",
       "      <td>NaN</td>\n",
       "      <td>NaN</td>\n",
       "      <td>NaN</td>\n",
       "      <td>NaN</td>\n",
       "      <td>NaN</td>\n",
       "      <td>NaN</td>\n",
       "      <td>NaN</td>\n",
       "      <td>NaN</td>\n",
       "      <td>NaN</td>\n",
       "      <td>NaN</td>\n",
       "    </tr>\n",
       "  </tbody>\n",
       "</table>\n",
       "<p>5 rows × 1560 columns</p>\n",
       "</div>"
      ],
      "text/plain": [
       "title    'Til There Was You (1997)  1-900 (1994)  101 Dalmatians (1996)  \\\n",
       "user_id                                                                   \n",
       "0                              NaN           NaN                    NaN   \n",
       "1                              NaN           NaN                    2.0   \n",
       "2                              NaN           NaN                    NaN   \n",
       "3                              NaN           NaN                    NaN   \n",
       "4                              NaN           NaN                    NaN   \n",
       "\n",
       "title    12 Angry Men (1957)  187 (1997)  2 Days in the Valley (1996)  \\\n",
       "user_id                                                                 \n",
       "0                        NaN         NaN                          NaN   \n",
       "1                        5.0         NaN                          NaN   \n",
       "2                        NaN         NaN                          NaN   \n",
       "3                        NaN         2.0                          NaN   \n",
       "4                        NaN         NaN                          NaN   \n",
       "\n",
       "title    20,000 Leagues Under the Sea (1954)  2001: A Space Odyssey (1968)  \\\n",
       "user_id                                                                      \n",
       "0                                        NaN                           NaN   \n",
       "1                                        3.0                           4.0   \n",
       "2                                        NaN                           NaN   \n",
       "3                                        NaN                           NaN   \n",
       "4                                        NaN                           NaN   \n",
       "\n",
       "title    3 Ninjas: High Noon At Mega Mountain (1998)  39 Steps, The (1935)  \\\n",
       "user_id                                                                      \n",
       "0                                                NaN                   NaN   \n",
       "1                                                NaN                   NaN   \n",
       "2                                                1.0                   NaN   \n",
       "3                                                NaN                   NaN   \n",
       "4                                                NaN                   NaN   \n",
       "\n",
       "title     ...     World of Apu, The (Apur Sansar) (1959)  \\\n",
       "user_id   ...                                              \n",
       "0         ...                                        NaN   \n",
       "1         ...                                        NaN   \n",
       "2         ...                                        NaN   \n",
       "3         ...                                        NaN   \n",
       "4         ...                                        NaN   \n",
       "\n",
       "title    Wrong Trousers, The (1993)  Wyatt Earp (1994)  \\\n",
       "user_id                                                  \n",
       "0                               NaN                NaN   \n",
       "1                               5.0                NaN   \n",
       "2                               NaN                NaN   \n",
       "3                               NaN                NaN   \n",
       "4                               NaN                NaN   \n",
       "\n",
       "title    Year of the Horse (1997)  Young Frankenstein (1974)  \\\n",
       "user_id                                                        \n",
       "0                             NaN                        NaN   \n",
       "1                             NaN                        5.0   \n",
       "2                             NaN                        NaN   \n",
       "3                             NaN                        NaN   \n",
       "4                             NaN                        NaN   \n",
       "\n",
       "title    Young Guns (1988)  Young Guns II (1990)  \\\n",
       "user_id                                            \n",
       "0                      NaN                   NaN   \n",
       "1                      3.0                   NaN   \n",
       "2                      NaN                   NaN   \n",
       "3                      NaN                   NaN   \n",
       "4                      NaN                   NaN   \n",
       "\n",
       "title    Young Poisoner's Handbook, The (1995)  Zeus and Roxanne (1997)  \\\n",
       "user_id                                                                   \n",
       "0                                          NaN                      NaN   \n",
       "1                                          NaN                      NaN   \n",
       "2                                          NaN                      NaN   \n",
       "3                                          NaN                      NaN   \n",
       "4                                          NaN                      NaN   \n",
       "\n",
       "title    unknown  \n",
       "user_id           \n",
       "0            NaN  \n",
       "1            4.0  \n",
       "2            NaN  \n",
       "3            NaN  \n",
       "4            NaN  \n",
       "\n",
       "[5 rows x 1560 columns]"
      ]
     },
     "execution_count": 11,
     "metadata": {},
     "output_type": "execute_result"
    }
   ],
   "source": [
    "# Lets create a pivot table for the user-id and movie names which is easy to do item based collaborative filtering\n",
    "\n",
    "userRatings = newratings.pivot_table(index=['user_id'], columns=['title'],values='rating')\n",
    "\n",
    "userRatings.head()"
   ]
  },
  {
   "cell_type": "code",
   "execution_count": 12,
   "metadata": {
    "scrolled": true
   },
   "outputs": [],
   "source": [
    "# # Lets build a correlation matrix of the movies where we only compare against movies which have mean number of user ratings\n",
    "\n",
    "# corrMatrix = userRatings.corr(method='pearson', min_periods=64)\n",
    "# corrMatrix.head()"
   ]
  },
  {
   "cell_type": "code",
   "execution_count": 13,
   "metadata": {},
   "outputs": [],
   "source": [
    "# # Lets us use the user id 0 as test just like in previous example. And use that to build recommendations for this user.\n",
    "\n",
    "# myRatings = userRatings.loc[0].dropna()\n",
    "# myRatings"
   ]
  },
  {
   "cell_type": "code",
   "execution_count": 14,
   "metadata": {},
   "outputs": [],
   "source": [
    "# # Here using a log function for scaling\n",
    "# simCandidates = pd.Series()\n",
    "# for i in range(0, len(myRatings.index)):\n",
    "#     print (\"Adding sims for \" + myRatings.index[i] + \"...\")\n",
    "#     # Retrieve similar movies to this one that I rated\n",
    "#     sims = corrMatrix[myRatings.index[i]].dropna()\n",
    "#     # Now scale its similarity by how well I rated this movie # We are scaling this by a Square function which weights\n",
    "#     # larger rating more than lower rating\n",
    "#     sims = sims.map(lambda x: x * np.log10(myRatings[i]))\n",
    "#     # Add the score to the list of similarity candidates\n",
    "#     simCandidates = simCandidates.append(sims)\n",
    "# #Glance at our results so far:\n",
    "# print (\"sorting...\")\n",
    "# simCandidates.sort_values(inplace = True, ascending = False)\n",
    "# print (simCandidates.head(10))"
   ]
  },
  {
   "cell_type": "code",
   "execution_count": 15,
   "metadata": {
    "scrolled": true
   },
   "outputs": [],
   "source": [
    "# # Here using square function for scaling\n",
    "# simCandidates = pd.Series()\n",
    "# for i in range(0, len(myRatings.index)):\n",
    "#     print (\"Adding sims for \" + myRatings.index[i] + \"...\")\n",
    "#     # Retrieve similar movies to this one that I rated\n",
    "#     sims = corrMatrix[myRatings.index[i]].dropna()\n",
    "#     # Now scale its similarity by how well I rated this movie # We are scaling this by a Square function which weights\n",
    "#     # larger rating more than lower rating\n",
    "#     sims = sims.map(lambda x: x * myRatings[i] * myRatings[i])\n",
    "#     # Add the score to the list of similarity candidates\n",
    "#     simCandidates = simCandidates.append(sims)\n",
    "# #Glance at our results so far:\n",
    "# print (\"sorting...\")\n",
    "# simCandidates.sort_values(inplace = True, ascending = False)\n",
    "# print (simCandidates.head(10))"
   ]
  },
  {
   "cell_type": "code",
   "execution_count": 16,
   "metadata": {
    "scrolled": true
   },
   "outputs": [],
   "source": [
    "# # Here using square function and dividing by 25 for scaling\n",
    "# simCandidates = pd.Series()\n",
    "# for i in range(0, len(myRatings.index)):\n",
    "#     print (\"Adding sims for \" + myRatings.index[i] + \"...\")\n",
    "#     # Retrieve similar movies to this one that I rated\n",
    "#     sims = corrMatrix[myRatings.index[i]].dropna()\n",
    "#     # Now scale its similarity by how well I rated this movie # We are scaling this by a Square function which weights\n",
    "#     # larger rating more than lower rating\n",
    "#     sims = sims.map(lambda x: x * myRatings[i] * myRatings[i] / 25.0)\n",
    "#     # Add the score to the list of similarity candidates\n",
    "#     simCandidates = simCandidates.append(sims)\n",
    "# #Glance at our results so far:\n",
    "# print (\"sorting...\")\n",
    "# simCandidates.sort_values(inplace = True, ascending = False)\n",
    "# print (simCandidates.head(10))"
   ]
  },
  {
   "cell_type": "code",
   "execution_count": 17,
   "metadata": {
    "scrolled": true
   },
   "outputs": [],
   "source": [
    "# # using group by to combine rows and adding the weightage for each correlation\n",
    "# simCandidates = simCandidates.groupby(simCandidates.index).sum()\n",
    "# simCandidates.sort_values(inplace = True, ascending = False)\n",
    "# simCandidates.head(10)"
   ]
  },
  {
   "cell_type": "code",
   "execution_count": 18,
   "metadata": {},
   "outputs": [],
   "source": [
    "# # Removing the movies which were already rated\n",
    "# filteredSims = simCandidates.drop(myRatings.index)\n",
    "# filteredSims.head(10)"
   ]
  },
  {
   "cell_type": "markdown",
   "metadata": {},
   "source": [
    "The results look lot better than "
   ]
  },
  {
   "cell_type": "code",
   "execution_count": 32,
   "metadata": {},
   "outputs": [
    {
     "data": {
      "text/plain": [
       "Return of the Jedi (1983)               0.989989\n",
       "Raiders of the Lost Ark (1981)          0.757104\n",
       "Mallrats (1995)                         0.720667\n",
       "Giant (1956)                            0.594401\n",
       "Delicatessen (1991)                     0.590083\n",
       "Black Sheep (1996)                      0.580553\n",
       "Bridge on the River Kwai, The (1957)    0.569521\n",
       "Philadelphia Story, The (1940)          0.568714\n",
       "Star Trek: Generations (1994)           0.567528\n",
       "Con Air (1997)                          0.557203\n",
       "dtype: float64"
      ]
     },
     "execution_count": 32,
     "metadata": {},
     "output_type": "execute_result"
    }
   ],
   "source": [
    "def movierating(period,subject,scaling):\n",
    "    corrMatrix = userRatings.corr(method='pearson', min_periods = period)\n",
    "    myRatings = userRatings.loc[subject].dropna()\n",
    "    if scaling == 1:\n",
    "        simCandidates = pd.Series()\n",
    "        for i in range(0, len(myRatings.index)):\n",
    "            #print (\"Adding sims for \" + myRatings.index[i] + \"...\")\n",
    "            # Retrieve similar movies to this one that I rated\n",
    "            sims = corrMatrix[myRatings.index[i]].dropna()\n",
    "            # Now scale its similarity by how well I rated this movie # We are scaling this by a Square function which weights\n",
    "            # larger rating more than lower rating\n",
    "            sims = sims.map(lambda x: x * np.log10(myRatings[i]))\n",
    "            # Add the score to the list of similarity candidates\n",
    "            simCandidates = simCandidates.append(sims)\n",
    "        #Glance at our results so far:\n",
    "#         print (\"sorting...\")\n",
    "#         simCandidates.sort_values(inplace = True, ascending = False)\n",
    "#         print (simCandidates.head(10))\n",
    "    elif scaling == 2:\n",
    "        # Here using square function for scaling\n",
    "        simCandidates = pd.Series()\n",
    "        for i in range(0, len(myRatings.index)):\n",
    "            #print (\"Adding sims for \" + myRatings.index[i] + \"...\")\n",
    "            # Retrieve similar movies to this one that I rated\n",
    "            sims = corrMatrix[myRatings.index[i]].dropna()\n",
    "            # Now scale its similarity by how well I rated this movie # We are scaling this by a Square function which weights\n",
    "            # larger rating more than lower rating\n",
    "            sims = sims.map(lambda x: x * myRatings[i] * myRatings[i])\n",
    "            # Add the score to the list of similarity candidates\n",
    "            simCandidates = simCandidates.append(sims)\n",
    "        #Glance at our results so far:\n",
    "#         print (\"sorting...\")\n",
    "#         simCandidates.sort_values(inplace = True, ascending = False)\n",
    "#         print (simCandidates.head(10))\n",
    "    else :\n",
    "        simCandidates = pd.Series()\n",
    "        for i in range(0, len(myRatings.index)):\n",
    "            #print (\"Adding sims for \" + myRatings.index[i] + \"...\")\n",
    "            # Retrieve similar movies to this one that I rated\n",
    "            sims = corrMatrix[myRatings.index[i]].dropna()\n",
    "            # Now scale its similarity by how well I rated this movie # We are scaling this by a Square function which weights\n",
    "            # larger rating more than lower rating\n",
    "            sims = sims.map(lambda x: x * myRatings[i] * myRatings[i] / 25.0)\n",
    "            # Add the score to the list of similarity candidates\n",
    "            simCandidates = simCandidates.append(sims)\n",
    "        #Glance at our results so far:\n",
    "#         print (\"sorting...\")\n",
    "#         simCandidates.sort_values(inplace = True, ascending = False)\n",
    "#         print (simCandidates.head(10))\n",
    "    simCandidates = simCandidates.groupby(simCandidates.index).sum()\n",
    "    simCandidates.sort_values(inplace = True, ascending = False)\n",
    "    filteredSims = simCandidates.drop(myRatings.index)\n",
    "    return filteredSims.head(10)\n",
    "\n",
    "movierating(25,0,1)"
   ]
  }
 ],
 "metadata": {
  "kernelspec": {
   "display_name": "Python 3",
   "language": "python",
   "name": "python3"
  },
  "language_info": {
   "codemirror_mode": {
    "name": "ipython",
    "version": 3
   },
   "file_extension": ".py",
   "mimetype": "text/x-python",
   "name": "python",
   "nbconvert_exporter": "python",
   "pygments_lexer": "ipython3",
   "version": "3.7.0"
  }
 },
 "nbformat": 4,
 "nbformat_minor": 2
}
