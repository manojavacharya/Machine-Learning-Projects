version https://git-lfs.github.com/spec/v1
oid sha256:e12eb15f8b55aca7d2a9b476a3f6bd5fc80160a018fd3fbf1946d51ff31e9373
size 24290
