{
 "cells": [
  {
   "cell_type": "code",
   "execution_count": 37,
   "metadata": {
    "scrolled": true
   },
   "outputs": [
    {
     "name": "stdout",
     "output_type": "stream",
     "text": [
      "['aa', 'aa', 'aa']\n"
     ]
    }
   ],
   "source": [
    "import re\n",
    "#a = 'rabcdeefgyYhFjkIoomnpOeorteeeeet'\n",
    "a = 'abaabaabaabaaei'\n",
    "#a = input()\n",
    "m = re.findall(r'([aeiouAEIOU]{2,})(?=[QWRTYPSDFGHJKLZXCVBNMqwrtypsdfghjklzxcvbnm])',a)\n",
    "print(m)"
   ]
  },
  {
   "cell_type": "code",
   "execution_count": 96,
   "metadata": {},
   "outputs": [
    {
     "name": "stdout",
     "output_type": "stream",
     "text": [
      "(0, 1)\n",
      "(1, 2)\n",
      "(4, 5)\n"
     ]
    }
   ],
   "source": [
    "a = 'aaadaa'\n",
    "b = 'aa'\n",
    "i = list(range(0,len(a)-len(b)+1))\n",
    "j = list(range(len(b), len(a)+1))\n",
    "k = zip(i,j)\n",
    "for i,j in k:\n",
    "    if a[i:j] == b:\n",
    "        print('('+str(i)+', '+str(j-1)+')')"
   ]
  },
  {
   "cell_type": "code",
   "execution_count": 102,
   "metadata": {},
   "outputs": [
    {
     "name": "stdout",
     "output_type": "stream",
     "text": [
      "<re.Match object; span=(0, 3), match='aba'>\n",
      "<re.Match object; span=(4, 7), match='aba'>\n",
      "<re.Match object; span=(8, 11), match='aba'>\n"
     ]
    }
   ],
   "source": [
    "a = 'abababababa'\n",
    "b = 'aba'\n",
    "for m in re.finditer(r'%s'%b,a):\n",
    "    print(m)"
   ]
  },
  {
   "cell_type": "code",
   "execution_count": 147,
   "metadata": {},
   "outputs": [
    {
     "name": "stdout",
     "output_type": "stream",
     "text": [
      "(4, 6)\n",
      "(6, 8)\n",
      "(8, 10)\n"
     ]
    }
   ],
   "source": [
    "a = 'hackrererernk'\n",
    "b = 'rer'\n",
    "\n",
    "p = re.compile(b)\n",
    "c = []\n",
    "if p.search(a) is None:\n",
    "    print('(-1, -1)')\n",
    "else:\n",
    "    for i in range(0,len(a)-len(b)+1):\n",
    "        if p.search(a,i) is not None:\n",
    "            t = list(p.search(a,i).span())\n",
    "            #t = list(p.search(a,i).span())\n",
    "            t[1] = t[1]-1     \n",
    "            c.append(tuple(t))\n",
    "        \n",
    "    c = list(dict.fromkeys(c))\n",
    "    for i in c:\n",
    "        print(i)\n",
    "    "
   ]
  },
  {
   "cell_type": "code",
   "execution_count": 138,
   "metadata": {},
   "outputs": [
    {
     "data": {
      "text/plain": [
       "(4, 7)"
      ]
     },
     "execution_count": 138,
     "metadata": {},
     "output_type": "execute_result"
    }
   ],
   "source": [
    "a = 'hackrererernk'\n",
    "b = 'rer'\n",
    "p = re.compile(b)\n",
    "p.search(a).span()"
   ]
  },
  {
   "cell_type": "code",
   "execution_count": 145,
   "metadata": {},
   "outputs": [
    {
     "name": "stdout",
     "output_type": "stream",
     "text": [
      "[4, 7]\n",
      "[4, 7]\n",
      "[4, 7]\n",
      "[4, 7]\n",
      "[4, 7]\n",
      "[6, 9]\n",
      "[6, 9]\n",
      "[8, 11]\n",
      "[8, 11]\n"
     ]
    }
   ],
   "source": [
    "a = 'hackrererernk'\n",
    "b = 'rer'\n",
    "p = re.compile(b)\n",
    "for i in range(0,len(a)-len(b)+1):\n",
    "    if p.search(a,i) is not None:\n",
    "        t = list(p.search(a,i).span())\n",
    "        print(t)\n",
    "    else:\n",
    "        continue\n"
   ]
  }
 ],
 "metadata": {
  "kernelspec": {
   "display_name": "Python 3",
   "language": "python",
   "name": "python3"
  },
  "language_info": {
   "codemirror_mode": {
    "name": "ipython",
    "version": 3
   },
   "file_extension": ".py",
   "mimetype": "text/x-python",
   "name": "python",
   "nbconvert_exporter": "python",
   "pygments_lexer": "ipython3",
   "version": "3.7.0"
  }
 },
 "nbformat": 4,
 "nbformat_minor": 2
}
