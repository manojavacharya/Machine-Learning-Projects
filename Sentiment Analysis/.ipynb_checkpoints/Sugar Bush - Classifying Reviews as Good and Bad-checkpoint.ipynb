{
 "cells": [
  {
   "cell_type": "code",
   "execution_count": 3,
   "metadata": {},
   "outputs": [
    {
     "data": {
      "text/html": [
       "<div>\n",
       "<style scoped>\n",
       "    .dataframe tbody tr th:only-of-type {\n",
       "        vertical-align: middle;\n",
       "    }\n",
       "\n",
       "    .dataframe tbody tr th {\n",
       "        vertical-align: top;\n",
       "    }\n",
       "\n",
       "    .dataframe thead th {\n",
       "        text-align: right;\n",
       "    }\n",
       "</style>\n",
       "<table border=\"1\" class=\"dataframe\">\n",
       "  <thead>\n",
       "    <tr style=\"text-align: right;\">\n",
       "      <th></th>\n",
       "      <th>EmailAddress</th>\n",
       "      <th>Average_Rating</th>\n",
       "      <th>Comment</th>\n",
       "    </tr>\n",
       "  </thead>\n",
       "  <tbody>\n",
       "    <tr>\n",
       "      <th>0</th>\n",
       "      <td>alesharh22@gmail.com</td>\n",
       "      <td>0.366666</td>\n",
       "      <td>There was no manager working during my entire ...</td>\n",
       "    </tr>\n",
       "    <tr>\n",
       "      <th>1</th>\n",
       "      <td>alishamb04@gmail.com</td>\n",
       "      <td>0.500000</td>\n",
       "      <td>Room was not clean. Hair abs dirt on the floor...</td>\n",
       "    </tr>\n",
       "    <tr>\n",
       "      <th>2</th>\n",
       "      <td>alishawoodby@hotmail.com</td>\n",
       "      <td>0.866666</td>\n",
       "      <td>The keys to the room and elevator definitely n...</td>\n",
       "    </tr>\n",
       "    <tr>\n",
       "      <th>3</th>\n",
       "      <td>amanda_moffitt@yahoo.com</td>\n",
       "      <td>0.800000</td>\n",
       "      <td>The room was nice, but the pull out couch was ...</td>\n",
       "    </tr>\n",
       "    <tr>\n",
       "      <th>4</th>\n",
       "      <td>andreafrost0316@gmail.com</td>\n",
       "      <td>0.733333</td>\n",
       "      <td>Check in process was very easy and staff was v...</td>\n",
       "    </tr>\n",
       "  </tbody>\n",
       "</table>\n",
       "</div>"
      ],
      "text/plain": [
       "                EmailAddress  Average_Rating  \\\n",
       "0       alesharh22@gmail.com        0.366666   \n",
       "1       alishamb04@gmail.com        0.500000   \n",
       "2   alishawoodby@hotmail.com        0.866666   \n",
       "3   amanda_moffitt@yahoo.com        0.800000   \n",
       "4  andreafrost0316@gmail.com        0.733333   \n",
       "\n",
       "                                             Comment  \n",
       "0  There was no manager working during my entire ...  \n",
       "1  Room was not clean. Hair abs dirt on the floor...  \n",
       "2  The keys to the room and elevator definitely n...  \n",
       "3  The room was nice, but the pull out couch was ...  \n",
       "4  Check in process was very easy and staff was v...  "
      ]
     },
     "execution_count": 3,
     "metadata": {},
     "output_type": "execute_result"
    }
   ],
   "source": [
    "# Importing Essential Packages and Loading the data set into a data frame.\n",
    "\n",
    "import numpy as np\n",
    "import pandas as pd\n",
    "from pandas import ExcelWriter\n",
    "from pandas import ExcelFile\n",
    "\n",
    "df = pd.read_excel('DataSet.xlsx', sheet_name='DataSet')\n",
    "df.head()\n"
   ]
  },
  {
   "cell_type": "code",
   "execution_count": 6,
   "metadata": {},
   "outputs": [],
   "source": [
    "# Create a list to capture Polarity of the the comments\n",
    "Polarity = []\n",
    "# Import TextBolb Module for Sentiment Anslysis\n",
    "from textblob import TextBlob\n",
    "# Loop through the comments to derive Polarity and append to list\n",
    "for i in range(len(df.Comment)):\n",
    "     Polarity.append(TextBlob(df.Comment[i]).sentiment.polarity)\n",
    "# Add the new column of polarity to the Data Frame\n",
    "df['Polarity'] = Polarity\n",
    "# Calculate the value of the Score\n",
    "df['Value'] = df.Average_Rating+df.Polarity-1\n",
    "# Classify the Comments based on Value\n",
    "df['Sentiment'] = np.where(df.Value >=0, 'Good Review', 'Bad Review')\n",
    "df.head(500)\n",
    "export_excel = df.to_excel ('DataSetPredictions.xlsx', index = None, header=True) #Don't forget to add '.xlsx' at the end of the path\n"
   ]
  }
 ],
 "metadata": {
  "kernelspec": {
   "display_name": "Python 3",
   "language": "python",
   "name": "python3"
  },
  "language_info": {
   "codemirror_mode": {
    "name": "ipython",
    "version": 3
   },
   "file_extension": ".py",
   "mimetype": "text/x-python",
   "name": "python",
   "nbconvert_exporter": "python",
   "pygments_lexer": "ipython3",
   "version": "3.7.0"
  }
 },
 "nbformat": 4,
 "nbformat_minor": 2
}
