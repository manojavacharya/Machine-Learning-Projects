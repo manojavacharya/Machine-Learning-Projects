{
 "cells": [
  {
   "cell_type": "code",
   "execution_count": 1,
   "metadata": {
    "scrolled": true
   },
   "outputs": [
    {
     "data": {
      "text/html": [
       "<div>\n",
       "<style scoped>\n",
       "    .dataframe tbody tr th:only-of-type {\n",
       "        vertical-align: middle;\n",
       "    }\n",
       "\n",
       "    .dataframe tbody tr th {\n",
       "        vertical-align: top;\n",
       "    }\n",
       "\n",
       "    .dataframe thead th {\n",
       "        text-align: right;\n",
       "    }\n",
       "</style>\n",
       "<table border=\"1\" class=\"dataframe\">\n",
       "  <thead>\n",
       "    <tr style=\"text-align: right;\">\n",
       "      <th></th>\n",
       "      <th>Average_Rating</th>\n",
       "      <th>Comment</th>\n",
       "      <th>Classification</th>\n",
       "    </tr>\n",
       "  </thead>\n",
       "  <tbody>\n",
       "    <tr>\n",
       "      <th>0</th>\n",
       "      <td>0.30</td>\n",
       "      <td>The service was terrible &amp; they didn,t get the...</td>\n",
       "      <td>Bad Review</td>\n",
       "    </tr>\n",
       "    <tr>\n",
       "      <th>1</th>\n",
       "      <td>0.20</td>\n",
       "      <td>Service was about as bad as it can get. My fam...</td>\n",
       "      <td>Bad Review</td>\n",
       "    </tr>\n",
       "    <tr>\n",
       "      <th>2</th>\n",
       "      <td>0.00</td>\n",
       "      <td>Tried to eat here for breakfast but their one ...</td>\n",
       "      <td>Bad Review</td>\n",
       "    </tr>\n",
       "    <tr>\n",
       "      <th>3</th>\n",
       "      <td>0.20</td>\n",
       "      <td>We did the ride and dine and the food was ter...</td>\n",
       "      <td>Bad Review</td>\n",
       "    </tr>\n",
       "    <tr>\n",
       "      <th>4</th>\n",
       "      <td>0.15</td>\n",
       "      <td>Not a pleasant experience.</td>\n",
       "      <td>Bad Review</td>\n",
       "    </tr>\n",
       "  </tbody>\n",
       "</table>\n",
       "</div>"
      ],
      "text/plain": [
       "   Average_Rating                                            Comment  \\\n",
       "0            0.30  The service was terrible & they didn,t get the...   \n",
       "1            0.20  Service was about as bad as it can get. My fam...   \n",
       "2            0.00  Tried to eat here for breakfast but their one ...   \n",
       "3            0.20   We did the ride and dine and the food was ter...   \n",
       "4            0.15                        Not a pleasant experience.    \n",
       "\n",
       "  Classification  \n",
       "0     Bad Review  \n",
       "1     Bad Review  \n",
       "2     Bad Review  \n",
       "3     Bad Review  \n",
       "4     Bad Review  "
      ]
     },
     "execution_count": 1,
     "metadata": {},
     "output_type": "execute_result"
    }
   ],
   "source": [
    "# Importing Essential Packages and Loading the data set into a data frame.\n",
    "\n",
    "import numpy as np\n",
    "import pandas as pd\n",
    "from pandas import ExcelWriter\n",
    "from pandas import ExcelFile\n",
    "import matplotlib.pyplot as plt\n",
    "import warnings\n",
    "warnings.filterwarnings(\"ignore\")\n",
    "\n",
    "df = pd.read_excel('DataSetPredictions.xlsx', sheet_name='Sheet2')\n",
    "df.head()"
   ]
  },
  {
   "cell_type": "code",
   "execution_count": 2,
   "metadata": {},
   "outputs": [
    {
     "data": {
      "text/html": [
       "<div>\n",
       "<style scoped>\n",
       "    .dataframe tbody tr th:only-of-type {\n",
       "        vertical-align: middle;\n",
       "    }\n",
       "\n",
       "    .dataframe tbody tr th {\n",
       "        vertical-align: top;\n",
       "    }\n",
       "\n",
       "    .dataframe thead th {\n",
       "        text-align: right;\n",
       "    }\n",
       "</style>\n",
       "<table border=\"1\" class=\"dataframe\">\n",
       "  <thead>\n",
       "    <tr style=\"text-align: right;\">\n",
       "      <th></th>\n",
       "      <th>Average_Rating</th>\n",
       "      <th>Comment</th>\n",
       "      <th>Classification</th>\n",
       "      <th>Polarity</th>\n",
       "    </tr>\n",
       "  </thead>\n",
       "  <tbody>\n",
       "    <tr>\n",
       "      <th>0</th>\n",
       "      <td>0.30</td>\n",
       "      <td>The service was terrible &amp; they didn,t get the...</td>\n",
       "      <td>Bad Review</td>\n",
       "      <td>-1.000000</td>\n",
       "    </tr>\n",
       "    <tr>\n",
       "      <th>1</th>\n",
       "      <td>0.20</td>\n",
       "      <td>Service was about as bad as it can get. My fam...</td>\n",
       "      <td>Bad Review</td>\n",
       "      <td>-0.700000</td>\n",
       "    </tr>\n",
       "    <tr>\n",
       "      <th>2</th>\n",
       "      <td>0.00</td>\n",
       "      <td>Tried to eat here for breakfast but their one ...</td>\n",
       "      <td>Bad Review</td>\n",
       "      <td>-0.200000</td>\n",
       "    </tr>\n",
       "    <tr>\n",
       "      <th>3</th>\n",
       "      <td>0.20</td>\n",
       "      <td>We did the ride and dine and the food was ter...</td>\n",
       "      <td>Bad Review</td>\n",
       "      <td>-0.555556</td>\n",
       "    </tr>\n",
       "    <tr>\n",
       "      <th>4</th>\n",
       "      <td>0.15</td>\n",
       "      <td>Not a pleasant experience.</td>\n",
       "      <td>Bad Review</td>\n",
       "      <td>-0.366667</td>\n",
       "    </tr>\n",
       "  </tbody>\n",
       "</table>\n",
       "</div>"
      ],
      "text/plain": [
       "   Average_Rating                                            Comment  \\\n",
       "0            0.30  The service was terrible & they didn,t get the...   \n",
       "1            0.20  Service was about as bad as it can get. My fam...   \n",
       "2            0.00  Tried to eat here for breakfast but their one ...   \n",
       "3            0.20   We did the ride and dine and the food was ter...   \n",
       "4            0.15                        Not a pleasant experience.    \n",
       "\n",
       "  Classification  Polarity  \n",
       "0     Bad Review -1.000000  \n",
       "1     Bad Review -0.700000  \n",
       "2     Bad Review -0.200000  \n",
       "3     Bad Review -0.555556  \n",
       "4     Bad Review -0.366667  "
      ]
     },
     "execution_count": 2,
     "metadata": {},
     "output_type": "execute_result"
    }
   ],
   "source": [
    "# Create a list to capture Polarity of the the comments\n",
    "Polarity = []\n",
    "# Import TextBolb Module for Sentiment Anslysis\n",
    "from textblob import TextBlob\n",
    "# Loop through the comments to derive Polarity and append to list\n",
    "for i in range(len(df.Comment)):\n",
    "     Polarity.append(TextBlob(df.Comment[i]).sentiment.polarity)\n",
    "# Add the new column of polarity to the Data Frame\n",
    "df['Polarity'] = Polarity\n",
    "df.head()"
   ]
  },
  {
   "cell_type": "code",
   "execution_count": 3,
   "metadata": {
    "scrolled": false
   },
   "outputs": [
    {
     "data": {
      "text/html": [
       "<div>\n",
       "<style scoped>\n",
       "    .dataframe tbody tr th:only-of-type {\n",
       "        vertical-align: middle;\n",
       "    }\n",
       "\n",
       "    .dataframe tbody tr th {\n",
       "        vertical-align: top;\n",
       "    }\n",
       "\n",
       "    .dataframe thead th {\n",
       "        text-align: right;\n",
       "    }\n",
       "</style>\n",
       "<table border=\"1\" class=\"dataframe\">\n",
       "  <thead>\n",
       "    <tr style=\"text-align: right;\">\n",
       "      <th></th>\n",
       "      <th>Average_Rating</th>\n",
       "      <th>Comment</th>\n",
       "      <th>Classification</th>\n",
       "      <th>Polarity</th>\n",
       "      <th>Normal Polarity</th>\n",
       "    </tr>\n",
       "  </thead>\n",
       "  <tbody>\n",
       "    <tr>\n",
       "      <th>0</th>\n",
       "      <td>0.30</td>\n",
       "      <td>The service was terrible &amp; they didn,t get the...</td>\n",
       "      <td>Bad Review</td>\n",
       "      <td>-1.000000</td>\n",
       "      <td>0.000000</td>\n",
       "    </tr>\n",
       "    <tr>\n",
       "      <th>1</th>\n",
       "      <td>0.20</td>\n",
       "      <td>Service was about as bad as it can get. My fam...</td>\n",
       "      <td>Bad Review</td>\n",
       "      <td>-0.700000</td>\n",
       "      <td>0.150000</td>\n",
       "    </tr>\n",
       "    <tr>\n",
       "      <th>2</th>\n",
       "      <td>0.00</td>\n",
       "      <td>Tried to eat here for breakfast but their one ...</td>\n",
       "      <td>Bad Review</td>\n",
       "      <td>-0.200000</td>\n",
       "      <td>0.400000</td>\n",
       "    </tr>\n",
       "    <tr>\n",
       "      <th>3</th>\n",
       "      <td>0.20</td>\n",
       "      <td>We did the ride and dine and the food was ter...</td>\n",
       "      <td>Bad Review</td>\n",
       "      <td>-0.555556</td>\n",
       "      <td>0.222222</td>\n",
       "    </tr>\n",
       "    <tr>\n",
       "      <th>4</th>\n",
       "      <td>0.15</td>\n",
       "      <td>Not a pleasant experience.</td>\n",
       "      <td>Bad Review</td>\n",
       "      <td>-0.366667</td>\n",
       "      <td>0.316667</td>\n",
       "    </tr>\n",
       "  </tbody>\n",
       "</table>\n",
       "</div>"
      ],
      "text/plain": [
       "   Average_Rating                                            Comment  \\\n",
       "0            0.30  The service was terrible & they didn,t get the...   \n",
       "1            0.20  Service was about as bad as it can get. My fam...   \n",
       "2            0.00  Tried to eat here for breakfast but their one ...   \n",
       "3            0.20   We did the ride and dine and the food was ter...   \n",
       "4            0.15                        Not a pleasant experience.    \n",
       "\n",
       "  Classification  Polarity  Normal Polarity  \n",
       "0     Bad Review -1.000000         0.000000  \n",
       "1     Bad Review -0.700000         0.150000  \n",
       "2     Bad Review -0.200000         0.400000  \n",
       "3     Bad Review -0.555556         0.222222  \n",
       "4     Bad Review -0.366667         0.316667  "
      ]
     },
     "execution_count": 3,
     "metadata": {},
     "output_type": "execute_result"
    }
   ],
   "source": [
    "df['Normal Polarity'] = (df.Polarity+1)/2\n",
    "df.head()"
   ]
  },
  {
   "cell_type": "code",
   "execution_count": 4,
   "metadata": {
    "scrolled": false
   },
   "outputs": [
    {
     "data": {
      "text/html": [
       "<div>\n",
       "<style scoped>\n",
       "    .dataframe tbody tr th:only-of-type {\n",
       "        vertical-align: middle;\n",
       "    }\n",
       "\n",
       "    .dataframe tbody tr th {\n",
       "        vertical-align: top;\n",
       "    }\n",
       "\n",
       "    .dataframe thead th {\n",
       "        text-align: right;\n",
       "    }\n",
       "</style>\n",
       "<table border=\"1\" class=\"dataframe\">\n",
       "  <thead>\n",
       "    <tr style=\"text-align: right;\">\n",
       "      <th></th>\n",
       "      <th>Average_Rating</th>\n",
       "      <th>Comment</th>\n",
       "      <th>Classification</th>\n",
       "      <th>Polarity</th>\n",
       "      <th>Normal Polarity</th>\n",
       "    </tr>\n",
       "  </thead>\n",
       "  <tbody>\n",
       "    <tr>\n",
       "      <th>0</th>\n",
       "      <td>0.30</td>\n",
       "      <td>The service was terrible &amp; they didn,t get the...</td>\n",
       "      <td>0</td>\n",
       "      <td>-1.000000</td>\n",
       "      <td>0.000000</td>\n",
       "    </tr>\n",
       "    <tr>\n",
       "      <th>1</th>\n",
       "      <td>0.20</td>\n",
       "      <td>Service was about as bad as it can get. My fam...</td>\n",
       "      <td>0</td>\n",
       "      <td>-0.700000</td>\n",
       "      <td>0.150000</td>\n",
       "    </tr>\n",
       "    <tr>\n",
       "      <th>2</th>\n",
       "      <td>0.00</td>\n",
       "      <td>Tried to eat here for breakfast but their one ...</td>\n",
       "      <td>0</td>\n",
       "      <td>-0.200000</td>\n",
       "      <td>0.400000</td>\n",
       "    </tr>\n",
       "    <tr>\n",
       "      <th>3</th>\n",
       "      <td>0.20</td>\n",
       "      <td>We did the ride and dine and the food was ter...</td>\n",
       "      <td>0</td>\n",
       "      <td>-0.555556</td>\n",
       "      <td>0.222222</td>\n",
       "    </tr>\n",
       "    <tr>\n",
       "      <th>4</th>\n",
       "      <td>0.15</td>\n",
       "      <td>Not a pleasant experience.</td>\n",
       "      <td>0</td>\n",
       "      <td>-0.366667</td>\n",
       "      <td>0.316667</td>\n",
       "    </tr>\n",
       "  </tbody>\n",
       "</table>\n",
       "</div>"
      ],
      "text/plain": [
       "   Average_Rating                                            Comment  \\\n",
       "0            0.30  The service was terrible & they didn,t get the...   \n",
       "1            0.20  Service was about as bad as it can get. My fam...   \n",
       "2            0.00  Tried to eat here for breakfast but their one ...   \n",
       "3            0.20   We did the ride and dine and the food was ter...   \n",
       "4            0.15                        Not a pleasant experience.    \n",
       "\n",
       "   Classification  Polarity  Normal Polarity  \n",
       "0               0 -1.000000         0.000000  \n",
       "1               0 -0.700000         0.150000  \n",
       "2               0 -0.200000         0.400000  \n",
       "3               0 -0.555556         0.222222  \n",
       "4               0 -0.366667         0.316667  "
      ]
     },
     "execution_count": 4,
     "metadata": {},
     "output_type": "execute_result"
    }
   ],
   "source": [
    "# Encoding the Lables\n",
    "# Import label encoder \n",
    "from sklearn import preprocessing \n",
    "  \n",
    "# label_encoder object knows how to understand word labels. \n",
    "label_encoder = preprocessing.LabelEncoder() \n",
    "  \n",
    "# Encode labels in column 'species'. \n",
    "df['Classification']= label_encoder.fit_transform(df['Classification']) \n",
    "df.head()"
   ]
  },
  {
   "cell_type": "code",
   "execution_count": 5,
   "metadata": {},
   "outputs": [
    {
     "data": {
      "text/plain": [
       "0    115\n",
       "1    101\n",
       "2      6\n",
       "Name: Classification, dtype: int64"
      ]
     },
     "execution_count": 5,
     "metadata": {},
     "output_type": "execute_result"
    }
   ],
   "source": [
    "#Get a count of classification\n",
    "df.Classification.value_counts()"
   ]
  },
  {
   "cell_type": "code",
   "execution_count": 20,
   "metadata": {},
   "outputs": [
    {
     "data": {
      "text/plain": [
       "<seaborn.axisgrid.FacetGrid at 0x160e7477a90>"
      ]
     },
     "execution_count": 20,
     "metadata": {},
     "output_type": "execute_result"
    },
    {
     "data": {
      "image/png": "[encoded data removed]",
      "text/plain": [
       "<Figure size 360x360 with 1 Axes>"
      ]
     },
     "metadata": {
      "needs_background": "light"
     },
     "output_type": "display_data"
    }
   ],
   "source": [
    "# library & dataset\n",
    "import seaborn as sns\n",
    "# Use the 'hue' argument to provide a factor variable\n",
    "sns.lmplot( x=\"Average_Rating\", y=\"Normal Polarity\", data=df, fit_reg=False, hue='Classification', legend=False)"
   ]
  },
  {
   "cell_type": "code",
   "execution_count": 7,
   "metadata": {},
   "outputs": [
    {
     "data": {
      "text/plain": [
       "0    0\n",
       "1    0\n",
       "2    0\n",
       "3    0\n",
       "4    0\n",
       "Name: Classification, dtype: int64"
      ]
     },
     "execution_count": 7,
     "metadata": {},
     "output_type": "execute_result"
    }
   ],
   "source": [
    "# Extracting X and Y which are Input and Target variables for Random Forest\n",
    "# Target Variables\n",
    "Y = df['Classification']\n",
    "Y.head()"
   ]
  },
  {
   "cell_type": "code",
   "execution_count": 8,
   "metadata": {
    "scrolled": false
   },
   "outputs": [
    {
     "data": {
      "text/html": [
       "<div>\n",
       "<style scoped>\n",
       "    .dataframe tbody tr th:only-of-type {\n",
       "        vertical-align: middle;\n",
       "    }\n",
       "\n",
       "    .dataframe tbody tr th {\n",
       "        vertical-align: top;\n",
       "    }\n",
       "\n",
       "    .dataframe thead th {\n",
       "        text-align: right;\n",
       "    }\n",
       "</style>\n",
       "<table border=\"1\" class=\"dataframe\">\n",
       "  <thead>\n",
       "    <tr style=\"text-align: right;\">\n",
       "      <th></th>\n",
       "      <th>Average_Rating</th>\n",
       "      <th>Normal Polarity</th>\n",
       "      <th>Comment</th>\n",
       "    </tr>\n",
       "  </thead>\n",
       "  <tbody>\n",
       "    <tr>\n",
       "      <th>0</th>\n",
       "      <td>0.30</td>\n",
       "      <td>0.000000</td>\n",
       "      <td>The service was terrible &amp; they didn,t get the...</td>\n",
       "    </tr>\n",
       "    <tr>\n",
       "      <th>1</th>\n",
       "      <td>0.20</td>\n",
       "      <td>0.150000</td>\n",
       "      <td>Service was about as bad as it can get. My fam...</td>\n",
       "    </tr>\n",
       "    <tr>\n",
       "      <th>2</th>\n",
       "      <td>0.00</td>\n",
       "      <td>0.400000</td>\n",
       "      <td>Tried to eat here for breakfast but their one ...</td>\n",
       "    </tr>\n",
       "    <tr>\n",
       "      <th>3</th>\n",
       "      <td>0.20</td>\n",
       "      <td>0.222222</td>\n",
       "      <td>We did the ride and dine and the food was ter...</td>\n",
       "    </tr>\n",
       "    <tr>\n",
       "      <th>4</th>\n",
       "      <td>0.15</td>\n",
       "      <td>0.316667</td>\n",
       "      <td>Not a pleasant experience.</td>\n",
       "    </tr>\n",
       "  </tbody>\n",
       "</table>\n",
       "</div>"
      ],
      "text/plain": [
       "   Average_Rating  Normal Polarity  \\\n",
       "0            0.30         0.000000   \n",
       "1            0.20         0.150000   \n",
       "2            0.00         0.400000   \n",
       "3            0.20         0.222222   \n",
       "4            0.15         0.316667   \n",
       "\n",
       "                                             Comment  \n",
       "0  The service was terrible & they didn,t get the...  \n",
       "1  Service was about as bad as it can get. My fam...  \n",
       "2  Tried to eat here for breakfast but their one ...  \n",
       "3   We did the ride and dine and the food was ter...  \n",
       "4                        Not a pleasant experience.   "
      ]
     },
     "execution_count": 8,
     "metadata": {},
     "output_type": "execute_result"
    }
   ],
   "source": [
    "X = df[['Average_Rating','Normal Polarity','Comment']]\n",
    "X.head()"
   ]
  },
  {
   "cell_type": "code",
   "execution_count": 9,
   "metadata": {},
   "outputs": [],
   "source": [
    "# Splitting Data into Train and Test Split\n",
    "from sklearn.model_selection import train_test_split\n",
    "X_train, X_test, y_train, y_test = train_test_split(X, Y, test_size=0.0)"
   ]
  },
  {
   "cell_type": "code",
   "execution_count": 10,
   "metadata": {},
   "outputs": [
    {
     "name": "stderr",
     "output_type": "stream",
     "text": [
      "C:\\Users\\macharya\\AppData\\Local\\Continuum\\anaconda3\\lib\\site-packages\\sklearn\\ensemble\\weight_boosting.py:29: DeprecationWarning: numpy.core.umath_tests is an internal NumPy module and should not be imported. It will be removed in a future NumPy release.\n",
      "  from numpy.core.umath_tests import inner1d\n"
     ]
    },
    {
     "data": {
      "text/plain": [
       "RandomForestClassifier(bootstrap=True, class_weight=None, criterion='gini',\n",
       "            max_depth=2, max_features='auto', max_leaf_nodes=None,\n",
       "            min_impurity_decrease=0.0, min_impurity_split=None,\n",
       "            min_samples_leaf=1, min_samples_split=2,\n",
       "            min_weight_fraction_leaf=0.0, n_estimators=100, n_jobs=1,\n",
       "            oob_score=False, random_state=42, verbose=0, warm_start=False)"
      ]
     },
     "execution_count": 10,
     "metadata": {},
     "output_type": "execute_result"
    }
   ],
   "source": [
    "# Implementing Random Forest Classifier\n",
    "from sklearn.ensemble import RandomForestClassifier\n",
    "import warnings\n",
    "warnings.filterwarnings(\"ignore\")\n",
    "# random forest model creation\n",
    "clf = RandomForestClassifier(n_estimators=100, max_depth=2,random_state=42)\n",
    "clf.fit(X_train[['Average_Rating','Normal Polarity']],y_train)"
   ]
  },
  {
   "cell_type": "code",
   "execution_count": 12,
   "metadata": {},
   "outputs": [],
   "source": [
    "clf_predict = clf.predict(X_train[['Average_Rating','Normal Polarity']])"
   ]
  },
  {
   "cell_type": "code",
   "execution_count": 13,
   "metadata": {},
   "outputs": [
    {
     "data": {
      "text/plain": [
       "0.9009009009009009"
      ]
     },
     "execution_count": 13,
     "metadata": {},
     "output_type": "execute_result"
    }
   ],
   "source": [
    "from sklearn.metrics import accuracy_score\n",
    "accuracy_score(y_train, clf_predict)"
   ]
  },
  {
   "cell_type": "code",
   "execution_count": 14,
   "metadata": {
    "scrolled": true
   },
   "outputs": [
    {
     "data": {
      "text/plain": [
       "array(['Bad Review'], dtype=object)"
      ]
     },
     "execution_count": 14,
     "metadata": {},
     "output_type": "execute_result"
    }
   ],
   "source": [
    "def perdictclassification(rating,comment):\n",
    "    Plo = TextBlob(comment).sentiment.polarity\n",
    "    Z = pd.Series([rating,Plo])\n",
    "    Prediction = clf.predict(pd.DataFrame(np.array([[rating,Plo]]),columns=['Average_Rating','Normal Polarity']))\n",
    "    return Prediction\n",
    "Prediction = perdictclassification(0.3,'Not enough healthy options on the menu or for purchase')\n",
    "Prediction\n",
    "label_encoder.inverse_transform(Prediction)"
   ]
  },
  {
   "cell_type": "code",
   "execution_count": 15,
   "metadata": {
    "scrolled": true
   },
   "outputs": [
    {
     "data": {
      "text/html": [
       "<div>\n",
       "<style scoped>\n",
       "    .dataframe tbody tr th:only-of-type {\n",
       "        vertical-align: middle;\n",
       "    }\n",
       "\n",
       "    .dataframe tbody tr th {\n",
       "        vertical-align: top;\n",
       "    }\n",
       "\n",
       "    .dataframe thead th {\n",
       "        text-align: right;\n",
       "    }\n",
       "</style>\n",
       "<table border=\"1\" class=\"dataframe\">\n",
       "  <thead>\n",
       "    <tr style=\"text-align: right;\">\n",
       "      <th></th>\n",
       "      <th>Comments</th>\n",
       "      <th>Target</th>\n",
       "      <th>Predictions</th>\n",
       "    </tr>\n",
       "  </thead>\n",
       "  <tbody>\n",
       "    <tr>\n",
       "      <th>0</th>\n",
       "      <td>My kids and I all absolutely loved it!</td>\n",
       "      <td>1</td>\n",
       "      <td>1</td>\n",
       "    </tr>\n",
       "    <tr>\n",
       "      <th>1</th>\n",
       "      <td>Really had a great time!</td>\n",
       "      <td>1</td>\n",
       "      <td>1</td>\n",
       "    </tr>\n",
       "    <tr>\n",
       "      <th>2</th>\n",
       "      <td>Room was not clean. Hair abs dirt on the floor...</td>\n",
       "      <td>0</td>\n",
       "      <td>0</td>\n",
       "    </tr>\n",
       "    <tr>\n",
       "      <th>3</th>\n",
       "      <td>There was only one server for the entire dinin...</td>\n",
       "      <td>0</td>\n",
       "      <td>0</td>\n",
       "    </tr>\n",
       "    <tr>\n",
       "      <th>4</th>\n",
       "      <td>Not a pleasant experience.</td>\n",
       "      <td>0</td>\n",
       "      <td>0</td>\n",
       "    </tr>\n",
       "  </tbody>\n",
       "</table>\n",
       "</div>"
      ],
      "text/plain": [
       "                                            Comments  Target  Predictions\n",
       "0             My kids and I all absolutely loved it!       1            1\n",
       "1                           Really had a great time!       1            1\n",
       "2  Room was not clean. Hair abs dirt on the floor...       0            0\n",
       "3  There was only one server for the entire dinin...       0            0\n",
       "4                        Not a pleasant experience.        0            0"
      ]
     },
     "execution_count": 15,
     "metadata": {},
     "output_type": "execute_result"
    }
   ],
   "source": [
    "output = pd.DataFrame(list(zip(X_train.Comment.values.tolist(), y_train.values.tolist(),clf_predict)), \n",
    "               columns =['Comments', 'Target','Predictions']) \n",
    "output.head()"
   ]
  },
  {
   "cell_type": "code",
   "execution_count": 40,
   "metadata": {},
   "outputs": [
    {
     "name": "stdout",
     "output_type": "stream",
     "text": [
      "0.7882882882882883\n"
     ]
    }
   ],
   "source": [
    "# random forest model creation with only Polarity\n",
    "from statistics import mean \n",
    "for i in range(100):\n",
    "    val = []\n",
    "    clf2 = RandomForestClassifier(n_estimators=100, max_depth=2,random_state=i)\n",
    "    clf2.fit(X_train[['Normal Polarity']],y_train)\n",
    "    clf2_predict = clf2.predict(X_train[['Normal Polarity']])\n",
    "    from sklearn.metrics import accuracy_score\n",
    "    val.append(accuracy_score(y_train, clf2_predict))\n",
    "print(mean(val))"
   ]
  },
  {
   "cell_type": "code",
   "execution_count": 41,
   "metadata": {},
   "outputs": [
    {
     "name": "stdout",
     "output_type": "stream",
     "text": [
      "0.8378378378378378\n"
     ]
    }
   ],
   "source": [
    "# random forest model creation with only Rating\n",
    "from statistics import mean \n",
    "for i in range(100):\n",
    "    val = []\n",
    "    clf2 = RandomForestClassifier(n_estimators=100, max_depth=2,random_state=i)\n",
    "    clf2.fit(X_train[['Average_Rating']],y_train)\n",
    "    clf2_predict = clf2.predict(X_train[['Average_Rating']])\n",
    "    from sklearn.metrics import accuracy_score\n",
    "    val.append(accuracy_score(y_train, clf2_predict))\n",
    "print(mean(val))    "
   ]
  },
  {
   "cell_type": "code",
   "execution_count": 42,
   "metadata": {},
   "outputs": [
    {
     "name": "stdout",
     "output_type": "stream",
     "text": [
      "0.9009009009009009\n"
     ]
    }
   ],
   "source": [
    "# random forest model creation with Rating and Polarity\n",
    "from statistics import mean \n",
    "for i in range(100):\n",
    "    val = []\n",
    "    clf2 = RandomForestClassifier(n_estimators=100, max_depth=2,random_state=42)\n",
    "    clf2.fit(X_train[['Average_Rating','Normal Polarity']],y_train)\n",
    "    clf2_predict = clf2.predict(X_train[['Average_Rating','Normal Polarity']])\n",
    "    from sklearn.metrics import accuracy_score\n",
    "    val.append(accuracy_score(y_train, clf2_predict))\n",
    "print(mean(val))   "
   ]
  }
 ],
 "metadata": {
  "kernelspec": {
   "display_name": "Python 3",
   "language": "python",
   "name": "python3"
  },
  "language_info": {
   "codemirror_mode": {
    "name": "ipython",
    "version": 3
   },
   "file_extension": ".py",
   "mimetype": "text/x-python",
   "name": "python",
   "nbconvert_exporter": "python",
   "pygments_lexer": "ipython3",
   "version": "3.7.0"
  }
 },
 "nbformat": 4,
 "nbformat_minor": 2
}
